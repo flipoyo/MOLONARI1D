{
 "cells": [
  {
   "cell_type": "markdown",
   "metadata": {},
   "source": [
    "#  ![logo](Figures/logo_MOLONARI_smll.png)  Hardware Programming\n",
    "\n",
    "This project focuses on the Molonari system, an environmental monitoring solution that integrates temperature and pressure sensors, data storage, and transmission via LoRa. Key components include the Adjust RTC for clock calibration, Relay/Relay_LoraWan for communication, and the Sensor module for data collection, storage in CSV format, and transmission. The system is designed for low power consumption to ensure efficient long-term operation. Sensor_demo serves as a simplified version for testing and presentation, while earlier code contributions in Archive_before form the foundational work for the project.\n"
   ]
  },
  {
   "cell_type": "markdown",
   "metadata": {},
   "source": [
    "## Adjust RTC\n",
    "\n",
    "\n",
    "The `Adjust_RTC` file contains a small code that handles the calibration of the real-time clock (RTC). It synchronizes time between internal and external RTC modules, adjusts the clock with a specified offset in seconds, and periodically displays the current time in a readable format via the serial port. This file ensures precise time management requiring reliable synchronization."
   ]
  },
  {
   "cell_type": "markdown",
   "metadata": {},
   "source": [
    "## Archive_before\n",
    "\n",
    "This file contains the functional modules and code contributions developed by students in 2022 and 2023, serving as the early foundation for the project's hardware programming, which were modified in 2024."
   ]
  },
  {
   "cell_type": "markdown",
   "metadata": {},
   "source": [
    "## Documentation\n",
    "\n",
    "Updated by Valeria\n",
    "\n",
    "The `Documentation` folder contains all the necessary files to understand and use the system. It includes detailed guides and technical references. Below is an overview of its main content:\n",
    "\n",
    "### Installation Guide_ENG: \n",
    "The Installation Guide provides a comprehensive step-by-step tutorial for setting up and configuring the MOLONARI sensor system. It covers the following aspects:\n",
    "* Prerequisites: A list of required hardware components (e.g., Arduino MKR WAN 1310, sensors, SD card module) and software tools (Arduino IDE, libraries).\n",
    "* Electrical Connections: Detailed wiring instructions, including sensor integration and SD card module setup, with references to pin mappings.\n",
    "* Code Setup: Instructions for uploading code to the sensor and relay boards, ensuring compatibility between hardware and software configurations.\n",
    "* Power Management: Guidelines for optimizing energy efficiency, such as powering sensors only during measurement cycles.\n",
    "* Final Assembly: Steps to assemble and secure the system for deployment, including sealing electronics in waterproof casings.\n",
    "* Troubleshooting: A dedicated section addressing common issues, including SD card malfunctions, connection errors, and debugging using serial communication.\n",
    "\n",
    "### SD Card-ENG: \n",
    "Explains how to configure and use the SD card for data storage or transfer. Includes recommendations for formatting and file structure.\n",
    "### Our LoRa protocol_ENG: \n",
    "This documentation provides a comprehensive guide to the design, implementation, and development of a custom local communication network protocol built on the LoRa physical layer for river monitoring. It outlines the system’s structure, challenges faced, solutions implemented, and future tasks to enhance functionality. Designed to equip future contributors with the knowledge to expand and refine the project, this guide ensures a smooth handover and successful progression.\n",
    "### Manuel clock_ENG: \n",
    "Helps resolve common issues by providing quick solutions to errors that might occur during installation or usage.\n",
    "##### Explaining the Riviere code:\n",
    "\n",
    "##### AtmoCONTROL_param:\n",
    "\n",
    "##### AtmoCONTROL_userguide:\n",
    "\n",
    "All files are organized for easy navigation and quick reference. If you’re looking for specific information, refer to the index included in each guide."
   ]
  },
  {
   "cell_type": "markdown",
   "metadata": {},
   "source": [
    "## Example transmission LoRa\n",
    "\n",
    "\n",
    "###  Receiver/Sender\n",
    "\n",
    "From 2023 \n",
    "\n",
    "This setup demonstrates basic wireless communication between two LoRa-enabled devices.\n",
    "\n",
    "### Rive_Lora/Riviere_Lora\n",
    "\n",
    "The **Rive_Lora** and **Riviere_Lora** codes are designed for LoRa communication in the Molonari system. **Rive_Lora** functions as a receiver, waiting for and storing incoming packets in a queue, then printing the data via serial after a handshake with the LoRa module. **Riviere_Lora** acts as the sender, creating a queue of messages and transmitting them to a relay address after establishing a connection. Both codes use LoRa for wireless communication, handle session management, and incorporate debugging and data logging features. The LED indicates the system's active status during operations."
   ]
  },
  {
   "cell_type": "markdown",
   "metadata": {},
   "source": [
    "## Relay/Relay_LoraWan\n",
    "\n",
    "\n",
    "### Relay\n",
    "\n",
    "This file serves as the firmware for the LoRa relay module in the Molonari system, designed to handle the transmission and display of measurement data. Its current functionalities include requesting measurements from sensors and printing them to the serial port, with plans to support data transmission to a server in the future. The firmware is primarily intended for the Arduino MKR WAN 1310 hardware platform and plays a key role in enabling wireless communication within the Molonari system.\n",
    "\n",
    "### Relay_LoraWan\n",
    "\n",
    "This code serves as a demonstration version of the previous LoRa relay module in the Molonari system. It highlights basic functionalities such as requesting data from sensors, printing via the serial port, and testing data transmission to the LoRaWAN network server. This version is intended for testing and presentation purposes and does not include full features or optimizations."
   ]
  },
  {
   "cell_type": "markdown",
   "metadata": {},
   "source": [
    "## Sensor/Sensor_demo\n",
    "\n",
    "\n",
    "### Sensor\n",
    "\n",
    "This firmware, designed for the **Molonari System** riverbed sensor node, integrates **data measurement**, **transmission**, and **storage** functionalities. It reads temperature and pressure data from sensors, transmits them to a server via **LoRa**, and saves the measurements in CSV format on an SD card. Key features include precise scheduling using a real-time clock (RTC), efficient low-power mode management, and debugging capabilities for **LoRa** and SD card operations. The system supports 4 calibrated temperature sensors and ensures reliable daily data collection and transmission, making it suitable for long-term environmental monitoring.\n",
    "\n",
    "### Sensor_demo\n",
    "\n",
    "This code is a demo for the Molonari system's riverbed sensor node, with functionalities including measuring data from temperature and pressure sensors, storing the data in a CSV file on an SD card, and transmitting the data to a server via LoRa. The code also supports low-power mode, entering standby after completing daily measurements until the next scheduled measurement. The required hardware includes an Arduino MKR WAN 1310 and a Featherwing Adalogger."
   ]
  }
 ],
 "metadata": {
  "kernelspec": {
   "display_name": "Python 3",
   "language": "python",
   "name": "python3"
  },
  "language_info": {
   "codemirror_mode": {
    "name": "ipython",
    "version": 3
   },
   "file_extension": ".py",
   "mimetype": "text/x-python",
   "name": "python",
   "nbconvert_exporter": "python",
   "pygments_lexer": "ipython3",
   "version": "3.12.7"
  }
 },
 "nbformat": 4,
 "nbformat_minor": 2
}
