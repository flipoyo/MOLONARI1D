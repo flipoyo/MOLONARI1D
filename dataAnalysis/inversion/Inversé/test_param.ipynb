{
 "cells": [
  {
   "cell_type": "code",
   "execution_count": 1,
   "metadata": {},
   "outputs": [
    {
     "name": "stderr",
     "output_type": "stream",
     "text": [
      "/Users/marcoul/opt/anaconda3/lib/python3.8/site-packages/pandas/core/computation/expressions.py:20: UserWarning: Pandas requires version '2.7.3' or newer of 'numexpr' (version '2.7.1' currently installed).\n",
      "  from pandas.core.computation.check import NUMEXPR_INSTALLED\n"
     ]
    }
   ],
   "source": [
    "import pandas as pd\n",
    "import numpy as np"
   ]
  },
  {
   "cell_type": "code",
   "execution_count": 2,
   "metadata": {},
   "outputs": [
    {
     "data": {
      "text/html": [
       "<div>\n",
       "<style scoped>\n",
       "    .dataframe tbody tr th:only-of-type {\n",
       "        vertical-align: middle;\n",
       "    }\n",
       "\n",
       "    .dataframe tbody tr th {\n",
       "        vertical-align: top;\n",
       "    }\n",
       "\n",
       "    .dataframe thead th {\n",
       "        text-align: right;\n",
       "    }\n",
       "</style>\n",
       "<table border=\"1\" class=\"dataframe\">\n",
       "  <thead>\n",
       "    <tr style=\"text-align: right;\">\n",
       "      <th></th>\n",
       "      <th>moinslog10K</th>\n",
       "      <th>n</th>\n",
       "      <th>lambda_s</th>\n",
       "      <th>rho_cs</th>\n",
       "      <th>regime</th>\n",
       "    </tr>\n",
       "    <tr>\n",
       "      <th>id</th>\n",
       "      <th></th>\n",
       "      <th></th>\n",
       "      <th></th>\n",
       "      <th></th>\n",
       "      <th></th>\n",
       "    </tr>\n",
       "  </thead>\n",
       "  <tbody>\n",
       "    <tr>\n",
       "      <th>13</th>\n",
       "      <td>8.993473</td>\n",
       "      <td>0.200170</td>\n",
       "      <td>3.971283</td>\n",
       "      <td>3.236277e+06</td>\n",
       "      <td>1</td>\n",
       "    </tr>\n",
       "    <tr>\n",
       "      <th>14</th>\n",
       "      <td>8.192690</td>\n",
       "      <td>0.045820</td>\n",
       "      <td>1.003889</td>\n",
       "      <td>9.936161e+06</td>\n",
       "      <td>-1</td>\n",
       "    </tr>\n",
       "    <tr>\n",
       "      <th>34</th>\n",
       "      <td>7.615792</td>\n",
       "      <td>0.199497</td>\n",
       "      <td>6.120214</td>\n",
       "      <td>4.970023e+06</td>\n",
       "      <td>1</td>\n",
       "    </tr>\n",
       "    <tr>\n",
       "      <th>35</th>\n",
       "      <td>8.757264</td>\n",
       "      <td>0.231112</td>\n",
       "      <td>3.716705</td>\n",
       "      <td>5.358492e+06</td>\n",
       "      <td>-1</td>\n",
       "    </tr>\n",
       "    <tr>\n",
       "      <th>46</th>\n",
       "      <td>8.955350</td>\n",
       "      <td>0.201096</td>\n",
       "      <td>2.731950</td>\n",
       "      <td>9.035180e+06</td>\n",
       "      <td>-1</td>\n",
       "    </tr>\n",
       "    <tr>\n",
       "      <th>48</th>\n",
       "      <td>7.943059</td>\n",
       "      <td>0.210563</td>\n",
       "      <td>7.197232</td>\n",
       "      <td>2.951452e+06</td>\n",
       "      <td>-1</td>\n",
       "    </tr>\n",
       "    <tr>\n",
       "      <th>50</th>\n",
       "      <td>9.234397</td>\n",
       "      <td>0.007798</td>\n",
       "      <td>8.717235</td>\n",
       "      <td>5.478358e+05</td>\n",
       "      <td>1</td>\n",
       "    </tr>\n",
       "    <tr>\n",
       "      <th>51</th>\n",
       "      <td>8.593209</td>\n",
       "      <td>0.164595</td>\n",
       "      <td>3.279334</td>\n",
       "      <td>2.432444e+07</td>\n",
       "      <td>1</td>\n",
       "    </tr>\n",
       "  </tbody>\n",
       "</table>\n",
       "</div>"
      ],
      "text/plain": [
       "    moinslog10K         n  lambda_s        rho_cs  regime\n",
       "id                                                       \n",
       "13     8.993473  0.200170  3.971283  3.236277e+06       1\n",
       "14     8.192690  0.045820  1.003889  9.936161e+06      -1\n",
       "34     7.615792  0.199497  6.120214  4.970023e+06       1\n",
       "35     8.757264  0.231112  3.716705  5.358492e+06      -1\n",
       "46     8.955350  0.201096  2.731950  9.035180e+06      -1\n",
       "48     7.943059  0.210563  7.197232  2.951452e+06      -1\n",
       "50     9.234397  0.007798  8.717235  5.478358e+05       1\n",
       "51     8.593209  0.164595  3.279334  2.432444e+07       1"
      ]
     },
     "execution_count": 2,
     "metadata": {},
     "output_type": "execute_result"
    }
   ],
   "source": [
    "df = pd.read_csv('params.csv', sep=\",\", index_col=0)\n",
    "df"
   ]
  }
 ],
 "metadata": {
  "kernelspec": {
   "display_name": "base",
   "language": "python",
   "name": "python3"
  },
  "language_info": {
   "codemirror_mode": {
    "name": "ipython",
    "version": 3
   },
   "file_extension": ".py",
   "mimetype": "text/x-python",
   "name": "python",
   "nbconvert_exporter": "python",
   "pygments_lexer": "ipython3",
   "version": "3.8.5"
  }
 },
 "nbformat": 4,
 "nbformat_minor": 2
}
