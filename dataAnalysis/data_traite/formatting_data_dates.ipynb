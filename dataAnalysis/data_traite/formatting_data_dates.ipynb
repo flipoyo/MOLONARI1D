{
 "cells": [
  {
   "cell_type": "markdown",
   "metadata": {},
   "source": [
    "### Notebook to format dates in the point 46, 47, 48 csv files, to avoid dates being in different formats (all in classic format dd/mm/yyyy)"
   ]
  },
  {
   "cell_type": "code",
   "execution_count": 14,
   "metadata": {},
   "outputs": [
    {
     "name": "stdout",
     "output_type": "stream",
     "text": [
      "6\n"
     ]
    }
   ],
   "source": [
    "import os \n",
    "\n",
    "path = \"C:/Users/alexa/2A/MOLONARI1D/dataAnalysis/data_traite\"\n",
    "os.listdir(path)[2:]\n",
    "\n",
    "L=['point46_pression_traité.csv', 'point46_temperature_traité.csv', 'point47_pression_traité.csv', 'point47_temperature_traité.csv', 'point48_pression_traité.csv', 'point48_temperature_traité.csv']\n",
    "l=[]\n",
    "for file in L:\n",
    "    with open(path+'/'+file, 'r') as f:\n",
    "        lines = f.readlines()\n",
    "        l.append(lines)\n",
    "\n"
   ]
  }
 ],
 "metadata": {
  "kernelspec": {
   "display_name": "base",
   "language": "python",
   "name": "python3"
  },
  "language_info": {
   "codemirror_mode": {
    "name": "ipython",
    "version": 3
   },
   "file_extension": ".py",
   "mimetype": "text/x-python",
   "name": "python",
   "nbconvert_exporter": "python",
   "pygments_lexer": "ipython3",
   "version": "3.12.4"
  }
 },
 "nbformat": 4,
 "nbformat_minor": 2
}
