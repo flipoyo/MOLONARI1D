{
 "cells": [
  {
   "cell_type": "markdown",
   "metadata": {},
   "source": [
    "### Notebook to format dates in the point 46, 47, 48 csv files, to avoid dates being in different formats (all in classic format dd/mm/yyyy)"
   ]
  },
  {
   "cell_type": "code",
   "execution_count": 23,
   "metadata": {},
   "outputs": [],
   "source": [
    "import os \n",
    "import pandas as pd\n",
    "import numpy as np\n",
    "\n",
    "path = \"C:/Users/alexa/2A/MOLONARI1D/dataAnalysis/data_traite\"\n",
    "os.listdir(path)[2:]\n",
    "\n",
    "L=['point46_pression_traité.csv', 'point46_temperature_traité.csv', 'point47_pression_traité.csv', 'point47_temperature_traité.csv', 'point48_pression_traité.csv', 'point48_temperature_traité.csv']\n",
    "\n",
    "for file in L:\n",
    "    k=0\n",
    "    with open(path+'/'+file, 'r') as f:\n",
    "        data = f.readlines()\n",
    "        f.close()\n",
    "    with open('new_' + file, 'w') as new_file:\n",
    "        new_file.write(data[0])\n",
    "        new_file.write(data[1])\n",
    "        for i, line in enumerate(data[2:]):\n",
    "            if k==0:\n",
    "                if int(line[0:2]) == int(data[i+1][0:2]) or int(line[0:2]) == int(data[i+1][0:2]) + 1:\n",
    "                    new_file.write(line)\n",
    "                else:\n",
    "                    k=1\n",
    "                    nd = line[3:5]\n",
    "                    nm = line[0:2]\n",
    "                    line = nd + line[2] + nm + line[5:]\n",
    "                    new_file.write(line)\n",
    "                    data[i+2] = line\n",
    "            elif k==1:\n",
    "                nd = line[3:5]\n",
    "                nm = line[0:2]\n",
    "                if int(line[3:5])==int(data[i+1][0:2]) or int(line[3:5])==int(data[i+1][0:2])+1:\n",
    "                    line = nd + line[2] + nm + line[5:]\n",
    "                    new_file.write(line)\n",
    "                    data[i+2] = line\n",
    "                else:\n",
    "                    k=0\n",
    "                    new_file.write(line)"
   ]
  },
  {
   "cell_type": "code",
   "execution_count": 24,
   "metadata": {},
   "outputs": [],
   "source": [
    "def convertDates(df: pd.DataFrame):\n",
    "    \"\"\"\n",
    "    Convert dates from a list of strings by testing several different input formats\n",
    "    Try all date formats already encountered in data points\n",
    "    If none of them is OK, try the generic way (None)\n",
    "    If the generic way doesn't work, this method fails\n",
    "    (in that case, you should add the new format to the list)\n",
    "    \n",
    "    This function works directly on the giving Pandas dataframe (in place)\n",
    "    This function assumes that the first column of the given Pandas dataframe\n",
    "    contains the dates as characters string type\n",
    "    \n",
    "    For datetime conversion performance, see:\n",
    "    See https://stackoverflow.com/questions/40881876/python-pandas-convert-datetime-to-timestamp-effectively-through-dt-accessor\n",
    "    \"\"\"\n",
    "    formats = (\"%m/%d/%y %H:%M:%S\", \"%m/%d/%y %I:%M:%S %p\",\n",
    "               \"%d/%m/%y %H:%M\",    \"%d/%m/%y %I:%M %p\",\n",
    "               \"%m/%d/%Y %H:%M:%S\", \"%m/%d/%Y %I:%M:%S %p\", \n",
    "               \"%d/%m/%Y %H:%M\",    \"%d/%m/%Y %I:%M %p\",\n",
    "               \"%y/%m/%d %H:%M:%S\", \"%y/%m/%d %I:%M:%S %p\", \n",
    "               \"%y/%m/%d %H:%M\",    \"%y/%m/%d %I:%M %p\",\n",
    "               \"%Y/%m/%d %H:%M:%S\", \"%Y/%m/%d %I:%M:%S %p\", \n",
    "               \"%Y/%m/%d %H:%M\",    \"%Y/%m/%d %I:%M %p\",\n",
    "               None)\n",
    "    times = df[df.columns[0]]\n",
    "    for f in formats:\n",
    "        try:\n",
    "            # Convert strings to datetime objects\n",
    "            new_times = pd.to_datetime(times, format=f)\n",
    "            # Convert datetime series to numpy array of integers (timestamps)\n",
    "            new_ts = new_times.values.astype(np.int64)\n",
    "            # If times are not ordered, this is not the appropriate format\n",
    "            test = np.sort(new_ts) - new_ts\n",
    "            if np.sum(abs(test)) != 0 :\n",
    "                #print(\"Order is not the same\")\n",
    "                raise ValueError()\n",
    "            # Else, the conversion is a success\n",
    "            #print(\"Found format \", f)\n",
    "            df[df.columns[0]] = new_times\n",
    "            return\n",
    "        \n",
    "        except ValueError:\n",
    "            #print(\"Format \", f, \" not valid\")\n",
    "            continue\n",
    "    \n",
    "    # None of the known format are valid\n",
    "    raise ValueError(\"Cannot convert dates: No known formats match your data!\")\n"
   ]
  },
  {
   "cell_type": "code",
   "execution_count": 25,
   "metadata": {},
   "outputs": [
    {
     "name": "stderr",
     "output_type": "stream",
     "text": [
      "C:\\Users\\alexa\\AppData\\Local\\Temp\\ipykernel_7720\\1511527849.py:29: UserWarning: Parsing dates in %d-%m-%Y %H:%M format when dayfirst=False (the default) was specified. Pass `dayfirst=True` or specify a format to silence this warning.\n",
      "  new_times = pd.to_datetime(times, format=f)\n"
     ]
    }
   ],
   "source": [
    "#Testing if convertDates works\n",
    "\n",
    "df = pd.read_csv('new_point46_pression_traité.csv')\n",
    "convertDates(df)\n",
    "\n",
    "#Working "
   ]
  }
 ],
 "metadata": {
  "kernelspec": {
   "display_name": "base",
   "language": "python",
   "name": "python3"
  },
  "language_info": {
   "codemirror_mode": {
    "name": "ipython",
    "version": 3
   },
   "file_extension": ".py",
   "mimetype": "text/x-python",
   "name": "python",
   "nbconvert_exporter": "python",
   "pygments_lexer": "ipython3",
   "version": "3.12.4"
  }
 },
 "nbformat": 4,
 "nbformat_minor": 2
}
