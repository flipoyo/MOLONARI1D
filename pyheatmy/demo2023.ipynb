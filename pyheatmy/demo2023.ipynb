{
 "cells": [
  {
   "cell_type": "markdown",
   "metadata": {},
   "source": [
    "# Notebook de demo pour pyheatmy2023\n",
    "\n",
    "Ce notebook a pour but de présenter les différentes fonctionnalités du code pyheatme. Il explique notamment comment :\n",
    "- créer un objet ``Column`` à partir d'une lecture des dates facilitées\n",
    "- exécuter le modèle direct, en version homogène ou stratifiée\n",
    "- exécuter la MCMC\n",
    "- récupérer et afficher les différents résultats produits lors des exécutions du modèle direct ou de la MCMC\n",
    "\n",
    "Il s'appuie sur des données réelles, que l'on peut trouver dans le dossier ``data``.\n",
    "\n",
    "Nous recommandons la lecture de l'API pour plus de détails. Voici son lien : https://docs.google.com/document/d/10Dg6cG3xIiW4Z16mf82bxy_PIjElxOtVL6GUOn6Fwqw/edit#heading=h.b6p58tg5djyo"
   ]
  },
  {
   "cell_type": "code",
   "execution_count": 1,
   "metadata": {},
   "outputs": [],
   "source": [
    "from pyheatmy import *\n",
    "import matplotlib.pyplot as plt\n",
    "import numpy as np\n",
    "import pandas as pd\n",
    "\n"
   ]
  },
  {
   "cell_type": "markdown",
   "metadata": {},
   "source": [
    "## 1. Chargement des données et définition d'un objet ``Column``\n",
    "\n",
    "On doit d'abord récupérer les données issues des capteurs, qui se trouvent dans le dossier ``data``."
   ]
  },
  {
   "cell_type": "code",
   "execution_count": 2,
   "metadata": {},
   "outputs": [],
   "source": [
    "capteur_riviere = pd.read_csv(\"./data/Point034_processed/processed_pressures.csv\", sep = ',', names = ['dates', 'tension', 'temperature_riviere'], skiprows=1)\n",
    "capteur_ZH = pd.read_csv(\"./data/Point034_processed/processed_temperatures.csv\", sep = ',', names = ['dates', 'temperature_10', 'temperature_20', 'temperature_30', 'temperature_40'], skiprows=1)\n",
    "etalonage_capteur_riv = pd.read_csv(\"./configuration/pressure_sensors/P508.csv\")"
   ]
  },
  {
   "cell_type": "markdown",
   "metadata": {},
   "source": [
    "On définit une fonction pour convertir les dates des dataframe, cela peut éviter certains problèmes."
   ]
  },
  {
   "cell_type": "code",
   "execution_count": 3,
   "metadata": {},
   "outputs": [],
   "source": [
    "def convertDates(df: pd.DataFrame):\n",
    "    \"\"\"\n",
    "    Convert dates from a list of strings by testing several different input formats\n",
    "    Try all date formats already encountered in data points\n",
    "    If none of them is OK, try the generic way (None)\n",
    "    If the generic way doesn't work, this method fails\n",
    "    (in that case, you should add the new format to the list)\n",
    "    \n",
    "    This function works directly on the giving Pandas dataframe (in place)\n",
    "    This function assumes that the first column of the given Pandas dataframe\n",
    "    contains the dates as characters string type\n",
    "    \n",
    "    For datetime conversion performance, see:\n",
    "    See https://stackoverflow.com/questions/40881876/python-pandas-convert-datetime-to-timestamp-effectively-through-dt-accessor\n",
    "    \"\"\"\n",
    "    formats = (\"%m/%d/%y %H:%M:%S\", \"%m/%d/%y %I:%M:%S %p\",\n",
    "               \"%d/%m/%y %H:%M\",    \"%d/%m/%y %I:%M %p\",\n",
    "               \"%m/%d/%Y %H:%M:%S\", \"%m/%d/%Y %I:%M:%S %p\", \n",
    "               \"%d/%m/%Y %H:%M\",    \"%d/%m/%Y %I:%M %p\",\n",
    "               \"%y/%m/%d %H:%M:%S\", \"%y/%m/%d %I:%M:%S %p\", \n",
    "               \"%y/%m/%d %H:%M\",    \"%y/%m/%d %I:%M %p\",\n",
    "               \"%Y/%m/%d %H:%M:%S\", \"%Y/%m/%d %I:%M:%S %p\", \n",
    "               \"%Y/%m/%d %H:%M\",    \"%Y/%m/%d %I:%M %p\",\n",
    "               None)\n",
    "    times = df[df.columns[0]]\n",
    "    for f in formats:\n",
    "        try:\n",
    "            # Convert strings to datetime objects\n",
    "            new_times = pd.to_datetime(times, format=f)\n",
    "            # Convert datetime series to numpy array of integers (timestamps)\n",
    "            new_ts = new_times.values.astype(np.int64)\n",
    "            # If times are not ordered, this is not the appropriate format\n",
    "            test = np.sort(new_ts) - new_ts\n",
    "            if np.sum(abs(test)) != 0 :\n",
    "                #print(\"Order is not the same\")\n",
    "                raise ValueError()\n",
    "            # Else, the conversion is a success\n",
    "            #print(\"Found format \", f)\n",
    "            df[df.columns[0]] = new_times\n",
    "            return\n",
    "        \n",
    "        except ValueError:\n",
    "            #print(\"Format \", f, \" not valid\")\n",
    "            continue\n",
    "    \n",
    "    # None of the known format are valid\n",
    "    raise ValueError(\"Cannot convert dates: No known formats match your data!\")\n",
    "\n",
    "convertDates(capteur_riviere)\n",
    "convertDates(capteur_ZH)"
   ]
  },
  {
   "cell_type": "markdown",
   "metadata": {},
   "source": [
    "On définit les objets ``dH_measures`` et ``T_measures``, nécessaires à la création d'un objet ``Column``, qui réalisera les calculs :\n",
    "- ``dH_measures`` contient les dates des mesures, les mesures de différence de charge, et les températures de la rivière.\n",
    "- ``T_measures`` contient les dates des mesures, et les températures mesurées par les 4 capteurs de la tige."
   ]
  },
  {
   "cell_type": "code",
   "execution_count": 4,
   "metadata": {},
   "outputs": [],
   "source": [
    "# set seed for reproducibility\n",
    "np.random.seed(0)\n",
    "\n",
    "# conversion des mesures de pression\n",
    "intercept = float(etalonage_capteur_riv['P508'][2])\n",
    "a = float(etalonage_capteur_riv['P508'][3])\n",
    "b = float(etalonage_capteur_riv['P508'][4])\n",
    "capteur_riviere['dH'] = (capteur_riviere['tension'].astype(float)-intercept-capteur_riviere['temperature_riviere'].astype(float)*b)/a\n",
    "\n",
    "# conversion mesures de tempétratures\n",
    "capteur_riviere['temperature_riviere'] = capteur_riviere['temperature_riviere'] + ZERO_CELSIUS\n",
    "capteur_ZH['temperature_10'] = capteur_ZH['temperature_10'] + ZERO_CELSIUS\n",
    "capteur_ZH['temperature_20'] = capteur_ZH['temperature_20'] + ZERO_CELSIUS\n",
    "capteur_ZH['temperature_30'] = capteur_ZH['temperature_30'] + ZERO_CELSIUS\n",
    "capteur_ZH['temperature_40'] = capteur_ZH['temperature_40'] + ZERO_CELSIUS\n",
    "\n",
    "# définition des attributs de colonnes\n",
    "dH_measures = list(zip(capteur_riviere['dates'],list(zip(capteur_riviere['dH'], capteur_riviere['temperature_riviere']))))\n",
    "T_measures = list(zip(capteur_ZH['dates'], capteur_ZH[['temperature_10', 'temperature_20', 'temperature_30', 'temperature_40']].to_numpy()))"
   ]
  },
  {
   "cell_type": "markdown",
   "metadata": {},
   "source": [
    "On définit maintenant l'objet ``Column`` à partir d'un dictionnaire."
   ]
  },
  {
   "cell_type": "code",
   "execution_count": 5,
   "metadata": {},
   "outputs": [],
   "source": [
    "col_dict = {\n",
    "\t\"river_bed\": 1., \n",
    "    \"depth_sensors\": [.1, .2, .3, .4],\n",
    "\t\"offset\": .0,\n",
    "    \"dH_measures\": dH_measures,\n",
    "\t\"T_measures\": T_measures,\n",
    "    \"sigma_meas_P\": None,\n",
    "    \"sigma_meas_T\": None,\n",
    "    \"inter_mode\": 'lagrange'\n",
    "}\n",
    "\n",
    "col = Column.from_dict(col_dict)"
   ]
  },
  {
   "cell_type": "markdown",
   "metadata": {},
   "source": [
    "L'objet créé a déjà un certain nombre d'attributs, certains étant initialisés. Se reporter au code ``core.py``."
   ]
  },
  {
   "cell_type": "code",
   "execution_count": 6,
   "metadata": {},
   "outputs": [],
   "source": [
    "temps_en_jours = np.array([i for i in range(len(col._times))]) / (4*24)"
   ]
  },
  {
   "cell_type": "markdown",
   "metadata": {},
   "source": [
    "## 2. Modèle direct\n",
    "\n",
    "Le modèle direct calcule les températures au cours du temps dans la colonne. Ensuite, on a accès aux flux, à la RMSE...\n",
    "\n",
    "### 2.1. Colonne homogène\n",
    "\n",
    "Pour une colonne homogène, on définit un seul jeu de paramètres, par un tuple ou via la classe ``Param`` :"
   ]
  },
  {
   "cell_type": "code",
   "execution_count": 7,
   "metadata": {},
   "outputs": [],
   "source": [
    "params = Param(\n",
    "    moinslog10K = 4,\n",
    "    n = .1,\n",
    "    lambda_s = 2,\n",
    "    rhos_cs = 4e6\n",
    ")\n",
    "\n",
    "params_tuple = (4, .1, 2, 4e6)\n",
    "\n",
    "assert params == params_tuple"
   ]
  },
  {
   "cell_type": "markdown",
   "metadata": {},
   "source": [
    "Puis on appelle le modèle direct :"
   ]
  },
  {
   "cell_type": "code",
   "execution_count": null,
   "metadata": {},
   "outputs": [],
   "source": [
    "col.compute_solve_transi(params, nb_cells=100)"
   ]
  },
  {
   "cell_type": "markdown",
   "metadata": {},
   "source": [
    "### 2.2. Colonne stratifiée\n",
    "\n",
    "Pour une colonne stratifiée, on doit d'abord définir une liste d'objets ``Layer`` :"
   ]
  },
  {
   "cell_type": "code",
   "execution_count": 9,
   "metadata": {},
   "outputs": [],
   "source": [
    "layers_list = layersListCreator([(\"Couche 1\", 0.20, 4+7, 0.1, 2, 4e6), (\"Couche 2\", 0.40, 6+7, 0.1, 2+1, 4e6)])"
   ]
  },
  {
   "cell_type": "markdown",
   "metadata": {},
   "source": [
    "Puis on appelle le modèle direct :"
   ]
  },
  {
   "cell_type": "code",
   "execution_count": null,
   "metadata": {},
   "outputs": [],
   "source": [
    "col.compute_solve_transi(layers_list, nb_cells=100)"
   ]
  },
  {
   "cell_type": "code",
   "execution_count": null,
   "metadata": {},
   "outputs": [],
   "source": [
    "#import os\n",
    "col.print_in_file_processed_MOLONARI_dataset()"
   ]
  },
  {
   "cell_type": "markdown",
   "metadata": {},
   "source": [
    "### 2.3. Récupération des résultats\n",
    "\n",
    "**Attention : les paramètres utilisés étant arbitraires, les résultats peuvent ne pas avoir de sens physique.**\n",
    "\n",
    "On peut récupérer les températures calculées :"
   ]
  },
  {
   "cell_type": "code",
   "execution_count": null,
   "metadata": {},
   "outputs": [],
   "source": [
    "col.plot_temperature_at_sensors()"
   ]
  },
  {
   "cell_type": "code",
   "execution_count": null,
   "metadata": {},
   "outputs": [],
   "source": [
    "temperatures = col.get_temps_solve() - ZERO_CELSIUS\n",
    "fig, ax = plt.subplots(figsize=(10, 5), facecolor = 'w')\n",
    "\n",
    "im = ax.imshow(\n",
    "    temperatures,\n",
    "    aspect = \"auto\",\n",
    "    extent = [0, temps_en_jours[-1], col.depths_solve[-1], col.depths_solve[0]],\n",
    "    cmap = \"Spectral_r\"\n",
    ")\n",
    "\n",
    "ax.set_xlabel(\"time\")\n",
    "ax.set_ylabel(\"depth (m)\")\n",
    "ax.set_title(\"Températures en °C\")\n",
    "plt.colorbar(im)\n",
    "plt.show()"
   ]
  },
  {
   "cell_type": "code",
   "execution_count": null,
   "metadata": {},
   "outputs": [],
   "source": [
    "title=\"Températures en °C from col\"\n",
    "col.plot_it_Zt(temperatures,title)"
   ]
  },
  {
   "cell_type": "markdown",
   "metadata": {},
   "source": [
    "Les débits :"
   ]
  },
  {
   "cell_type": "code",
   "execution_count": null,
   "metadata": {},
   "outputs": [],
   "source": [
    "flows = col.get_flows_solve()\n",
    "\n",
    "fig, ax = plt.subplots(figsize=(10, 5), facecolor = 'w')\n",
    "\n",
    "im = ax.imshow(\n",
    "    flows,\n",
    "    aspect = \"auto\",\n",
    "    extent = [0, temps_en_jours[-1], col.depths_solve[-1], col.depths_solve[0]],\n",
    "    cmap = \"Spectral_r\"\n",
    ")\n",
    "\n",
    "ax.set_xlabel(\"time\")\n",
    "ax.set_ylabel(\"depth (m)\")\n",
    "ax.set_title(\"Débits en m/s\")\n",
    "plt.colorbar(im)\n",
    "plt.show()"
   ]
  },
  {
   "cell_type": "code",
   "execution_count": null,
   "metadata": {},
   "outputs": [],
   "source": [
    "title=\"Débits en m/s from col\"\n",
    "col.plot_it_Zt(flows,title)"
   ]
  },
  {
   "cell_type": "markdown",
   "metadata": {},
   "source": [
    "Les flux advectifs et conductifs :"
   ]
  },
  {
   "cell_type": "code",
   "execution_count": null,
   "metadata": {},
   "outputs": [],
   "source": [
    "flux_advectifs = col.get_advec_flows_solve()\n",
    "flux_conductifs = col.get_conduc_flows_solve()\n",
    "\n",
    "fig, axes = plt.subplots(1, 2, figsize=(15, 5), facecolor = 'w')\n",
    "\n",
    "im0 = axes[0].imshow(\n",
    "    flux_advectifs,\n",
    "    aspect = \"auto\",\n",
    "    extent = [0, temps_en_jours[-1], col.depths_solve[-1], col.depths_solve[0]],\n",
    "    cmap = 'Spectral_r'\n",
    ")\n",
    "\n",
    "axes[0].set_xlabel(\"temps (j)\")\n",
    "axes[0].set_ylabel(\"profondeur (m)\")\n",
    "axes[0].set_title(\"Flux advectif en W/m^2\")\n",
    "plt.colorbar(im0, ax=axes[0])\n",
    "\n",
    "im1 = axes[1].imshow(\n",
    "    flux_conductifs,\n",
    "    aspect = \"auto\",\n",
    "    extent = [0, temps_en_jours[-1], col.depths_solve[-1], col.depths_solve[0]],\n",
    "    cmap = 'Spectral_r'\n",
    ")\n",
    "\n",
    "axes[1].set_xlabel(\"temps (j)\")\n",
    "axes[1].set_ylabel(\"profondeur (m)\")\n",
    "axes[1].set_title(\"Flux conductifs en W/m^2\")\n",
    "plt.colorbar(im1, ax=axes[1])\n",
    "\n",
    "plt.show()"
   ]
  },
  {
   "cell_type": "markdown",
   "metadata": {},
   "source": [
    "On peut aussi afficher tout d'un seul coup : (si on a la bonne version de matplotlib)"
   ]
  },
  {
   "cell_type": "code",
   "execution_count": null,
   "metadata": {},
   "outputs": [],
   "source": [
    "len(col._times)\n",
    "col.plot_CALC_results()\n"
   ]
  },
  {
   "cell_type": "markdown",
   "metadata": {},
   "source": [
    "On peut calculer la RMSE, et visualiser l'écart entre notre modèle **(avec des paramètres arbitraires, donc mauvais)** et les mesures."
   ]
  },
  {
   "cell_type": "code",
   "execution_count": null,
   "metadata": {},
   "outputs": [],
   "source": [
    "rmse = col.get_RMSE()\n",
    "print(f\"RMSE premier capteur : {rmse[0]}\")\n",
    "print(f\"RMSE deuxième capteur : {rmse[1]}\")\n",
    "print(f\"RMSE troisème capteur : {rmse[2]}\")\n",
    "print(f\"RMSE globale : {rmse[3]}\")"
   ]
  },
  {
   "cell_type": "code",
   "execution_count": null,
   "metadata": {},
   "outputs": [],
   "source": [
    "fig, axes = plt.subplots(1, 3, figsize = (20, 5), sharey=True)\n",
    "\n",
    "axes[0].set_ylabel(\"Température en °C\")\n",
    "\n",
    "for i, id in enumerate(col.get_id_sensors()):\n",
    "    axes[i].set_xlabel(\"Temps (j)\")\n",
    "    axes[i].plot(temps_en_jours, col._T_measures[:, i] - ZERO_CELSIUS, label=\"Mesures\")\n",
    "    axes[i].plot(temps_en_jours, col.get_temps_solve()[id] - ZERO_CELSIUS, label=\"Modèle\")\n",
    "    axes[i].legend()\n",
    "    axes[i].set_title(f\"Capteur {i+1}\")\n",
    "\n",
    "plt.subplots_adjust(wspace=0.05)"
   ]
  },
  {
   "cell_type": "markdown",
   "metadata": {},
   "source": [
    "## 3. Inférence bayésienne\n",
    "\n",
    "L'inférence bayésienne va nous permettre d'estimer une distribution a posteriori pour chaque paramètre.\n",
    "\n",
    "### 3.1. MCMC sans estimation de l'erreur\n",
    "\n",
    "On peut lancer une MCMC en gardant $\\sigma^2$ constant. On définit des distributions a priori pour chaque couche :"
   ]
  },
  {
   "cell_type": "code",
   "execution_count": 21,
   "metadata": {},
   "outputs": [],
   "source": [
    "priors_couche_1 = {\n",
    "    \"moinslog10K\": ((4+7, 9+7), .01), # (intervalle, sigma)\n",
    "    \"n\": ((.001, .25), .005),\n",
    "    \"lambda_s\": ((1, 10), .1),\n",
    "    \"rhos_cs\": ((1e6,1e7), 1e5),\n",
    "}\n",
    "\n",
    "priors_couche_2 = {\n",
    "    \"moinslog10K\": ((4+7, 9+7), .01), # (intervalle, sigma)\n",
    "    \"n\": ((.001, .25), .005),\n",
    "    \"lambda_s\": ((1, 10), .1),\n",
    "    \"rhos_cs\": ((1e6,1e7), 1e5),\n",
    "}\n",
    "\n",
    "priors_couche_3 = {\n",
    "    \"moinslog10K\": ((4+7, 9+7), .01), # (intervalle, sigma)\n",
    "    \"n\": ((.001, .25), .005),\n",
    "    \"lambda_s\": ((1, 10), .1),\n",
    "    \"rhos_cs\": ((1e6,1e7), 1e5),\n",
    "}"
   ]
  },
  {
   "cell_type": "markdown",
   "metadata": {},
   "source": [
    "On les regroupe dans une liste, avant de lancer la MCMC :"
   ]
  },
  {
   "cell_type": "code",
   "execution_count": null,
   "metadata": {},
   "outputs": [],
   "source": [
    "all_priors = [\n",
    "    ['Couche 1', 0.15, priors_couche_1],\n",
    "    ['Couche 2', 0.25, priors_couche_2],\n",
    "    ['Couche 3', 0.4, priors_couche_3],\n",
    "]\n",
    "\n",
    "col.compute_mcmc(\n",
    "    nb_iter = 100,\n",
    "    all_priors = all_priors,\n",
    "    nb_cells = 100,\n",
    "    sigma2=1.0\n",
    ")"
   ]
  },
  {
   "cell_type": "markdown",
   "metadata": {},
   "source": [
    "### 3.2. MCMC avec estimation de l'erreur\n",
    "\n",
    "Pour lancer une MCMC avec estimation de la distribution de $\\sigma^2$, il suffit d'ajouter une distribution a priori sur ce paramètre. On utilise pour cela la classe ``Prior``, qui est initialisée avec :\n",
    "- un tuple pour l'intervalle dans lequel le paramètre varie\n",
    "- un écart type pour la marche aléatoire\n",
    "- une densité"
   ]
  },
  {
   "cell_type": "code",
   "execution_count": null,
   "metadata": {},
   "outputs": [],
   "source": [
    "sigma_prior = Prior((0.1, np.inf), 0.1, lambda x : 1/x)\n",
    "\n",
    "col.compute_mcmc(\n",
    "    nb_iter = 100,\n",
    "    all_priors = all_priors,\n",
    "    nb_cells = 100,\n",
    "    sigma2_temp_prior = sigma_prior\n",
    ")"
   ]
  },
  {
   "cell_type": "markdown",
   "metadata": {},
   "source": [
    "### 3.3. Récupération des distributions de paramètres\n",
    "\n",
    "On va refaire une MCMC (avec un nombre acceptable d'itérations) et récupérer les distributions de paramètres."
   ]
  },
  {
   "cell_type": "code",
   "execution_count": 24,
   "metadata": {},
   "outputs": [
    {
     "name": "stdout",
     "output_type": "stream",
     "text": [
      "DREAM MCMC Computation:  92%|█████████▏| 4575/5000 [02:32<00:14, 30.34it/s]"
     ]
    }
   ],
   "source": [
    "priors_couche_1 = {\n",
    "    \"moinslog10K\": ((4+7, 9+7), .01), # (intervalle, sigma)\n",
    "    \"n\": ((.001, .25), .005),\n",
    "    \"lambda_s\": ((1, 10), .1),\n",
    "    \"rhos_cs\": ((1e6,1e7), 1e5),\n",
    "}\n",
    "\n",
    "priors_couche_2 = {\n",
    "    \"moinslog10K\": ((4+7, 9+7), .01), # (intervalle, sigma)\n",
    "    \"n\": ((.001, .25), .005),\n",
    "    \"lambda_s\": ((1, 10), .1),\n",
    "    \"rhos_cs\": ((1e6,1e7), 1e5),\n",
    "}\n",
    "\n",
    "all_priors = [\n",
    "    ['Couche 1', 0.2, priors_couche_1],\n",
    "    ['Couche 2', 0.4, priors_couche_2],\n",
    "]\n",
    "\n",
    "col.compute_mcmc(\n",
    "    nb_iter = 5000,\n",
    "    all_priors = all_priors,\n",
    "    nb_cells = 100,\n",
    "    sigma2=1.0\n",
    ")"
   ]
  },
  {
   "cell_type": "markdown",
   "metadata": {},
   "source": [
    "Voici comment récupérer et afficher les distributions :"
   ]
  },
  {
   "cell_type": "code",
   "execution_count": null,
   "metadata": {},
   "outputs": [],
   "source": [
    "fig, axes = plt.subplots(2, 4, figsize=(30, 20))\n",
    "\n",
    "for id_layer, layer_distribs in enumerate(col.get_all_params()):\n",
    "    axes[id_layer, 0].hist(layer_distribs[::, 0])\n",
    "    axes[id_layer, 0].set_title(f\"Couche {id_layer + 1} : moinslog10K\")\n",
    "    axes[id_layer, 1].hist(layer_distribs[::, 1])\n",
    "    axes[id_layer, 1].set_title(f\"Couche {id_layer + 1} : n\")\n",
    "    axes[id_layer, 2].hist(layer_distribs[::, 2])\n",
    "    axes[id_layer, 2].set_title(f\"Couche {id_layer + 1} : lambda_s\")\n",
    "    axes[id_layer, 3].hist(layer_distribs[::, 3])\n",
    "    axes[id_layer, 3].set_title(f\"Couche {id_layer + 1} : rhos_cs\")\n"
   ]
  },
  {
   "cell_type": "markdown",
   "metadata": {},
   "source": [
    "### 3.4. Récupération des meilleures couches\n",
    "\n",
    "On récupère les meilleures couches, et on regarde leur RMSE."
   ]
  },
  {
   "cell_type": "code",
   "execution_count": null,
   "metadata": {},
   "outputs": [],
   "source": [
    "bestLayers = col.get_best_layers()\n",
    "\n",
    "col.compute_solve_transi(bestLayers, nb_cells=100)\n",
    "\n",
    "col.get_RMSE()"
   ]
  },
  {
   "cell_type": "markdown",
   "metadata": {},
   "source": [
    "Voici les un exemple de paramètres qui, normalement, sont bons :"
   ]
  },
  {
   "cell_type": "code",
   "execution_count": 27,
   "metadata": {},
   "outputs": [],
   "source": [
    "otherGoodLayers = layersListCreator([(\"Couche 1\", 0.20, 7.915378861204348, 0.1310721719612464, 5.602951622531522, 4758163.582292321),\n",
    "(\"Couche 2\", 0.40, 6.574103692603533, 0.029547616319484868, 3.944439207155854, 4931216.13398901)])"
   ]
  },
  {
   "cell_type": "markdown",
   "metadata": {},
   "source": [
    "Mais vous pouvez aussi garder les vôtres."
   ]
  },
  {
   "cell_type": "code",
   "execution_count": null,
   "metadata": {},
   "outputs": [],
   "source": [
    "fig, axes = plt.subplots(1, 3, figsize = (20, 5), sharey=True)\n",
    "\n",
    "axes[0].set_ylabel(\"Température en °C\")\n",
    "\n",
    "for i, id in enumerate(col.get_id_sensors()):\n",
    "    axes[i].set_xlabel(\"Temps (j)\")\n",
    "    axes[i].plot(temps_en_jours, col._T_measures[:, i] - ZERO_CELSIUS, label=\"Mesures\")\n",
    "    axes[i].plot(temps_en_jours, col.get_temps_solve()[id] - ZERO_CELSIUS, label=\"Modèle\")\n",
    "    axes[i].legend()\n",
    "    axes[i].set_title(f\"Capteur {i+1}\")\n",
    "\n",
    "plt.subplots_adjust(wspace=0.05)"
   ]
  },
  {
   "cell_type": "markdown",
   "metadata": {},
   "source": [
    "Normalement, c'est beaucoup mieux que ce qu'on avait avant. On peut toujours afficher les graphes :"
   ]
  },
  {
   "cell_type": "code",
   "execution_count": null,
   "metadata": {},
   "outputs": [],
   "source": [
    "col.plot_CALC_results()"
   ]
  },
  {
   "cell_type": "markdown",
   "metadata": {},
   "source": [
    "\n",
    "### 3.5. Quantiles\n",
    "\n",
    "Une MCMC calcule aussi des quantiles de températures et de débits d'eau. On peut les récupérer de la façon suivante :"
   ]
  },
  {
   "cell_type": "code",
   "execution_count": null,
   "metadata": {},
   "outputs": [],
   "source": [
    "fig, axes = plt.subplots(2, 3, figsize=(20, 10), sharex='col', sharey='row')\n",
    "\n",
    "axes[0, 0].set_xlabel(\"Temps (j)\")\n",
    "axes[1, 0].set_ylabel(\"Débit en m/s\")\n",
    "\n",
    "for i, q in enumerate(col.get_quantiles()):\n",
    "    axes[0, i].imshow(col.get_temps_quantile(q), aspect='auto', cmap='Spectral_r', extent=[0, temps_en_jours[-1], col._real_z[-1], col._real_z[0]])\n",
    "    axes[0, i].set_title(f\"Quantile de température : {100*q} %\")\n",
    "\n",
    "    axes[1, i].imshow(col.get_flows_quantile(q), aspect='auto', cmap='Spectral_r', extent=[0, temps_en_jours[-1], col._real_z[-1], col._real_z[0]])\n",
    "    axes[1, i].set_title(f\"Quantile de débit : {100*q} %\")\n",
    "    axes[1, i].set_xlabel(\"Temps (j)\")\n",
    "    "
   ]
  },
  {
   "cell_type": "markdown",
   "metadata": {},
   "source": [
    "On peut aussi regarder les quantiles au niveau des capteurs, et comparer avec les mesures :"
   ]
  },
  {
   "cell_type": "code",
   "execution_count": null,
   "metadata": {},
   "outputs": [],
   "source": [
    "fig, axes = plt.subplots(1, 3, figsize = (20, 5), sharey=True)\n",
    "\n",
    "axes[0].set_ylabel(\"Température en °C\")\n",
    "\n",
    "for i, id in enumerate(col.get_id_sensors()):\n",
    "    axes[i].set_xlabel(\"Temps (j)\")\n",
    "    axes[i].plot(temps_en_jours, col._T_measures[:, i] - ZERO_CELSIUS, label=\"Mesures\")\n",
    "    for q in col.get_quantiles():\n",
    "        axes[i].plot(temps_en_jours, col.get_temps_quantile(q)[id] - ZERO_CELSIUS, label=f\"Quantile {q}\")\n",
    "    axes[i].legend()\n",
    "    axes[i].set_title(f\"Capteur {i+1}\")\n",
    "\n",
    "plt.subplots_adjust(wspace=0.05)"
   ]
  }
 ],
 "metadata": {
  "interpreter": {
   "hash": "70704a3df61f63f9aa8fc9db7b3b80e15e7f08419e4b448d775ffd388e55e9a3"
  },
  "kernelspec": {
   "display_name": "Python 3.8.8 ('projet_molonari')",
   "language": "python",
   "name": "python3"
  },
  "language_info": {
   "codemirror_mode": {
    "name": "ipython",
    "version": 3
   },
   "file_extension": ".py",
   "mimetype": "text/x-python",
   "name": "python",
   "nbconvert_exporter": "python",
   "pygments_lexer": "ipython3",
   "version": "3.10.12"
  },
  "orig_nbformat": 4
 },
 "nbformat": 4,
 "nbformat_minor": 2
}
