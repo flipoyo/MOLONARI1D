{
 "cells": [
  {
   "cell_type": "markdown",
   "metadata": {},
   "source": [
    "# Generating synthetic data sets of a river bed column forced by monoperiodic river and aquifer temperature signals\n",
    "\n",
    "2024 developped by Nicolas Flipo from demo_gen_test.ipynb created by Guillaume de Rochefort during MOLONARI 2022 \n",
    "\n",
    "The object of this demo is to present a class responsible for generating a simulation of pressure and temperature sensor data in cases where data from the CAPTEUR project is not available. Based on the `synthetic_MOLONARI` class in `synthetic_MOLONARI.py`.\n",
    "\n",
    "We will show the `synthetic_MOLONARI` object which allows generating purely periodic datasets with the possibility of Gaussian noise. We will illustrate the interaction of `synthetic_MOLONARI` with the `Column` class and the `layer` class.\n",
    "\n",
    "The other demo file `demo_val_direct.ipynb` highlights a more global use of the classes from `synthetic_MOLONARI.py` and `val_analy.py`.\n"
   ]
  },
  {
   "cell_type": "code",
   "execution_count": null,
   "metadata": {},
   "outputs": [],
   "source": [
    "# démo time_series\n",
    "from pyheatmy import *\n",
    "import matplotlib.pyplot as plt\n",
    "import numpy as np\n",
    "\n",
    "\n"
   ]
  },
  {
   "cell_type": "markdown",
   "metadata": {},
   "source": [
    "## 1. Signal Parameterization\n",
    "The signals are purely periodic, and it is necessary to choose the amplitude, period, and mean value of the river temperature, aquifer temperature, and pressure signals (boundary conditions). The T1, T2, T3 sensors in the shaft are only generated using the direct model.\n",
    "\n",
    "A possible improvement for this class is to generate multi-periodic signals similar to the parameter lists of the layer, where a list of parameters for the different desired frequencies (diurnal, monthly, annual, etc.) would be provided."
   ]
  },
  {
   "cell_type": "code",
   "execution_count": null,
   "metadata": {},
   "outputs": [],
   "source": [
    "# l'utilisateur saisit ses paramètres d'émulation de mesure\n",
    "\"\"\"Fenêtre temporelle\"\"\"\n",
    "# le format demandé est celui-ci : (y,m,d,h,mn,s) compatible avec la librairie datetime\n",
    "t_debut = (2011, 8, 1)\n",
    "t_fin = (2011, 8, 31, 23, 59, 59)\n",
    "dt = 15*NSECINMIN # pas de temps en (s) # A AMELIORER AVEC UN CONVERTISSEUR AUTOMATIQUE D'UNITES\n",
    "\n",
    "\"\"\"Conditions limites\"\"\"\n",
    "# Température de la rivière\n",
    "zeroT = 0\n",
    "zeroT += ZERO_CELSIUS  #time_series works only with forcings in celsius. See if it is deeper in pyheatmy or not\n",
    "\n",
    "T_riv_amp = 5\n",
    "T_riv_offset = 20  + zeroT\n",
    "nday = 3\n",
    "P_T_riv = nday*NHOURINDAY*4*dt #monthly   period\n",
    "# Température de l'aquifère\n",
    "T_aq_amp = 0\n",
    "T_aq_offset = 14 + zeroT\n",
    "P_T_aq = -9999 # à mettre dans le init\n",
    "# Pression différentielle\n",
    "dH_amp = 0\n",
    "dH_offset = 0.5 #1meter ?\n",
    "P_dh = -9999 #14*24*4*dt\n",
    "\n",
    "\n",
    "depth_sensors = [.1, .2, .3, .4]\n",
    "Zbottom = 0.4\n",
    "\n",
    "\"\"\"Bruit de mesure\"\"\"\n",
    "sigma_meas_P = 0.001\n",
    "sigma_meas_T = 0.1\n",
    "\n",
    "print(\"dt={0:.1f}s\".format(dt))"
   ]
  },
  {
   "cell_type": "markdown",
   "metadata": {},
   "source": [
    "## 2 Instantiating the objects `synthetic_MOLONARI` and `Column`\n",
    "The generated object will have default values, and a series of methods must be used to update its essential parameters. In the initialisation of Time Series, the 3 intermediate temperature sensors T1, T2, T3, are initialized with a linear interpolation between Triv and Taq weighted by the distance from the sensor. Those values initialize the soil Column in a second step. For Time Series dH = Hriv-Haq"
   ]
  },
  {
   "cell_type": "code",
   "execution_count": null,
   "metadata": {},
   "outputs": [],
   "source": [
    "\"\"\"Instanciation de l'objet Time_series\"\"\"\n",
    "# un dictionnaire qui facilite le paramétrage avec des variables globales définies plus haut\n",
    "time_series_dict_user1 = {\n",
    "    \"offset\":.0,\n",
    "    \"depth_sensors\":depth_sensors,\n",
    "\t\"param_time_dates\": [t_debut, t_fin, dt], \n",
    "    \"param_dH_signal\": [dH_amp, P_dh, dH_offset], #En vrai y aura une 4e valeur ici mais ca prendra en charge pareil\n",
    "\t\"param_T_riv_signal\": [T_riv_amp, P_T_riv, T_riv_offset],\n",
    "    \"param_T_aq_signal\": [T_aq_amp, P_T_aq, T_aq_offset],\n",
    "    \"sigma_meas_P\": sigma_meas_P,\n",
    "    \"sigma_meas_T\": sigma_meas_T, #float\n",
    "}\n",
    "# instanciation du simulateur de données\n",
    "emu_observ_test_user1 = synthetic_MOLONARI.from_dict(time_series_dict_user1)\n",
    "\n",
    "# print(\"Checking params synthetic_MOLONARI\")\n",
    "# print(\"param_time_dates:\", emu_observ_test_user1._param_dates)\n",
    "# print(\"param_dH_signal:\", emu_observ_test_user1._param_dH)\n",
    "# print(\"param_T_riv_signal:\", emu_observ_test_user1._param_T_riv)\n",
    "# print(\"param_T_aq_signal:\", emu_observ_test_user1._param_T_aq)\n",
    "# print(\"sigma_meas_P:\", emu_observ_test_user1._sigma_P)\n",
    "# print(\"sigma_meas_T:\", emu_observ_test_user1._sigma_T)\n",
    "\n",
    "\n",
    "print(f\"dH : {emu_observ_test_user1._molonariP_data}\")\n",
    "print(f\"Tshaft : {emu_observ_test_user1._T_Shaft_measures}\")\n"
   ]
  },
  {
   "cell_type": "code",
   "execution_count": null,
   "metadata": {},
   "outputs": [],
   "source": [
    "# l'utilisateur génère un dictionnaire avec les données importantes de la colonne\n",
    "Couche = {\n",
    "    \"name\": \"Couche en sable\",\n",
    "    \"zLow\": Zbottom,\n",
    "    \"moinslog10IntrinK\":11,\n",
    "    \"n\": 0.1,\n",
    "    \"lambda_s\": 2,\n",
    "    \"rhos_cs\": 4e6,\n",
    "    \"q\": 0\n",
    "}\n",
    "\n",
    "# modèle une couche\n",
    "Layer1 = Layer.from_dict(Couche)\n",
    "\n",
    "print(f\"Layer: {Layer1}\")\n",
    "\n",
    "nbcells = 85\n",
    "# on utilise les mesures générées précédemment dans les init \"dH_measures\" et \"T_measures\"\n",
    "col_dict = {\n",
    "\t\"river_bed\": 1., \n",
    "    \"depth_sensors\": depth_sensors, #En vrai y aura une 4e valeur ici mais ca prendra en charge pareil\n",
    "\t\"offset\": .0,\n",
    "    \"dH_measures\": emu_observ_test_user1._molonariP_data,\n",
    "    \"T_measures\": emu_observ_test_user1._T_Shaft_measures,\n",
    "    \"nb_cells\" : nbcells,\n",
    "    \"sigma_meas_P\": 0.01, #float\n",
    "    \"sigma_meas_T\": 0.1, #float\n",
    "}\n",
    "col = Column.from_dict(col_dict,verbose=True)\n",
    "col.set_layers(Layer1)"
   ]
  },
  {
   "cell_type": "markdown",
   "metadata": {},
   "source": [
    "## 3 Generating temperature in the river bed\n",
    "\n",
    "We use the [_measures_column_one_layer(col, layers_list)] method, which updates the measurements for T1, T2 and T3 at each point in time with the direct model pyheatmy. The sensor time series are then perturbated with a gaussian noise in the Time series object. We display the temperature simulated at sensors."
   ]
  },
  {
   "cell_type": "code",
   "execution_count": null,
   "metadata": {},
   "outputs": [],
   "source": [
    "\n",
    "# print(emu_observ_test_user1._T_Shaft)\n",
    "emu_observ_test_user1._measures_column_one_layer(col)\n",
    "#emu_observ_test_user1._plot_molonariT_data()\n",
    "col.plot_temperature_at_sensors(verbose=False)\n",
    "\n"
   ]
  },
  {
   "cell_type": "markdown",
   "metadata": {},
   "source": [
    "The simulated temperatures with pyheatmy are compared to the initial values of the Shaft which were interpolated. Without surprise, they are very different for an advective configuration (high k value)"
   ]
  },
  {
   "cell_type": "code",
   "execution_count": null,
   "metadata": {},
   "outputs": [],
   "source": [
    "\n",
    "col.plot_compare_temperatures_sensors()"
   ]
  },
  {
   "cell_type": "markdown",
   "metadata": {},
   "source": [
    "Here are temperature profiles simulated by pyheatmy"
   ]
  },
  {
   "cell_type": "code",
   "execution_count": null,
   "metadata": {},
   "outputs": [],
   "source": [
    "nt = len(col._temperatures[0,:])\n",
    "dplot=15\n",
    "col.plot_temperatures_umbrella(round(nt/dplot))\n",
    "\n"
   ]
  },
  {
   "cell_type": "markdown",
   "metadata": {},
   "source": [
    "Now creating a new column created with the generated case study"
   ]
  },
  {
   "cell_type": "code",
   "execution_count": null,
   "metadata": {},
   "outputs": [],
   "source": [
    "# on utilise les mesures générées précédemment dans les init \"dH_measures\" et \"T_measures\"\n",
    "newCol_dict = {\n",
    "\t\"river_bed\": 1., \n",
    "    \"depth_sensors\": depth_sensors, #En vrai y aura une 4e valeur ici mais ca prendra en charge pareil\n",
    "\t\"offset\": .0,\n",
    "    \"dH_measures\": emu_observ_test_user1._molonariP_data,\n",
    "    \"T_measures\": emu_observ_test_user1._molonariT_data,\n",
    "    \"nb_cells\" : nbcells,\n",
    "    \"sigma_meas_P\": None, #float\n",
    "    \"sigma_meas_T\": None, #float\n",
    "}\n",
    "newCol = Column.from_dict(newCol_dict)\n",
    "newCol.set_layers(Layer1)\n",
    "newCol.compute_solve_transi(verbose=True)\n",
    "\n",
    "nt = len(col._temperatures[0,:])\n",
    "dplot=15\n",
    "newCol.plot_temperatures_umbrella(round(nt/dplot))\n",
    "\n",
    "flows = col.get_flows_solve()\n",
    "unitLeg=\"m/s\"\n",
    "title=\"Débits\"\n",
    "newCol.plot_it_Zt(flows,title,unitLeg,1.04,2)\n",
    "\n",
    "newCol.print_RMSE_at_sensor()\n",
    "newCol.plot_compare_temperatures_sensors()\n",
    "col.plot_CALC_results()\n",
    "newCol.print_in_file_processed_MOLONARI_dataset(zeroT=0)"
   ]
  },
  {
   "cell_type": "markdown",
   "metadata": {},
   "source": [
    "# Multilayered riverbed"
   ]
  },
  {
   "cell_type": "code",
   "execution_count": null,
   "metadata": {},
   "outputs": [],
   "source": [
    "t_debut = (2011, 8, 1)\n",
    "t_fin = (2011, 8, 31, 23, 59, 59)\n",
    "dt = 15*60 # pas de temps en (s)\n",
    "\n",
    "T_riv_amp = 2\n",
    "T_riv_offset = 20\n",
    "P_T_riv = 72*4*dt\n",
    "\n",
    "T_aq_amp = 0\n",
    "T_aq_offset = 14\n",
    "P_T_aq = 9999 # à mettre dans le init\n",
    "\n",
    "dH_amp = 0\n",
    "dH_offset = 1.\n",
    "P_dh = -9999 #14*24*4*dt\n",
    "\n",
    "depth_sensors = [.1, .15, .25, .3, .4] # on a mis 5 capteurs dans le shaft au lieu de 4 pour montrer que le code s'adapte"
   ]
  },
  {
   "cell_type": "code",
   "execution_count": null,
   "metadata": {},
   "outputs": [],
   "source": [
    "time_series_dict_user4 = {\n",
    "    \"offset\" : 0,\n",
    "    \"depth_sensors\":depth_sensors,\n",
    "\t\"param_time_dates\": [t_debut, t_fin, dt], \n",
    "    \"param_dH_signal\": [dH_amp, P_dh, dH_offset], #En vrai y aura une 4e valeur ici mais ca prendra en charge pareil\n",
    "\t\"param_T_riv_signal\": [T_riv_amp, P_T_riv, T_riv_offset],\n",
    "    \"param_T_aq_signal\": [T_aq_amp, P_T_aq, T_aq_offset],\n",
    "    \"sigma_meas_P\": 0.05,\n",
    "    \"sigma_meas_T\": 0.1, #float\n",
    "}"
   ]
  },
  {
   "cell_type": "code",
   "execution_count": null,
   "metadata": {},
   "outputs": [],
   "source": [
    "emu_observ_test_user4 = synthetic_MOLONARI.from_dict(time_series_dict_user4)\n",
    "# emu_observ_test_user4._generate_all_series()"
   ]
  },
  {
   "cell_type": "code",
   "execution_count": null,
   "metadata": {},
   "outputs": [],
   "source": [
    "# l'utilisateur génère un dictionnaire avec les données importantes de la colonne\n",
    "Layer1 = {\n",
    "    \"name\": \"gravier\",\n",
    "    \"zLow\": .2,\n",
    "    \"moinslog10IntrinK\":14,\n",
    "    \"n\": .4,\n",
    "    \"lambda_s\": 2,\n",
    "    \"rhos_cs\": 4e6,\n",
    "    \"q\": 0\n",
    "}\n",
    "\n",
    "Layer2 = {\n",
    "    \"name\": \"Couche en sable\",\n",
    "    \"zLow\": .4,\n",
    "    \"moinslog10IntrinK\":10,\n",
    "    \"n\": .1,\n",
    "    \"lambda_s\": 2,\n",
    "    \"rhos_cs\": 4e6,\n",
    "    \"q\": 0\n",
    "}\n",
    "\n",
    "# on utilise les mesures générées précédemment\n",
    "col_dict4 = {\n",
    "\t\"river_bed\": 1., \n",
    "    \"depth_sensors\": depth_sensors, #En vrai y aura une 4e valeur ici mais ca prendra en charge pareil\n",
    "\t\"offset\": .0,\n",
    "    \"dH_measures\": emu_observ_test_user4._molonariP_data,\n",
    "    \"T_measures\": emu_observ_test_user4._T_Shaft_measures,\n",
    "    \"nb_cells\" : nbcells,\n",
    "    \"sigma_meas_P\": emu_observ_test_user4._sigma_P, #float\n",
    "    \"sigma_meas_T\": emu_observ_test_user4._sigma_T, #float\n",
    "}\n",
    "\n",
    "col4 = Column.from_dict(col_dict4)\n",
    "\n",
    "# modèle une couche\n",
    "col4.set_layers([Layer.from_dict(Layer1),Layer.from_dict(Layer2)])"
   ]
  },
  {
   "cell_type": "code",
   "execution_count": null,
   "metadata": {},
   "outputs": [],
   "source": [
    "emu_observ_test_user4._measures_column_one_layer(col4)\n",
    "col4.plot_temperature_at_sensors(verbose=False)\n",
    "# col4.plot_compare_temperatures_sensors()\n",
    "nt = len(col4._temperatures[0,:])\n",
    "dplot=15\n",
    "col4.plot_temperatures_umbrella(round(nt/dplot))\n"
   ]
  },
  {
   "cell_type": "code",
   "execution_count": null,
   "metadata": {},
   "outputs": [],
   "source": [
    "# les sorties des différents capteurs après passage dans le modèle direct\n",
    "nt = 3000\n",
    "plt.plot(emu_observ_test_user4._T_riv_perturb[:nt], label=\"Triv\")\n",
    "n_sens = len(emu_observ_test_user4._T_Shaft_perturb[0])\n",
    "for i in range(n_sens-1):\n",
    "    plt.plot(emu_observ_test_user4._T_Shaft_perturb[:nt,i], label=\"T{}\".format(i+1))\n",
    "plt.plot(emu_observ_test_user4._T_Shaft_perturb[:nt,n_sens-1], label=\"Taq\")\n",
    "plt.legend()\n",
    "plt.grid()"
   ]
  },
  {
   "cell_type": "code",
   "execution_count": null,
   "metadata": {},
   "outputs": [],
   "source": [
    "nt = len(col4._temperatures[0,:])\n",
    "for i in range(1000,2000):\n",
    "    plt.plot(col4._temperatures[:,i], -col._z_solve)\n",
    "plt.ylabel(\"depth\")\n",
    "plt.xlabel(\"T (°C)\")\n",
    "plt.grid()\n",
    "#plt.xlim(282,286)"
   ]
  },
  {
   "cell_type": "code",
   "execution_count": null,
   "metadata": {},
   "outputs": [],
   "source": [
    "plt.imshow(col._temperatures[:,:], aspect='auto')"
   ]
  },
  {
   "cell_type": "markdown",
   "metadata": {},
   "source": [
    "Unfinished, now need to rerun a column with the proper sensor records from the first simulation + perturbation that are in Time Series See final step of #3 of the Monolayer case"
   ]
  }
 ],
 "metadata": {
  "kernelspec": {
   "display_name": "molonaricompatible",
   "language": "python",
   "name": "python3"
  },
  "language_info": {
   "codemirror_mode": {
    "name": "ipython",
    "version": 3
   },
   "file_extension": ".py",
   "mimetype": "text/x-python",
   "name": "python",
   "nbconvert_exporter": "python",
   "pygments_lexer": "ipython3",
   "version": "3.11.4"
  },
  "orig_nbformat": 4
 },
 "nbformat": 4,
 "nbformat_minor": 2
}
