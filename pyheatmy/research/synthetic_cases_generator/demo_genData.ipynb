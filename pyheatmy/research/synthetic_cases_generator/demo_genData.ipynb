{
 "cells": [
  {
   "cell_type": "markdown",
   "metadata": {},
   "source": [
    "# Generating synthetic data sets of a river bed column forced by monoperiodic river and aquifer temperature signals\n",
    "\n",
    "2024 adapted by Nicolas Flipo from demo_gen_test.ipynb created by Guillaume de Rochefort during MOLONARI 2022 \n",
    "\n",
    "L'objet de cette démo est de présenter une classe chargée de générer une simulation des données des capteurs de pression et de température dans le cas où l'on ne disposerait pas de données issues du projet CAPTEUR. Based on the ``Time_series`` class in ``gen_test.py``\n",
    "\n",
    "Nous montrerons l'objet Time_Series qui permet de générer des jeux de données purements périodique avec possibilité de bruit gaussien. Nous illustrerons l'interaction de Time_series avec la classe Column et la classe layer. \n",
    "\n",
    "Deux autres fichiers de démo mettent plutôt en valeur une utilisation globales des classes de gen_test.py et val_analy.py.\n"
   ]
  },
  {
   "cell_type": "code",
   "execution_count": 129,
   "metadata": {},
   "outputs": [],
   "source": [
    "# démo gen_test\n",
    "from pyheatmy import *\n",
    "import matplotlib.pyplot as plt\n",
    "import numpy as np\n",
    "\n",
    "\n"
   ]
  },
  {
   "cell_type": "markdown",
   "metadata": {},
   "source": [
    "## 1. Cas sans perturbation"
   ]
  },
  {
   "cell_type": "markdown",
   "metadata": {},
   "source": [
    "### 1.1 Paramètrage des signaux\n",
    "Les signaux sont périodiques purs et il sagit de choisir l'amplitude, la période et la valeur moyenne des signaux de température de la rivière, de l'aquifère et de pression (les conditions limites). Les capteurs T1, T2, T3 du shaft ne sont générés que grâce au modèle direct.\n",
    "\n",
    "Une amélioration possible de cette classe est de générer des signaux multipériodiques à la manière des listes de paramètres de layer, on donnerait une listes des paramètres des différentes fréquences voulues (diurne, mensuel, annuel, etc...)"
   ]
  },
  {
   "cell_type": "code",
   "execution_count": null,
   "metadata": {},
   "outputs": [],
   "source": [
    "# l'utilisateur saisit ses paramètres d'émulation de mesure\n",
    "\"\"\"Fenêtre temporelle\"\"\"\n",
    "# le format demandé est celui-ci : (y,m,d,h,mn,s) compatible avec la librairie datetime\n",
    "t_debut = (2011, 8, 1)\n",
    "t_fin = (2011, 8, 31, 23, 59, 59)\n",
    "dt = 15*NSECINMIN # pas de temps en (s) # A AMELIORER AVEC UN CONVERTISSEUR AUTOMATIQUE D'UNITES\n",
    "\n",
    "\"\"\"Conditions limites\"\"\"\n",
    "# Température de la rivière\n",
    "zeroT = 0\n",
    "#zeroT += ZERO_CELSIUS  #gen_test works only with forcings in celsius. See if it is deeper in pyheatmy or not\n",
    "\n",
    "T_riv_amp = 5\n",
    "T_riv_offset = 20  + zeroT\n",
    "nday = 3\n",
    "P_T_riv = nday*NHOURINDAY*4*dt #monthly   period\n",
    "# Température de l'aquifère\n",
    "T_aq_amp = 0\n",
    "T_aq_offset = 14 + zeroT\n",
    "P_T_aq = -9999 # à mettre dans le init\n",
    "# Pression différentielle\n",
    "dH_amp = 0\n",
    "dH_offset = 0.1 #1meter ?\n",
    "P_dh = -9999 #14*24*4*dt\n",
    "\n",
    "\n",
    "depth_sensors = [.1, .2, .3, .4]\n",
    "\n",
    "\"\"\"Bruit de mesure\"\"\"\n",
    "sigma_meas_P = 0.1\n",
    "sigma_meas_T = 1.\n",
    "\n",
    "print(\"dt={0:.1f}s\".format(dt))"
   ]
  },
  {
   "cell_type": "markdown",
   "metadata": {},
   "source": [
    "### 1.2 Instanciation de l'objet\n",
    "L'objet généré aura des valeurs par défaut, il faut utiliser une série de méthode pour mettre à jour ses paramètres essentiels."
   ]
  },
  {
   "cell_type": "markdown",
   "metadata": {},
   "source": [
    "#### 1.2.1 Création de l'objet"
   ]
  },
  {
   "cell_type": "code",
   "execution_count": null,
   "metadata": {},
   "outputs": [],
   "source": [
    "\"\"\"Instanciation de l'objet Time_series\"\"\"\n",
    "# un dictionnaire qui facilite le paramétrage avec des variables globales définies plus haut\n",
    "time_series_dict_user1 = {\n",
    "    \"offset\":.0,\n",
    "    \"depth_sensors\":depth_sensors,\n",
    "\t\"param_time_dates\": [t_debut, t_fin, dt], \n",
    "    \"param_dH_signal\": [dH_amp, P_dh, dH_offset], #En vrai y aura une 4e valeur ici mais ca prendra en charge pareil\n",
    "\t\"param_T_riv_signal\": [T_riv_amp, P_T_riv, T_riv_offset],\n",
    "    \"param_T_aq_signal\": [T_aq_amp, P_T_aq, T_aq_offset],\n",
    "    \"sigma_meas_P\": sigma_meas_P,\n",
    "    \"sigma_meas_T\": sigma_meas_T, #float\n",
    "}\n",
    "# instanciation du simulateur de données\n",
    "emu_observ_test_user1 = Time_series.from_dict(time_series_dict_user1)\n",
    "\n",
    "print(\"Checking params time series\")\n",
    "print(\"param_time_dates:\", emu_observ_test_user1._param_dates)\n",
    "print(\"param_dH_signal:\", emu_observ_test_user1._param_dH)\n",
    "print(\"param_T_riv_signal:\", emu_observ_test_user1._param_T_riv)\n",
    "print(\"param_T_aq_signal:\", emu_observ_test_user1._param_T_aq)\n",
    "print(\"sigma_meas_P:\", emu_observ_test_user1._sigma_P)\n",
    "print(\"sigma_meas_T:\", emu_observ_test_user1._sigma_T)\n"
   ]
  },
  {
   "cell_type": "markdown",
   "metadata": {},
   "source": [
    "#### 1.2.2 Instanciation des series de données temporelles aux limites sur la base des dates de simulation "
   ]
  },
  {
   "cell_type": "code",
   "execution_count": null,
   "metadata": {},
   "outputs": [],
   "source": [
    "emu_observ_test_user1._generate_all_series()\n",
    "\n"
   ]
  },
  {
   "cell_type": "markdown",
   "metadata": {},
   "source": [
    "#### 1.2.3 Génération des points T1, T2, T3 avec le modèle direct\n",
    "\n",
    "Il faut d'abord créer un objet colonne qui représente l'expérience"
   ]
  },
  {
   "cell_type": "code",
   "execution_count": 133,
   "metadata": {},
   "outputs": [],
   "source": [
    "# l'utilisateur génère un dictionnaire avec les données importantes de la colonne\n",
    "name =\"Couche en sable\"\n",
    "zLow = 0.4\n",
    "moinslog10IntrinK = 15\n",
    "n = 0.1\n",
    "lambda_s = 2 # test cas purement advectif\n",
    "rhos_cs = 4e6\n",
    "\n",
    "# modèle une couche\n",
    "layers_list= layersListCreator([(name, zLow, moinslog10IntrinK, n, lambda_s, rhos_cs)])\n",
    "\n",
    "# on utilise les mesures générées précédemment dans les init \"dH_measures\" et \"T_measures\"\n",
    "col_dict = {\n",
    "\t\"river_bed\": 1., \n",
    "    \"depth_sensors\": depth_sensors, #En vrai y aura une 4e valeur ici mais ca prendra en charge pareil\n",
    "\t\"offset\": .0,\n",
    "    \"dH_measures\": emu_observ_test_user1._molonariP_data,\n",
    "    \"T_measures\": emu_observ_test_user1._T_Shaft_measures,\n",
    "    \"sigma_meas_P\": None, #float\n",
    "    \"sigma_meas_T\": None, #float\n",
    "}\n",
    "col = Column.from_dict(col_dict)"
   ]
  },
  {
   "cell_type": "markdown",
   "metadata": {},
   "source": [
    "On peut vérifier que l'objet colonne a récupéré les valeurs d'initialisation de Time_series. \n",
    "On a également des conditions initiales [T1, T2, T3](t=0) qui viennent d'une méthode d'interpolation en ligne brisée\n"
   ]
  },
  {
   "cell_type": "markdown",
   "metadata": {},
   "source": [
    "On utilise la méthode [_measures_column_one_layer(col, layers_list, nb_cells)] qui met à jour les mesures de T1, T2, T3 à chaque instant. Les objets Column et Time_series sont mis à jour ensemble."
   ]
  },
  {
   "cell_type": "code",
   "execution_count": null,
   "metadata": {},
   "outputs": [],
   "source": [
    "# on résout le modèle direct avec les observations simulées\n",
    "nb_cells = 100\n",
    "emu_observ_test_user1._measures_column_one_layer(col, layers_list, nb_cells)"
   ]
  },
  {
   "cell_type": "code",
   "execution_count": null,
   "metadata": {},
   "outputs": [],
   "source": [
    "#import os\n",
    "col.print_in_file_processed_MOLONARI_dataset()"
   ]
  },
  {
   "cell_type": "code",
   "execution_count": null,
   "metadata": {},
   "outputs": [],
   "source": [
    "print(\"methode column verifiee\")\n",
    "col.plot_temperature_at_sensors()\n"
   ]
  },
  {
   "cell_type": "code",
   "execution_count": null,
   "metadata": {},
   "outputs": [],
   "source": [
    "nt = len(col._temperatures[0,:])\n",
    "dplot=15\n",
    "col.plot_temperatures_umbrella(round(nt/dplot))\n",
    "\n"
   ]
  },
  {
   "cell_type": "code",
   "execution_count": null,
   "metadata": {},
   "outputs": [],
   "source": [
    "flows = col.get_flows_solve()\n",
    "unitLeg=\"m/s\"\n",
    "title=\"Débits\"\n",
    "col.plot_it_Zt(flows,title,unitLeg,1.04,2)"
   ]
  },
  {
   "cell_type": "code",
   "execution_count": null,
   "metadata": {},
   "outputs": [],
   "source": [
    "temperatures = col.get_temperatures_solve()\n",
    "unitLeg=\"°C\"\n",
    "title=\"Températures\"\n",
    "col.plot_it_Zt(temperatures,title,unitLeg)"
   ]
  },
  {
   "cell_type": "code",
   "execution_count": null,
   "metadata": {},
   "outputs": [],
   "source": [
    "col.plot_CALC_results()"
   ]
  },
  {
   "cell_type": "markdown",
   "metadata": {},
   "source": [
    "## 2. Cas avec perturbation des observations"
   ]
  },
  {
   "cell_type": "code",
   "execution_count": 141,
   "metadata": {},
   "outputs": [],
   "source": [
    "emu_observ_test_user1._generate_all_series()"
   ]
  },
  {
   "cell_type": "code",
   "execution_count": null,
   "metadata": {},
   "outputs": [],
   "source": [
    "# les sorties des différents capteurs après passage dans le modèle direct\n",
    "nt = 3000\n",
    "plt.plot(emu_observ_test_user1._T_riv_perturb[:nt], label=\"Triv\")\n",
    "n_sens = len(emu_observ_test_user1._T_Shaft_perturb[0])\n",
    "for i in range(n_sens-1):\n",
    "    plt.plot(emu_observ_test_user1._T_Shaft_perturb[:nt,i], label=\"T{}\".format(i+1))\n",
    "plt.plot(emu_observ_test_user1._T_Shaft_perturb[:nt,n_sens-1], label=\"Taq\")\n",
    "plt.legend()\n",
    "plt.grid()"
   ]
  },
  {
   "cell_type": "markdown",
   "metadata": {},
   "source": [
    "# Test valeur par défaut de la classe émulation"
   ]
  },
  {
   "cell_type": "code",
   "execution_count": 143,
   "metadata": {},
   "outputs": [],
   "source": [
    "time_series_dict_user3 = {\n",
    "    \"offset\" : 0,\n",
    "    \"depth_sensors\":depth_sensors,\n",
    "}"
   ]
  },
  {
   "cell_type": "code",
   "execution_count": null,
   "metadata": {},
   "outputs": [],
   "source": [
    "emu_observ_test_user3 = Time_series.from_dict(time_series_dict_user3)\n",
    "\n",
    "emu_observ_test_user3._generate_Shaft_Temp_series()\n",
    "emu_observ_test_user3._T_Shaft_measures"
   ]
  },
  {
   "cell_type": "markdown",
   "metadata": {},
   "source": [
    "# Test du cas multilayer "
   ]
  },
  {
   "cell_type": "code",
   "execution_count": 145,
   "metadata": {},
   "outputs": [],
   "source": [
    "t_debut = (2011, 8, 1)\n",
    "t_fin = (2011, 8, 31, 23, 59, 59)\n",
    "dt = 15*60 # pas de temps en (s)\n",
    "\n",
    "T_riv_amp = 2\n",
    "T_riv_offset = 20\n",
    "P_T_riv = 72*4*dt\n",
    "\n",
    "T_aq_amp = 0\n",
    "T_aq_offset = 14\n",
    "P_T_aq = 9999 # à mettre dans le init\n",
    "\n",
    "dH_amp = 0\n",
    "dH_offset = 1\n",
    "P_dh = -9999 #14*24*4*dt\n",
    "\n",
    "depth_sensors = [.1, .15, .25, .3, .4] # on a mis 5 capteurs dans le shaft au lieu de 4 pour montrer que le code s'adapte"
   ]
  },
  {
   "cell_type": "code",
   "execution_count": 146,
   "metadata": {},
   "outputs": [],
   "source": [
    "time_series_dict_user4 = {\n",
    "    \"offset\" : 0,\n",
    "    \"depth_sensors\":depth_sensors,\n",
    "\t\"param_time_dates\": [t_debut, t_fin, dt], \n",
    "    \"param_dH_signal\": [dH_amp, P_dh, dH_offset], #En vrai y aura une 4e valeur ici mais ca prendra en charge pareil\n",
    "\t\"param_T_riv_signal\": [T_riv_amp, P_T_riv, T_riv_offset],\n",
    "    \"param_T_aq_signal\": [T_aq_amp, P_T_aq, T_aq_offset],\n",
    "    \"sigma_meas_P\": 0.05,\n",
    "    \"sigma_meas_T\": 0.1, #float\n",
    "}"
   ]
  },
  {
   "cell_type": "code",
   "execution_count": null,
   "metadata": {},
   "outputs": [],
   "source": [
    "emu_observ_test_user4 = Time_series.from_dict(time_series_dict_user4)\n",
    "emu_observ_test_user4._generate_all_series()"
   ]
  },
  {
   "cell_type": "code",
   "execution_count": 148,
   "metadata": {},
   "outputs": [],
   "source": [
    "# l'utilisateur génère un dictionnaire avec les données importantes de la colonne\n",
    "name = [\"gravier\",\"Couche en sable\"]\n",
    "zLow = [.2,.4]\n",
    "moinslog10IntrinK = [4,10]\n",
    "n = [.4,.1]\n",
    "lambda_s = [2,2] \n",
    "rhos_cs = [4e6,4e6]\n",
    "\n",
    "# on utilise les mesures générées précédemment\n",
    "col_dict4 = {\n",
    "\t\"river_bed\": 1., \n",
    "    \"depth_sensors\": depth_sensors, #En vrai y aura une 4e valeur ici mais ca prendra en charge pareil\n",
    "\t\"offset\": .0,\n",
    "    \"dH_measures\": emu_observ_test_user4._molonariP_data,\n",
    "    \"T_measures\": emu_observ_test_user4._T_Shaft_measures,\n",
    "    \"sigma_meas_P\": emu_observ_test_user4._sigma_P, #float\n",
    "    \"sigma_meas_T\": emu_observ_test_user4._sigma_T, #float\n",
    "}\n",
    "\n",
    "col4 = Column.from_dict(col_dict4)\n",
    "\n",
    "# modèle une couche\n",
    "layers_list4= layersListCreator([(name[i], zLow[i], moinslog10IntrinK[i], n[i], lambda_s[i], rhos_cs[i]) for i in range(len(name))])"
   ]
  },
  {
   "cell_type": "code",
   "execution_count": null,
   "metadata": {},
   "outputs": [],
   "source": [
    "nb_cells = 100\n",
    "emu_observ_test_user4._measures_column_one_layer(col4, layers_list4, nb_cells)\n",
    "\n",
    "# emu_observ_test_user4._generate_perturb_T_riv_dH_series()\n",
    "# emu_observ_test_user4._generate_perturb_Shaft_Temp_series()"
   ]
  },
  {
   "cell_type": "code",
   "execution_count": null,
   "metadata": {},
   "outputs": [],
   "source": [
    "emu_observ_test_user4._T_Shaft_perturb"
   ]
  },
  {
   "cell_type": "code",
   "execution_count": null,
   "metadata": {},
   "outputs": [],
   "source": [
    "# les sorties des différents capteurs après passage dans le modèle direct\n",
    "nt = 3000\n",
    "plt.plot(emu_observ_test_user4._T_riv_perturb[:nt], label=\"Triv\")\n",
    "n_sens = len(emu_observ_test_user4._T_Shaft_perturb[0])\n",
    "for i in range(n_sens-1):\n",
    "    plt.plot(emu_observ_test_user4._T_Shaft_perturb[:nt,i], label=\"T{}\".format(i+1))\n",
    "plt.plot(emu_observ_test_user4._T_Shaft_perturb[:nt,n_sens-1], label=\"Taq\")\n",
    "plt.legend()\n",
    "plt.grid()"
   ]
  },
  {
   "cell_type": "code",
   "execution_count": null,
   "metadata": {},
   "outputs": [],
   "source": [
    "nt = len(col4._temperatures[0,:])\n",
    "for i in range(1000,2000):\n",
    "    plt.plot(col4._temperatures[:,i], -col._z_solve)\n",
    "plt.ylabel(\"depth\")\n",
    "plt.xlabel(\"T (°C)\")\n",
    "plt.grid()\n",
    "#plt.xlim(282,286)"
   ]
  },
  {
   "cell_type": "code",
   "execution_count": null,
   "metadata": {},
   "outputs": [],
   "source": [
    "plt.imshow(col._temperatures[:,:], aspect='auto')"
   ]
  }
 ],
 "metadata": {
  "interpreter": {
   "hash": "9efce205f64ad363cd9f14615485aca38ee4ef0915866e318aa83c8d0c93f6fc"
  },
  "kernelspec": {
   "display_name": "Python 3.10.4 64-bit",
   "language": "python",
   "name": "python3"
  },
  "language_info": {
   "codemirror_mode": {
    "name": "ipython",
    "version": 3
   },
   "file_extension": ".py",
   "mimetype": "text/x-python",
   "name": "python",
   "nbconvert_exporter": "python",
   "pygments_lexer": "ipython3",
   "version": "3.10.12"
  },
  "orig_nbformat": 4
 },
 "nbformat": 4,
 "nbformat_minor": 2
}
