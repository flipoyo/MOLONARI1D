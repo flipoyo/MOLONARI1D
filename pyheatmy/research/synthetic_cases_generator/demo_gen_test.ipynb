{
 "cells": [
  {
   "cell_type": "markdown",
   "metadata": {},
   "source": [
    "# Test initialisation utilisateur classe Time_Series\n",
    "\n",
    "MOLONARI 2022 créé par Guillaume de Rochefort\n",
    "\n",
    "L'objet de cette démo est de présenter une classe chargée de générer une simulation des données des capteurs de pression et de température dans le cas où l'on ne disposerait pas de données issues du projet CAPTEUR. Based on the ``Time_series`` class in ``gen_test.py``\n",
    "\n",
    "Nous montrerons l'objet Time_Series qui permet de générer des jeux de données purements périodique avec possibilité de bruit gaussien. Nous illustrerons l'interaction de Time_series avec la classe Column et la classe layer. \n",
    "\n",
    "Deux autres fichiers de démo mettent plutôt en valeur une utilisation globales des classes de gen_test.py et val_analy.py.\n"
   ]
  },
  {
   "cell_type": "code",
   "execution_count": 1,
   "metadata": {},
   "outputs": [],
   "source": [
    "# démo gen_test\n",
    "from pyheatmy import *\n",
    "import matplotlib.pyplot as plt\n",
    "import numpy as np"
   ]
  },
  {
   "cell_type": "markdown",
   "metadata": {},
   "source": [
    "## 1. Cas sans perturbation"
   ]
  },
  {
   "cell_type": "markdown",
   "metadata": {},
   "source": [
    "### 1.1 Paramètrage des signaux\n",
    "Les signaux sont périodiques purs et il sagit de choisir l'amplitude, la période et la valeur moyenne des signaux de température de la rivière, de l'aquifère et de pression (les conditions limites). Les capteurs T1, T2, T3 du shaft ne sont générés que grâce au modèle direct.\n",
    "\n",
    "Une amélioration possible de cette classe est de générer des signaux multipériodiques à la manière des listes de paramètres de layer, on donnerait une listes des paramètres des différentes fréquences voulues (diurne, mensuel, annuel, etc...)"
   ]
  },
  {
   "cell_type": "code",
   "execution_count": 2,
   "metadata": {},
   "outputs": [],
   "source": [
    "# l'utilisateur saisit ses paramètres d'émulation de mesure\n",
    "\"\"\"Fenêtre temporelle\"\"\"\n",
    "# le format demandé est celui-ci : (y,m,d,h,mn,s) compatible avec la librairie datetime\n",
    "t_debut = (2010, 8, 1)\n",
    "t_fin = (2010, 5, 30, 23, 59, 59)\n",
    "dt = 15*NSECINMIN # pas de temps en (s) # A AMELIORER AVEC UN CONVERTISSEUR AUTOMATIQUE D'UNITES\n",
    "\n",
    "\"\"\"Conditions limites\"\"\"\n",
    "# Température de la rivière\n",
    "T_riv_amp = 5\n",
    "T_riv_offset = 20 +ZERO_CELSIUS\n",
    "P_T_riv = NDAYINMONTH*NHOURINDAY*4*dt #monthly   period\n",
    "# Température de l'aquifère\n",
    "T_aq_amp = 0\n",
    "T_aq_offset = 12 + ZERO_CELSIUS\n",
    "P_T_aq = -9999 # à mettre dans le init\n",
    "# Pression différentielle\n",
    "dH_amp = 0\n",
    "dH_offset = 0.1 #1meter ?\n",
    "P_dh = -9999 #14*24*4*dt\n",
    "\n",
    "\"\"\"Bruit de mesure\"\"\"\n",
    "sigma_meas_P = 0.1\n",
    "sigma_meas_T = 0.5"
   ]
  },
  {
   "cell_type": "markdown",
   "metadata": {},
   "source": [
    "### 1.2 Instanciation de l'objet\n",
    "L'objet généré aura des valeurs par défaut, il faut utiliser une série de méthode pour mettre à jour ses paramètres essentiels."
   ]
  },
  {
   "cell_type": "markdown",
   "metadata": {},
   "source": [
    "#### 1.2.0 Création de l'objet"
   ]
  },
  {
   "cell_type": "code",
   "execution_count": 3,
   "metadata": {},
   "outputs": [],
   "source": [
    "\"\"\"Instanciation de l'objet Time_series\"\"\"\n",
    "# un dictionnaire qui facilite le paramétrage avec des variables globales définies plus haut\n",
    "time_series_dict_user1 = {\n",
    "    \"offset\":.0,\n",
    "    \"depth_sensors\":[.25, .5, .75, 1],\n",
    "\t\"param_time_dates\": [t_debut, t_fin, dt], \n",
    "    \"param_dH_signal\": [dH_amp, P_dh, dH_offset], #En vrai y aura une 4e valeur ici mais ca prendra en charge pareil\n",
    "\t\"param_T_riv_signal\": [T_riv_amp, P_T_riv, T_riv_offset],\n",
    "    \"param_T_aq_signal\": [T_aq_amp, P_T_aq, T_aq_offset],\n",
    "    \"sigma_meas_P\": sigma_meas_P,\n",
    "    \"sigma_meas_T\": sigma_meas_T, #float\n",
    "}\n",
    "# instanciation du simulateur de données\n",
    "emu_observ_test_user1 = Time_series.from_dict(time_series_dict_user1)"
   ]
  },
  {
   "cell_type": "markdown",
   "metadata": {},
   "source": [
    "#### 1.2.1 Instanciation des dates"
   ]
  },
  {
   "cell_type": "code",
   "execution_count": null,
   "metadata": {},
   "outputs": [],
   "source": [
    "emu_observ_test_user1._dates # il n'y a pas de date encore"
   ]
  },
  {
   "cell_type": "code",
   "execution_count": null,
   "metadata": {},
   "outputs": [],
   "source": [
    "emu_observ_test_user1._generate_dates_series()\n",
    "emu_observ_test_user1._dates # les dates sont remplies au format demandé par la classe colonne"
   ]
  },
  {
   "cell_type": "markdown",
   "metadata": {},
   "source": [
    "#### 1.2.2 Génération des séries de données d'initialisation\n",
    "Les méthodes ci-dessous permettent de générer les séries temporelles extraites du datalogger en temps normal.\n",
    "\n",
    "Un premier format disponible est celui adapté aux entrées de la classe colonne.\n",
    "\n",
    "Un deuxième ensemble d'attributs est au format np.array plus pratique pour travailler sur un notebook avec des tableaux."
   ]
  },
  {
   "cell_type": "code",
   "execution_count": null,
   "metadata": {},
   "outputs": [],
   "source": [
    "print(emu_observ_test_user1._T_Shaft_measures)\n",
    "print(emu_observ_test_user1._molonariP_data)"
   ]
  },
  {
   "cell_type": "code",
   "execution_count": null,
   "metadata": {},
   "outputs": [],
   "source": [
    "#méthode de génération\n",
    "emu_observ_test_user1._generate_all_series()\n",
    "emu_observ_test_user1._generate_Shaft_Temp_series()\n",
    "\n",
    "# les attributs sont générés\n",
    "emu_observ_test_user1._T_Shaft_measures\n",
    "emu_observ_test_user1._molonariP_data"
   ]
  },
  {
   "cell_type": "code",
   "execution_count": null,
   "metadata": {},
   "outputs": [],
   "source": [
    "# les attributs au format tableau\n",
    "emu_observ_test_user1._dH\n",
    "emu_observ_test_user1._T_aq\n",
    "emu_observ_test_user1._T_riv\n",
    "emu_observ_test_user1._T_Shaft # np.array([[T1, T2, T3, Taq](t=0), [T1, T2, T3, Taq](t=1), ... ])\n",
    "\n",
    "# ici on a également la température de l'aquifère la valeur en 9e5 est une valeur par défaut d'initialisation\n",
    "# il faut utiliser le modèle direct pour avoir des valeurs réalistes de T1, T2, T3"
   ]
  },
  {
   "cell_type": "markdown",
   "metadata": {},
   "source": [
    "#### 1.2.3 Génération des points T1, T2, T3 avec le modèle direct\n",
    "\n",
    "Il faut d'abord créer un objet colonne qui représente l'expérience"
   ]
  },
  {
   "cell_type": "code",
   "execution_count": 9,
   "metadata": {},
   "outputs": [],
   "source": [
    "# l'utilisateur génère un dictionnaire avec les données importantes de la colonne\n",
    "name =\"Couche en sable\"\n",
    "zLow = 1\n",
    "moinslog10K = 10\n",
    "n = 0.1\n",
    "lambda_s = 2 # test cas purement advectif\n",
    "rhos_cs = 4e6\n",
    "\n",
    "# modèle une couche\n",
    "layers_list= layersListCreator([(name, zLow, moinslog10K, n, lambda_s, rhos_cs)])\n",
    "\n",
    "# on utilise les mesures générées précédemment dans les init \"dH_measures\" et \"T_measures\"\n",
    "col_dict = {\n",
    "\t\"river_bed\": 1., \n",
    "    \"depth_sensors\": [.25, .5, .75, 1], #En vrai y aura une 4e valeur ici mais ca prendra en charge pareil\n",
    "\t\"offset\": .0,\n",
    "    \"dH_measures\": emu_observ_test_user1._molonariP_data,\n",
    "    \"T_measures\": emu_observ_test_user1._T_Shaft_measures,\n",
    "    \"sigma_meas_P\": None, #float\n",
    "    \"sigma_meas_T\": None, #float\n",
    "}\n",
    "col = Column.from_dict(col_dict)"
   ]
  },
  {
   "cell_type": "markdown",
   "metadata": {},
   "source": [
    "On peut vérifier que l'objet colonne a récupéré les valeurs d'initialisation de Time_series. \n",
    "On a également des conditions initiales [T1, T2, T3](t=0) qui viennent d'un méthode d'interpolation en ligne brisée.\n"
   ]
  },
  {
   "cell_type": "code",
   "execution_count": null,
   "metadata": {},
   "outputs": [],
   "source": [
    "col._T_measures"
   ]
  },
  {
   "cell_type": "markdown",
   "metadata": {},
   "source": [
    "On utilise la méthode [_measures_column_one_layer(col, layers_list, nb_cells)] qui met à jour les mesures de T1, T2, T3 à chaque instant. Les objets Column et Time_series sont mis à jour ensemble."
   ]
  },
  {
   "cell_type": "code",
   "execution_count": null,
   "metadata": {},
   "outputs": [],
   "source": [
    "# on résoud le modèle direct avec les observations simulées\n",
    "nb_cells = 100\n",
    "emu_observ_test_user1._measures_column_one_layer(col, layers_list, nb_cells)"
   ]
  },
  {
   "cell_type": "code",
   "execution_count": null,
   "metadata": {},
   "outputs": [],
   "source": [
    "# valeurs maj des températures de T_shaft np.array([[T1, T2, T3, Taq](t=0), [T1, T2, T3, Taq](t=1), ... ])\n",
    "emu_observ_test_user1._T_Shaft"
   ]
  },
  {
   "cell_type": "code",
   "execution_count": null,
   "metadata": {},
   "outputs": [],
   "source": [
    "# valeurs maj des températures de col.T_measure np.array([[T1, T2, T3](t=0), [T1, T2, T3](t=1), ... ])\n",
    "col._T_measures # expliquer la différence entre les premières lignes ... ? "
   ]
  },
  {
   "cell_type": "code",
   "execution_count": null,
   "metadata": {},
   "outputs": [],
   "source": [
    "# les sorties des différents capteurs après passage dans le modèle direct\n",
    "nt = 14000\n",
    "nini = 0\n",
    "nfin = nt\n",
    "plt.plot(emu_observ_test_user1._T_riv[nini:nfin], label=\"Triv\")\n",
    "n_sens = len(emu_observ_test_user1._T_Shaft[0])\n",
    "for i in range(n_sens-1):\n",
    "    plt.plot(emu_observ_test_user1._T_Shaft[nini:nfin,i], label=\"T{}\".format(i+1))\n",
    "plt.plot(emu_observ_test_user1._T_Shaft[nini:nfin,n_sens-1], label=\"Taq\")\n",
    "plt.legend()\n",
    "plt.grid()\n",
    "\n",
    "# la valeur moyenne diminue (ce qui ne devrait pas arriver)"
   ]
  },
  {
   "cell_type": "code",
   "execution_count": null,
   "metadata": {},
   "outputs": [],
   "source": [
    "plt.plot(emu_observ_test_user1._T_riv, label=\"Triv\")\n",
    "plt.plot(col._temperatures[0,:], label=\"T z=0.01m\")\n",
    "plt.plot(col._temperatures[5,:], label=\"T z=0.03m\")\n",
    "plt.plot(emu_observ_test_user1._T_Shaft[:,0], label=\"T1 z=0.1m\")\n",
    "plt.legend()\n",
    "plt.ylabel(\"Température (°C)\")\n",
    "plt.xlabel(\"t\")"
   ]
  },
  {
   "cell_type": "code",
   "execution_count": null,
   "metadata": {},
   "outputs": [],
   "source": [
    "im = plt.imshow(col._H_res, aspect=\"auto\")\n",
    "plt.colorbar(im)"
   ]
  },
  {
   "cell_type": "code",
   "execution_count": null,
   "metadata": {},
   "outputs": [],
   "source": [
    "plt.imshow(col._temperatures[:,:3000], aspect='auto')\n",
    "# on voit bien le déphasage mais a encore cette modulation"
   ]
  },
  {
   "cell_type": "code",
   "execution_count": null,
   "metadata": {},
   "outputs": [],
   "source": [
    "nt = len(col._temperatures[0,:])\n",
    "for i in range(1500):\n",
    "    plt.plot(col._temperatures[:,i]-ZERO_CELSIUS, -col._z_solve)\n",
    "plt.ylabel(\"depth\")\n",
    "plt.xlabel(\"T (°C)\")\n",
    "plt.grid()\n",
    "#plt.xlim(282,286)"
   ]
  },
  {
   "cell_type": "code",
   "execution_count": null,
   "metadata": {},
   "outputs": [],
   "source": [
    "plt.plot(emu_observ_test_user1._T_Shaft[0]-ZERO_CELSIUS)"
   ]
  },
  {
   "cell_type": "code",
   "execution_count": null,
   "metadata": {},
   "outputs": [],
   "source": [
    "emu_observ_test_user1._T_Shaft_measures"
   ]
  },
  {
   "cell_type": "code",
   "execution_count": null,
   "metadata": {},
   "outputs": [],
   "source": [
    "nt = len(col._H_res[0,:])\n",
    "for i in range(1000):\n",
    "    plt.plot(col._H_res[:,i], -col._z_solve)\n",
    "plt.ylabel(\"depth\")\n",
    "plt.xlabel(\"H (m)\")"
   ]
  },
  {
   "cell_type": "code",
   "execution_count": null,
   "metadata": {},
   "outputs": [],
   "source": [
    "col._temperatures[:,0]-ZERO_CELSIUS"
   ]
  },
  {
   "cell_type": "markdown",
   "metadata": {},
   "source": [
    "## 2. Cas avec perturbation des observations"
   ]
  },
  {
   "cell_type": "code",
   "execution_count": 23,
   "metadata": {},
   "outputs": [],
   "source": [
    "t_debut = (2011, 8, 1)\n",
    "t_fin = (2011, 8, 31, 23, 59, 59)\n",
    "dt = 15*60 # pas de temps en (s)\n",
    "\n",
    "T_riv_amp = 4\n",
    "T_riv_offset = 20\n",
    "P_T_riv = 72*4*dt\n",
    "\n",
    "T_aq_amp = 0\n",
    "T_aq_offset = 14\n",
    "P_T_aq = 9999 # à mettre dans le init\n",
    "\n",
    "dH_amp = 0\n",
    "dH_offset = 1\n",
    "P_dh = -9999 #14*24*4*dt\n",
    "\n",
    "depth_sensors = [.1, .2, .3, .4]"
   ]
  },
  {
   "cell_type": "code",
   "execution_count": 24,
   "metadata": {},
   "outputs": [],
   "source": [
    "time_series_dict_user2 = {\n",
    "    \"offset\" : 0,\n",
    "    \"depth_sensors\":depth_sensors,\n",
    "\t\"param_time_dates\": [t_debut, t_fin, dt], \n",
    "    \"param_dH_signal\": [dH_amp, P_dh, dH_offset], #En vrai y aura une 4e valeur ici mais ca prendra en charge pareil\n",
    "\t\"param_T_riv_signal\": [T_riv_amp, P_T_riv, T_riv_offset],\n",
    "    \"param_T_aq_signal\": [T_aq_amp, P_T_aq, T_aq_offset],\n",
    "    \"sigma_meas_P\": 0.05,\n",
    "    \"sigma_meas_T\": 0.1, #float\n",
    "}"
   ]
  },
  {
   "cell_type": "code",
   "execution_count": 25,
   "metadata": {},
   "outputs": [],
   "source": [
    "emu_observ_test_user2 = Time_series.from_dict(time_series_dict_user2)\n",
    "\n",
    "emu_observ_test_user2._generate_dates_series()\n",
    "emu_observ_test_user2._generate_Temp_aq_series()\n",
    "emu_observ_test_user2._generate_all_series()\n",
    "emu_observ_test_user2._generate_Temp_riv_series()\n",
    "emu_observ_test_user2._generate_Shaft_Temp_series()"
   ]
  },
  {
   "cell_type": "code",
   "execution_count": 26,
   "metadata": {},
   "outputs": [],
   "source": [
    "# l'utilisateur génère un dictionnaire avec les données importantes de la colonne\n",
    "name =\"Couche en sable\"\n",
    "zLow = 0.4\n",
    "moinslog10K = 12\n",
    "n = 0.1\n",
    "lambda_s = 2 \n",
    "rhos_cs = 4e6\n",
    "\n",
    "# on utilise les mesures générées précédemment\n",
    "col_dict2 = {\n",
    "\t\"river_bed\": 1., \n",
    "    \"depth_sensors\": depth_sensors, #En vrai y aura une 4e valeur ici mais ca prendra en charge pareil\n",
    "\t\"offset\": .0,\n",
    "    \"dH_measures\": emu_observ_test_user2._molonariP_data,\n",
    "    \"T_measures\": emu_observ_test_user2._T_Shaft_measures,\n",
    "    \"sigma_meas_P\": emu_observ_test_user2._sigma_P, #float\n",
    "    \"sigma_meas_T\": emu_observ_test_user2._sigma_T, #float\n",
    "}\n",
    "\n",
    "col2 = Column.from_dict(col_dict2)\n",
    "\n",
    "# modèle une couche\n",
    "layers_list2= layersListCreator([(name, zLow, moinslog10K, n, lambda_s, rhos_cs)])"
   ]
  },
  {
   "cell_type": "code",
   "execution_count": null,
   "metadata": {},
   "outputs": [],
   "source": [
    "nb_cells = 100\n",
    "emu_observ_test_user2._measures_column_one_layer(col2, layers_list2, nb_cells)\n",
    "\n",
    "emu_observ_test_user2._generate_perturb_T_riv_dH_series()\n",
    "emu_observ_test_user2._generate_perturb_Shaft_Temp_series()"
   ]
  },
  {
   "cell_type": "code",
   "execution_count": null,
   "metadata": {},
   "outputs": [],
   "source": [
    "# les sorties des différents capteurs après passage dans le modèle direct\n",
    "nt = 3000\n",
    "plt.plot(emu_observ_test_user2._T_riv_perturb[:nt], label=\"Triv\")\n",
    "n_sens = len(emu_observ_test_user2._T_Shaft_perturb[0])\n",
    "for i in range(n_sens-1):\n",
    "    plt.plot(emu_observ_test_user2._T_Shaft_perturb[:nt,i], label=\"T{}\".format(i+1))\n",
    "plt.plot(emu_observ_test_user2._T_Shaft_perturb[:nt,n_sens-1], label=\"Taq\")\n",
    "plt.legend()\n",
    "plt.grid()"
   ]
  },
  {
   "cell_type": "markdown",
   "metadata": {},
   "source": [
    "# Test valeur par défaut de la classe émulation"
   ]
  },
  {
   "cell_type": "code",
   "execution_count": 29,
   "metadata": {},
   "outputs": [],
   "source": [
    "time_series_dict_user3 = {\n",
    "    \"offset\" : 0,\n",
    "    \"depth_sensors\":depth_sensors,\n",
    "}"
   ]
  },
  {
   "cell_type": "code",
   "execution_count": null,
   "metadata": {},
   "outputs": [],
   "source": [
    "emu_observ_test_user3 = Time_series.from_dict(time_series_dict_user3)\n",
    "\n",
    "emu_observ_test_user3._generate_Shaft_Temp_series()\n",
    "emu_observ_test_user3._T_Shaft_measures"
   ]
  },
  {
   "cell_type": "markdown",
   "metadata": {},
   "source": [
    "# Test du cas multilayer "
   ]
  },
  {
   "cell_type": "code",
   "execution_count": 31,
   "metadata": {},
   "outputs": [],
   "source": [
    "t_debut = (2011, 8, 1)\n",
    "t_fin = (2011, 8, 31, 23, 59, 59)\n",
    "dt = 15*60 # pas de temps en (s)\n",
    "\n",
    "T_riv_amp = 2\n",
    "T_riv_offset = 20\n",
    "P_T_riv = 72*4*dt\n",
    "\n",
    "T_aq_amp = 0\n",
    "T_aq_offset = 14\n",
    "P_T_aq = 9999 # à mettre dans le init\n",
    "\n",
    "dH_amp = 0\n",
    "dH_offset = 1\n",
    "P_dh = -9999 #14*24*4*dt\n",
    "\n",
    "depth_sensors = [.1, .15, .25, .3, .4] # on a mis 5 capteurs dans le shaft au lieu de 4 pour montrer que le code s'adapte"
   ]
  },
  {
   "cell_type": "code",
   "execution_count": 32,
   "metadata": {},
   "outputs": [],
   "source": [
    "time_series_dict_user4 = {\n",
    "    \"offset\" : 0,\n",
    "    \"depth_sensors\":depth_sensors,\n",
    "\t\"param_time_dates\": [t_debut, t_fin, dt], \n",
    "    \"param_dH_signal\": [dH_amp, P_dh, dH_offset], #En vrai y aura une 4e valeur ici mais ca prendra en charge pareil\n",
    "\t\"param_T_riv_signal\": [T_riv_amp, P_T_riv, T_riv_offset],\n",
    "    \"param_T_aq_signal\": [T_aq_amp, P_T_aq, T_aq_offset],\n",
    "    \"sigma_meas_P\": 0.05,\n",
    "    \"sigma_meas_T\": 0.1, #float\n",
    "}"
   ]
  },
  {
   "cell_type": "code",
   "execution_count": 33,
   "metadata": {},
   "outputs": [],
   "source": [
    "emu_observ_test_user4 = Time_series.from_dict(time_series_dict_user4)\n",
    "\n",
    "emu_observ_test_user4._generate_dates_series()\n",
    "emu_observ_test_user4._generate_Temp_aq_series()\n",
    "emu_observ_test_user4._generate_all_series()\n",
    "emu_observ_test_user4._generate_Temp_riv_series()\n",
    "emu_observ_test_user4._generate_Shaft_Temp_series()"
   ]
  },
  {
   "cell_type": "code",
   "execution_count": 34,
   "metadata": {},
   "outputs": [],
   "source": [
    "# l'utilisateur génère un dictionnaire avec les données importantes de la colonne\n",
    "name = [\"gravier\",\"Couche en sable\"]\n",
    "zLow = [.2,.4]\n",
    "moinslog10K = [4,10]\n",
    "n = [.4,.1]\n",
    "lambda_s = [2,2] \n",
    "rhos_cs = [4e6,4e6]\n",
    "\n",
    "# on utilise les mesures générées précédemment\n",
    "col_dict4 = {\n",
    "\t\"river_bed\": 1., \n",
    "    \"depth_sensors\": depth_sensors, #En vrai y aura une 4e valeur ici mais ca prendra en charge pareil\n",
    "\t\"offset\": .0,\n",
    "    \"dH_measures\": emu_observ_test_user4._molonariP_data,\n",
    "    \"T_measures\": emu_observ_test_user4._T_Shaft_measures,\n",
    "    \"sigma_meas_P\": emu_observ_test_user4._sigma_P, #float\n",
    "    \"sigma_meas_T\": emu_observ_test_user4._sigma_T, #float\n",
    "}\n",
    "\n",
    "col4 = Column.from_dict(col_dict4)\n",
    "\n",
    "# modèle une couche\n",
    "layers_list4= layersListCreator([(name[i], zLow[i], moinslog10K[i], n[i], lambda_s[i], rhos_cs[i]) for i in range(len(name))])"
   ]
  },
  {
   "cell_type": "code",
   "execution_count": null,
   "metadata": {},
   "outputs": [],
   "source": [
    "nb_cells = 100\n",
    "emu_observ_test_user4._measures_column_one_layer(col4, layers_list4, nb_cells)\n",
    "\n",
    "emu_observ_test_user4._generate_perturb_T_riv_dH_series()\n",
    "emu_observ_test_user4._generate_perturb_Shaft_Temp_series()"
   ]
  },
  {
   "cell_type": "code",
   "execution_count": null,
   "metadata": {},
   "outputs": [],
   "source": [
    "emu_observ_test_user4._T_Shaft_perturb"
   ]
  },
  {
   "cell_type": "code",
   "execution_count": null,
   "metadata": {},
   "outputs": [],
   "source": [
    "# les sorties des différents capteurs après passage dans le modèle direct\n",
    "nt = 3000\n",
    "plt.plot(emu_observ_test_user4._T_riv_perturb[:nt], label=\"Triv\")\n",
    "n_sens = len(emu_observ_test_user4._T_Shaft_perturb[0])\n",
    "for i in range(n_sens-1):\n",
    "    plt.plot(emu_observ_test_user4._T_Shaft_perturb[:nt,i], label=\"T{}\".format(i+1))\n",
    "plt.plot(emu_observ_test_user4._T_Shaft_perturb[:nt,n_sens-1], label=\"Taq\")\n",
    "plt.legend()\n",
    "plt.grid()"
   ]
  },
  {
   "cell_type": "code",
   "execution_count": null,
   "metadata": {},
   "outputs": [],
   "source": [
    "nt = len(col4._temperatures[0,:])\n",
    "for i in range(1000,2000):\n",
    "    plt.plot(col4._temperatures[:,i], -col._z_solve)\n",
    "plt.ylabel(\"depth\")\n",
    "plt.xlabel(\"T (°C)\")\n",
    "plt.grid()\n",
    "#plt.xlim(282,286)"
   ]
  },
  {
   "cell_type": "code",
   "execution_count": null,
   "metadata": {},
   "outputs": [],
   "source": [
    "plt.imshow(col._temperatures[:,:], aspect='auto')"
   ]
  }
 ],
 "metadata": {
  "interpreter": {
   "hash": "9efce205f64ad363cd9f14615485aca38ee4ef0915866e318aa83c8d0c93f6fc"
  },
  "kernelspec": {
   "display_name": "Python 3.10.4 64-bit",
   "language": "python",
   "name": "python3"
  },
  "language_info": {
   "codemirror_mode": {
    "name": "ipython",
    "version": 3
   },
   "file_extension": ".py",
   "mimetype": "text/x-python",
   "name": "python",
   "nbconvert_exporter": "python",
   "pygments_lexer": "ipython3",
   "version": "3.10.12"
  },
  "orig_nbformat": 4
 },
 "nbformat": 4,
 "nbformat_minor": 2
}
