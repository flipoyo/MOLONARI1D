{
 "cells": [
  {
   "cell_type": "markdown",
   "metadata": {},
   "source": [
    "## Demo PyHeat Val_direct\n",
    "\n",
    "MOLONARI 2022 créé par Guillaume de Rochefort\n",
    "\n",
    "Ceci est un notebook de démo pour la récupération de valeur de température d'après la solution numérique des équations hydrothermiques. Based on the ``Time_series`` class in ``gen_test.py``"
   ]
  },
  {
   "cell_type": "code",
   "execution_count": 1,
   "metadata": {},
   "outputs": [],
   "source": [
    "from pyheatmy import *\n",
    "import matplotlib.pyplot as plt\n",
    "import numpy as np"
   ]
  },
  {
   "cell_type": "markdown",
   "metadata": {},
   "source": [
    "## 0. Variables globales de l'expérience\n",
    "Variables temporelles, nombre de cellules de colonne, paramètres de couche"
   ]
  },
  {
   "cell_type": "code",
   "execution_count": 2,
   "metadata": {},
   "outputs": [],
   "source": [
    "# paremètres de l'expérience\n",
    "t_debut = (2011, 8, 1)\n",
    "t_fin = (2011, 8, 31, 23, 59, 59)\n",
    "dt = 15*60 # pas de temps en (s)\n",
    "\n",
    "T_riv_amp = 4\n",
    "T_riv_offset = 20\n",
    "P_T_riv = 7*24*4*dt\n",
    "\n",
    "T_aq_amp = 0\n",
    "T_aq_offset = 20\n",
    "P_T_aq = 9999 # à mettre dans le init\n",
    "\n",
    "dH_amp = 0\n",
    "dH_offset = -1\n",
    "P_dh = -9999 #14*24*4*dt\n",
    "\n",
    "nb_cells = 100\n",
    "depth_sensors = [.1, .2, .3, 1]\n",
    "moinslog10K = 12\n",
    "n = .1\n",
    "lambda_s = 2\n",
    "rho_cs = 4e6\n"
   ]
  },
  {
   "cell_type": "markdown",
   "metadata": {},
   "source": [
    "## 1. Définition de l'expérience\n",
    "Une fonction de définition de l'expérience a été codée dans le notebook cas test"
   ]
  },
  {
   "cell_type": "code",
   "execution_count": null,
   "metadata": {},
   "outputs": [],
   "source": [
    "# définition de l'expérience \n",
    "\n",
    "\"\"\"Times series\"\"\"\n",
    "time_series_dict = {\n",
    "    \"offset\" : 0,\n",
    "    \"depth_sensors\":depth_sensors,\n",
    "\t\"param_time_dates\": [t_debut, t_fin, dt], \n",
    "    \"param_dH_signal\": [dH_amp, P_dh, dH_offset], #En vrai y aura une 4e valeur ici mais ca prendra en charge pareil\n",
    "\t\"param_T_riv_signal\": [T_riv_amp, P_T_riv, T_riv_offset],\n",
    "    \"param_T_aq_signal\": [T_aq_amp, P_T_aq, T_aq_offset],\n",
    "    \"sigma_meas_P\": 0.05,\n",
    "    \"sigma_meas_T\": 0.1, #float\n",
    "}\n",
    "time_series = Time_series.from_dict(time_series_dict)\n",
    "time_series._generate_perturb_T_riv_dH_series()\n",
    "time_series._generate_perturb_Shaft_Temp_series()\n",
    "\n",
    "\"\"\"Colonne\"\"\"\n",
    "col_dict = {\n",
    "\t\"river_bed\": 1., \n",
    "    \"depth_sensors\": depth_sensors, #En vrai y aura une 4e valeur ici mais ca prendra en charge pareil\n",
    "\t\"offset\": .0,\n",
    "    \"dH_measures\": time_series._molonariP_data,\n",
    "    \"T_measures\": time_series._T_Shaft_measures,\n",
    "    \"sigma_meas_P\": time_series._sigma_P, #float\n",
    "    \"sigma_meas_T\": time_series._sigma_T, #float\n",
    "}\n",
    "colonne_exp = Column.from_dict(col_dict)\n",
    "\n",
    "\"\"\"Layer\"\"\"\n",
    "monolayer_dict = {\n",
    "    \"name\": \"sable\",\n",
    "    \"zLow\": depth_sensors[-1],\n",
    "    \"moinslog10K\": moinslog10K,\n",
    "    \"n\": n,\n",
    "    \"lambda_s\": lambda_s,\n",
    "    \"rhos_cs\": rho_cs\n",
    "}\n",
    "monolayer = Layer.from_dict(monolayer_dict)\n",
    "\n",
    "\n",
    "\"\"\"Valeurs analytiques\"\"\"\n",
    "analy_sol_dict = {\n",
    "    \"column_exp\" : colonne_exp,\n",
    "    \"time_series\" : time_series,\n",
    "    \"monolayer\" : monolayer,\n",
    "    \"nb_cells\" : nb_cells,\n",
    "}"
   ]
  },
  {
   "cell_type": "markdown",
   "metadata": {},
   "source": [
    "## 2. Démonstration de la fiabilité du modèle direct avec les solutions analytiques générales\n",
    "L'utilisateur expert peut réaliser d'autres test en utilisant les objets générés."
   ]
  },
  {
   "cell_type": "markdown",
   "metadata": {},
   "source": [
    "### 2.1 Calcul du RMSE"
   ]
  },
  {
   "cell_type": "code",
   "execution_count": null,
   "metadata": {},
   "outputs": [],
   "source": [
    "analy_sol_exp = Analy_Sol.from_dict(analy_sol_dict)\n",
    "\n",
    "# MAJ des attributs de l'objet\n",
    "analy_sol_exp.compute_temp_general()\n",
    "analy_sol_exp.compute_temp_cond()\n",
    "analy_sol_exp.generate_RMSE_analytical(time_series, colonne_exp, monolayer)"
   ]
  },
  {
   "cell_type": "markdown",
   "metadata": {},
   "source": [
    "### 2.2 Comparaison visuelle du modèle direct et de la solution analytique"
   ]
  },
  {
   "cell_type": "code",
   "execution_count": null,
   "metadata": {},
   "outputs": [],
   "source": [
    "t_fin =1500\n",
    "\n",
    "for i,id_sens in enumerate(analy_sol_exp._id_sensors) :\n",
    "    plt.plot(analy_sol_exp.analy_temp_general[id_sens,:t_fin],label=\"Tanaly{}\".format(i+1))\n",
    "    plt.plot(time_series._T_Shaft[:t_fin,i],linestyle=\"--\",label=\"Tmd{}\".format(i+1))\n",
    "plt.legend()\n",
    "plt.grid()"
   ]
  },
  {
   "cell_type": "markdown",
   "metadata": {},
   "source": [
    "### 2.3 Comparaison de la différence entre modèle direct et solution analytique en temporel"
   ]
  },
  {
   "cell_type": "code",
   "execution_count": null,
   "metadata": {},
   "outputs": [],
   "source": [
    "for i,id_sens in enumerate(analy_sol_exp._id_sensors) :\n",
    "    plt.plot(analy_sol_exp.analy_temp_general[id_sens,:]-time_series._T_Shaft[:,i],label=\"T{}\".format(i+1))\n",
    "plt.legend()\n",
    "plt.grid()"
   ]
  },
  {
   "cell_type": "markdown",
   "metadata": {},
   "source": [
    "### 2.4 Comparaison du modèle direct et de la solution analytique en profil de température"
   ]
  },
  {
   "cell_type": "code",
   "execution_count": null,
   "metadata": {},
   "outputs": [],
   "source": [
    "# l'utilisateur peut changer l'instant d'observation du profil\n",
    "t_obs = 0\n",
    "\n",
    "plt.plot(analy_sol_exp.analy_temp_cond[:,t_obs],-analy_sol_exp._z_solve, label='Analy')\n",
    "plt.plot(colonne_exp.temperaturesraturesraturesratures_solve[:,t_obs],-analy_sol_exp._z_solve, label='MD')\n",
    "plt.plot(time_series._T_Shaft[t_obs],-np.array(colonne_exp.depth_sensors), marker='o',label='Tshaft variable')\n",
    "plt.legend()\n",
    "plt.grid()\n",
    "plt.title(\"Profils de températures à t={}\".format(t_obs))\n",
    "plt.xlabel(\"T(°C)\")\n",
    "plt.ylabel(\"z(m)\")"
   ]
  },
  {
   "cell_type": "code",
   "execution_count": 8,
   "metadata": {},
   "outputs": [],
   "source": [
    "import matplotlib.animation as animation\n",
    "from IPython import display\n",
    "\n",
    "# initializing a figure\n",
    "fig = plt.figure()\n",
    "  \n",
    "# labeling the x-axis and y-axis\n",
    "axis = plt.axes(xlim=(15.5, 25),  ylim=(-1.05,0))\n",
    "axis.grid()\n",
    "axis.set_title(\"Profils de températures à t=0\")\n",
    "axis.set_xlabel(\"T(°C)\")\n",
    "axis.set_ylabel(\"z(m)\")\n",
    "line1, = axis.plot(0,0, label=\"analytical solution\")\n",
    "line2, = axis.plot(0,0,ls=\"--\", label=\"direct model solution\")\n",
    "line3, = axis.plot(0,0,'o',ls=\"-.\" , label=\"sensors positions\")\n",
    "axis.legend()\n",
    "fig.suptitle('Profils de températures', fontsize=14)\n",
    "\n",
    "line1.set_ydata(-analy_sol_exp._z_solve)\n",
    "line2.set_ydata(-analy_sol_exp._z_solve)\n",
    "line3.set_ydata(-np.array(colonne_exp.depth_sensors))\n",
    "def animate(frame_number):\n",
    "    axis.set_title(\"Profils de températures à t={}\".format(frame_number))\n",
    "    line1.set_xdata(analy_sol_exp.analy_temp_cond[:,frame_number])\n",
    "    line2.set_xdata(colonne_exp.temperatures_solve[:,frame_number])\n",
    "    line3.set_xdata(time_series._T_Shaft[frame_number])\n",
    "    return line1,line2,line3,\n",
    "\n",
    "anim = animation.FuncAnimation(fig, animate, frames=1000, \n",
    "                               interval=200, blit=True)\n",
    "\n",
    "# saving to m4 using ffmpeg writer\n",
    "writervideo = animation.PillowWriter(fps=28)\n",
    "anim.save('time_temp_profile.gif', writer=writervideo)\n",
    "plt.close()\n",
    "\n"
   ]
  }
 ],
 "metadata": {
  "interpreter": {
   "hash": "aee8b7b246df8f9039afb4144a1f6fd8d2ca17a180786b69acc140d282b71a49"
  },
  "kernelspec": {
   "display_name": "Python 3.10.1 64-bit",
   "language": "python",
   "name": "python3"
  },
  "language_info": {
   "codemirror_mode": {
    "name": "ipython",
    "version": 3
   },
   "file_extension": ".py",
   "mimetype": "text/x-python",
   "name": "python",
   "nbconvert_exporter": "python",
   "pygments_lexer": "ipython3",
   "version": "3.10.12"
  },
  "orig_nbformat": 4
 },
 "nbformat": 4,
 "nbformat_minor": 2
}
