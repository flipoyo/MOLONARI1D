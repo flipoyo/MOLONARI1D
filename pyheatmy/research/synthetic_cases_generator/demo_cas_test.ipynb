{
 "cells": [
  {
   "cell_type": "markdown",
   "metadata": {},
   "source": [
    "# Demo cas test avec maquette\n",
    "\n",
    "MOLONARI 2022 créé par Guillaume de Rochefort\n",
    "\n",
    "Ceci est un notebook pour des expériences numériques en différents cas faites avec la maquette. On présente également une méthode d'affichage des caractéristiques de l'objet colonne pour visualiser les résultats des cas tests. Based on the ``Time_series`` class in ``gen_test.py``and the ``Analy_Sol`` class in ``val_analy.py``\n",
    "\n",
    "__User friendly :__ Il vous suffit de changer les paramètres des dictionnaires dans les cellules de calcul\n",
    "\n",
    "__Expert CALCUL :__ Vous pouvez directement travailler sur les objets générés"
   ]
  },
  {
   "cell_type": "code",
   "execution_count": 1,
   "metadata": {},
   "outputs": [],
   "source": [
    "# importation des modules de CALCUL\n",
    "from pyheatmy import *\n",
    "# importation de modules utiles pour travailler directement sur les objets.\n",
    "import matplotlib.pyplot as plt\n",
    "import numpy as np"
   ]
  },
  {
   "cell_type": "markdown",
   "metadata": {},
   "source": [
    "__Résumé des différents cas test__\n",
    "\n",
    "Cas infiltration, conduction : dH > 0, K petit\n",
    "\n",
    "Cas infiltration, advection : dH > 0, K grand\n",
    "\n",
    "Cas exfiltration, conduction : dH < 0, K petit\n",
    "\n",
    "Cas exfiltration, advection : dH < 0, K grand\n",
    "\n",
    "Le paramétrage des cas tests est répertorié de façon exhaustive sur le tableur en ligne partagé avec le lien ci-dessous :\n",
    "https://docs.google.com/spreadsheets/d/1ilzmAvUA9IV6EsWI-AGt9UUJYVuh98ky1rydrC7Ep4A/edit?usp=sharing"
   ]
  },
  {
   "cell_type": "markdown",
   "metadata": {},
   "source": [
    "## Variables globales de l'expérience\n",
    "\n",
    "Un utilisateur de cette démo peut modifier librement les paramètres temporels de l'expérience. Une modification rapide du code permet aussi de passer des variables globales dans les arguments de la fonction de définition."
   ]
  },
  {
   "cell_type": "code",
   "execution_count": 2,
   "metadata": {},
   "outputs": [],
   "source": [
    "t_debut = (2010, 1, 1)\n",
    "t_fin = (2010, 5, 30, 23, 59, 59)\n",
    "dt = 15*60 # pas de temps en (s)\n",
    "\n",
    "T_riv_amp = 1\n",
    "T_riv_offset = 20 + ZERO_CELSIUS\n",
    "P_T_riv = 5*24*4*dt\n",
    "\n",
    "T_aq_amp = 0\n",
    "T_aq_offset = 12 + ZERO_CELSIUS\n",
    "P_T_aq = -9999 # à mettre dans le init\n",
    "\n",
    "dH_amp = 0\n",
    "dH_offset = 1\n",
    "P_dh = -9999 #14*24*4*dt\n",
    "\n",
    "nb_cells =100"
   ]
  },
  {
   "cell_type": "markdown",
   "metadata": {},
   "source": [
    "## Fonction de définition de l'expérience"
   ]
  },
  {
   "cell_type": "code",
   "execution_count": 3,
   "metadata": {},
   "outputs": [],
   "source": [
    "def gen_experiment_monolayer(depth_sensors, dH_offset, name, moinslog10IntrinK, n, lambda_s, rho_cs, nb_cells=nb_cells, perturb=\"False\"):\n",
    "    \"\"\"Génération de l'expérience pour une seule couche\"\"\"\n",
    "    # définition de l'expérience \n",
    "    \"\"\"Times series\"\"\"\n",
    "    time_series_dict = {\n",
    "        \"offset\" : 0,\n",
    "        \"depth_sensors\":depth_sensors,\n",
    "        \"param_time_dates\": [t_debut, t_fin, dt], \n",
    "        \"param_dH_signal\": [dH_amp, P_dh, dH_offset],\n",
    "        \"param_T_riv_signal\": [T_riv_amp, P_T_riv, T_riv_offset],\n",
    "        \"param_T_aq_signal\": [T_aq_amp, P_T_aq, T_aq_offset],\n",
    "        \"sigma_meas_P\": 0.05,\n",
    "        \"sigma_meas_T\": 0.1, #float\n",
    "    }\n",
    "    # on génère l'objet Times_series\n",
    "    time_series = Time_series.from_dict(time_series_dict)\n",
    "    # on génère les données\n",
    "    if perturb == True :\n",
    "        time_series._generate_perturb_T_riv_dH_series()\n",
    "        time_series._generate_perturb_T_Shaft_Temp_series()\n",
    "    else :\n",
    "        time_series._generate_all_series()\n",
    "        time_series._generate_Shaft_Temp_series()\n",
    "\n",
    "    \"\"\"Colonne\"\"\"\n",
    "    col_dict = {\n",
    "        \"river_bed\": 1., \n",
    "        \"depth_sensors\": depth_sensors,\n",
    "        \"offset\": .0,\n",
    "        \"dH_measures\": time_series._molonariP_data,\n",
    "        \"T_measures\": time_series._T_Shaft_measures,\n",
    "        \"sigma_meas_P\": time_series._sigma_P, #float\n",
    "        \"sigma_meas_T\": time_series._sigma_T, #float\n",
    "    }\n",
    "    # on génère l'objet Column à partir de l'objet Time_series\n",
    "    colonne_exp = Column.from_dict(col_dict)\n",
    "\n",
    "    \"\"\"Layer\"\"\"\n",
    "    monolayer_dict = {\n",
    "        \"name\": name,\n",
    "        \"zLow\": depth_sensors[-1],\n",
    "        \"moinslog10IntrinK\": moinslog10IntrinK,\n",
    "        \"n\": n,\n",
    "        \"lambda_s\": lambda_s,\n",
    "        \"rhos_cs\": rho_cs\n",
    "    }\n",
    "    # on génère l'objet Layer\n",
    "    monolayer = Layer.from_dict(monolayer_dict)\n",
    "\n",
    "    \"\"\"Valeurs analytiques\"\"\"\n",
    "    analy_sol_dict = {\n",
    "        \"column_exp\" : colonne_exp,\n",
    "        \"time_series\" : time_series,\n",
    "        \"monolayer\" : monolayer,\n",
    "        \"nb_cells\" : nb_cells,\n",
    "    }\n",
    "\n",
    "    # on génère l'objet des solution analytique\n",
    "    analy_sol_exp = Analy_Sol.from_dict(analy_sol_dict)\n",
    "    return time_series, colonne_exp, monolayer, analy_sol_exp"
   ]
  },
  {
   "cell_type": "code",
   "execution_count": 4,
   "metadata": {},
   "outputs": [],
   "source": [
    "# si la version multilayer est définie, la version monolayer sert simplement à obtenir la valeur RMSE avec la solution analytique\n",
    "def gen_experiment_multilayer(depth_sensors, dH_offset, name_list, zLow_list, moinslog10IntrinK_list, n_list, lambda_s_list, rho_cs_list, nb_cells, perturb=\"False\"):\n",
    "    \"\"\"Génération de l'expérience pour plusieurs couches et on ne génère pas de réponse analytique\"\"\"\n",
    "    # définition de l'expérience \n",
    "    \"\"\"Times series\"\"\"\n",
    "    time_series_dict = {\n",
    "        \"offset\" : 0,\n",
    "        \"depth_sensors\":depth_sensors,\n",
    "        \"param_time_dates\": [t_debut, t_fin, dt], \n",
    "        \"param_dH_signal\": [dH_amp, P_dh, dH_offset],\n",
    "        \"param_T_riv_signal\": [T_riv_amp, P_T_riv, T_riv_offset],\n",
    "        \"param_T_aq_signal\": [T_aq_amp, P_T_aq, T_aq_offset],\n",
    "        \"sigma_meas_P\": 0.05,\n",
    "        \"sigma_meas_T\": 0.1, #float\n",
    "    }\n",
    "    # on génère l'objet Times_series\n",
    "    time_series = Time_series.from_dict(time_series_dict)\n",
    "    # on génère les données\n",
    "    if perturb == True :\n",
    "        time_series._generate_perturb_T_riv_dH_series()\n",
    "        time_series._generate_perturb_T_Shaft_Temp_series()\n",
    "    else :\n",
    "        time_series._generate_all_series()\n",
    "        time_series._generate_Shaft_Temp_series()\n",
    "\n",
    "    \"\"\"Colonne\"\"\"\n",
    "    col_dict = {\n",
    "        \"river_bed\": 1., \n",
    "        \"depth_sensors\": depth_sensors,\n",
    "        \"offset\": .0,\n",
    "        \"dH_measures\": time_series._molonariP_data,\n",
    "        \"T_measures\": time_series._T_Shaft_measures,\n",
    "        \"sigma_meas_P\": time_series._sigma_P, #float\n",
    "        \"sigma_meas_T\": time_series._sigma_T, #float\n",
    "    }\n",
    "    # on génère l'objet Column à partir de l'objet Time_series\n",
    "    colonne_exp = Column.from_dict(col_dict)\n",
    "\n",
    "    \"\"\"Layer\"\"\"\n",
    "    layers_list= layersListCreator([(name_list[i], zLow_list[i], moinslog10IntrinK_list[i], n_list[i], lambda_s_list[i], rho_cs_list[i]) for i in range(len(name_list))])\n",
    "\n",
    "    return time_series, colonne_exp, layers_list\n"
   ]
  },
  {
   "cell_type": "markdown",
   "metadata": {},
   "source": [
    "# 1. Cas test monolayer\n",
    "L'utilisateur peut choisir les paramètres principaux de l'expérience grâce au dictionnaire. Il peut également modifier des var1ables globales si besoin."
   ]
  },
  {
   "cell_type": "markdown",
   "metadata": {},
   "source": [
    "## 1.1 Monolayer Infiltrant conductif"
   ]
  },
  {
   "cell_type": "code",
   "execution_count": null,
   "metadata": {},
   "outputs": [],
   "source": [
    "# paramètres principaux de l'expérience\n",
    "dict_exp_monolayer ={\n",
    "    \"depth_sensors\": [.25, .5, .75, 1],\n",
    "    \"dH_offset\": 0.5,\n",
    "    \"name\" : \"sable\",\n",
    "    \"moinslog10IntrinK\": 12,\n",
    "    \"n\": 0.1,\n",
    "    \"lambda_s\": 2,\n",
    "    \"rho_cs\": 4e6,\n",
    "    \"nb_cells\": nb_cells,\n",
    "}\n",
    "\n",
    "# variable libre qui désigne le nombre de pas de temps visualisé sur le plot.\n",
    "nt = 3000\n",
    "\n",
    "# ne pas changer ces commandes\n",
    "experiment_monolayer = [*gen_experiment_monolayer(**dict_exp_monolayer)] # [time_series, colonne_exp, monolayer, analy_sol_exp]\n",
    "time_ser = experiment_monolayer[0]\n",
    "col = experiment_monolayer[1]\n",
    "layerlist = [experiment_monolayer[2]]\n",
    "time_ser._measures_column_one_layer(col, layerlist, nb_cells)\n",
    "col.plot_CALC_results()"
   ]
  },
  {
   "cell_type": "markdown",
   "metadata": {},
   "source": [
    "## 1.2 Monolayer Exfiltrant conductif"
   ]
  },
  {
   "cell_type": "code",
   "execution_count": null,
   "metadata": {},
   "outputs": [],
   "source": [
    "# paramètres principaux de l'expérience\n",
    "dict_exp_monolayer ={\n",
    "    \"depth_sensors\": [.25, .5, .75, 1],\n",
    "    \"dH_offset\": -0.5,\n",
    "    \"name\" : \"sable\",\n",
    "    \"moinslog10IntrinK\": 12,\n",
    "    \"n\": 0.1,\n",
    "    \"lambda_s\": 2,\n",
    "    \"rho_cs\": 4e6,\n",
    "    \"nb_cells\": nb_cells,\n",
    "}\n",
    "# maj variables globales\n",
    "\n",
    "experiment_monolayer = [*gen_experiment_monolayer(**dict_exp_monolayer)] # [time_series, colonne_exp, monolayer, analy_sol_exp]\n",
    "time_ser = experiment_monolayer[0]\n",
    "col = experiment_monolayer[1]\n",
    "layerlist = [experiment_monolayer[2]]\n",
    "time_ser._measures_column_one_layer(col, layerlist, nb_cells)\n",
    "col.plot_CALC_results()"
   ]
  },
  {
   "cell_type": "markdown",
   "metadata": {},
   "source": [
    "## 1.3 Monolayer Infiltrant advectif"
   ]
  },
  {
   "cell_type": "code",
   "execution_count": null,
   "metadata": {},
   "outputs": [],
   "source": [
    "# paramètres principaux de l'expérience\n",
    "dict_exp_monolayer ={\n",
    "    \"depth_sensors\": [.25, .5, .75, 1],\n",
    "    \"dH_offset\": 0.5,\n",
    "    \"name\" : \"sable\",\n",
    "    \"moinslog10IntrinK\": 5,\n",
    "    \"n\": 0.1,\n",
    "    \"lambda_s\": 2,\n",
    "    \"rho_cs\": 4e6,\n",
    "    \"nb_cells\": nb_cells,\n",
    "}\n",
    "# maj variables globales\n",
    "\n",
    "experiment_monolayer = [*gen_experiment_monolayer(**dict_exp_monolayer)] # [time_series, colonne_exp, monolayer, analy_sol_exp]\n",
    "time_ser = experiment_monolayer[0]\n",
    "col = experiment_monolayer[1]\n",
    "layerlist = [experiment_monolayer[2]]\n",
    "time_ser._measures_column_one_layer(col, layerlist, nb_cells)\n",
    "col.plot_CALC_results()"
   ]
  },
  {
   "cell_type": "markdown",
   "metadata": {},
   "source": [
    "## 1.4 Monolayer Exfiltrant advectif"
   ]
  },
  {
   "cell_type": "code",
   "execution_count": null,
   "metadata": {},
   "outputs": [],
   "source": [
    "# paramètres principaux de l'expérience\n",
    "dict_exp_monolayer ={\n",
    "    \"depth_sensors\": [.25, .5, .75, 1],\n",
    "    \"dH_offset\": -0.5,\n",
    "    \"name\" : \"sable\",\n",
    "    \"moinslog10IntrinK\": 12,\n",
    "    \"n\": 0.1,\n",
    "    \"lambda_s\": 2,\n",
    "    \"rho_cs\": 4e6,\n",
    "    \"nb_cells\": nb_cells,\n",
    "}\n",
    "# maj variables globales\n",
    "\n",
    "experiment_monolayer = [*gen_experiment_monolayer(**dict_exp_monolayer)] # [time_series, colonne_exp, monolayer, analy_sol_exp]\n",
    "time_ser = experiment_monolayer[0]\n",
    "col = experiment_monolayer[1]\n",
    "layerlist = [experiment_monolayer[2]]\n",
    "time_ser._measures_column_one_layer(col, layerlist, nb_cells)\n",
    "col.plot_CALC_results()"
   ]
  },
  {
   "cell_type": "markdown",
   "metadata": {},
   "source": [
    "# 2. Maquette multilayer\n",
    "\n",
    "La seule différence se trouve dans l'instanciation des paramètres des différentes couches.\n"
   ]
  },
  {
   "cell_type": "markdown",
   "metadata": {},
   "source": [
    "## 2.1 Maquette 2 layers infiltrant"
   ]
  },
  {
   "cell_type": "code",
   "execution_count": null,
   "metadata": {},
   "outputs": [],
   "source": [
    "# paramètres principaux de l'expérience\n",
    "dict_exp_multilayer ={\n",
    "    \"depth_sensors\": [0.1, 0.2, 0.3, 0.5],\n",
    "    \"dH_offset\": 1,\n",
    "    \"name_list\": [\"sable\",\"argile\"],\n",
    "    \"zLow_list\": [.25,0.5],\n",
    "    \"moinslog10IntrinK_list\": [5,4],\n",
    "    \"n_list\": [.26,.3],\n",
    "    \"lambda_s_list\": [1,5],\n",
    "    \"rho_cs_list\": [8e5,3e6],\n",
    "    \"nb_cells\": nb_cells,\n",
    "}\n",
    "# maj variables globales\n",
    "\n",
    "experiment_multilayer = [*gen_experiment_multilayer(**dict_exp_multilayer)] # [time_series, colonne_exp, layerlist]\n",
    "time_ser = experiment_multilayer[0]\n",
    "col = experiment_multilayer[1]\n",
    "layerlist = experiment_multilayer[2]\n",
    "time_ser._measures_column_one_layer(col, layerlist, nb_cells)\n",
    "col.plot_CALC_results()"
   ]
  },
  {
   "cell_type": "markdown",
   "metadata": {},
   "source": [
    "## 2.2 Maquette 2 layers exfiltrant"
   ]
  },
  {
   "cell_type": "code",
   "execution_count": null,
   "metadata": {},
   "outputs": [],
   "source": [
    "# paramètres principaux de l'expérience\n",
    "dict_exp_multilayer ={\n",
    "    \"depth_sensors\": [0.1, 0.2, 0.3, 0.5],\n",
    "    \"dH_offset\": -0.5,\n",
    "    \"name_list\": [\"sable\",\"argile\"],\n",
    "    \"zLow_list\": [.25,0.5],\n",
    "    \"moinslog10IntrinK_list\": [5,4],\n",
    "    \"n_list\": [.26,.3],\n",
    "    \"lambda_s_list\": [1,5],\n",
    "    \"rho_cs_list\": [8e5,3e6],\n",
    "    \"nb_cells\": nb_cells,\n",
    "}\n",
    "# maj variables globales\n",
    "\n",
    "experiment_multilayer = [*gen_experiment_multilayer(**dict_exp_multilayer)] # [time_series, colonne_exp, layerlist]\n",
    "time_ser = experiment_multilayer[0]\n",
    "col = experiment_multilayer[1]\n",
    "layerlist = experiment_multilayer[2]\n",
    "time_ser._measures_column_one_layer(col, layerlist, nb_cells)\n",
    "col.plot_CALC_results()"
   ]
  },
  {
   "cell_type": "markdown",
   "metadata": {},
   "source": [
    "# 3. Cas tests multilayers\n",
    "\n",
    "Nous choississons un set arbitraire de 3 couches"
   ]
  },
  {
   "cell_type": "markdown",
   "metadata": {},
   "source": [
    "## 3.1 une couche/capteur"
   ]
  },
  {
   "cell_type": "markdown",
   "metadata": {},
   "source": [
    "### 3.1.1 Infiltrant"
   ]
  },
  {
   "cell_type": "code",
   "execution_count": null,
   "metadata": {},
   "outputs": [],
   "source": [
    "# paramètres principaux de l'expérience\n",
    "dict_exp_multilayer ={\n",
    "    \"depth_sensors\": [.1, .2, .3, .4],\n",
    "    \"dH_offset\": 0.5,\n",
    "    \"name_list\": [\"gravier\",\"sable\",\"argile\"],\n",
    "    \"zLow_list\": [.15,.25,.4],\n",
    "    \"moinslog10IntrinK_list\": [12,12,12],\n",
    "    \"n_list\": [.5,.3,.1],\n",
    "    \"lambda_s_list\": [2,2,2],\n",
    "    \"rho_cs_list\": [4e6,4e6,4e6],\n",
    "    \"nb_cells\": nb_cells,\n",
    "}\n",
    "# maj variables globales\n",
    "\n",
    "experiment_multilayer = [*gen_experiment_multilayer(**dict_exp_multilayer)] # [time_series, colonne_exp, layerlist]\n",
    "time_ser = experiment_multilayer[0]\n",
    "col = experiment_multilayer[1]\n",
    "layerlist = experiment_multilayer[2]\n",
    "time_ser._measures_column_one_layer(col, layerlist, nb_cells)\n",
    "col.plot_CALC_results()"
   ]
  },
  {
   "cell_type": "markdown",
   "metadata": {},
   "source": [
    "### 3.1.2 Exfiltrant"
   ]
  },
  {
   "cell_type": "code",
   "execution_count": null,
   "metadata": {},
   "outputs": [],
   "source": [
    "# paramètres principaux de l'expérience\n",
    "dict_exp_multilayer ={\n",
    "    \"depth_sensors\": [.1, .2, .3, .4],\n",
    "    \"dH_offset\": -0.5,\n",
    "    \"name_list\": [\"gravier\",\"sable\",\"argile\"],\n",
    "    \"zLow_list\": [.15,.25,.4],\n",
    "    \"moinslog10IntrinK_list\": [12,12,12],\n",
    "    \"n_list\": [.5,.3,.1],\n",
    "    \"lambda_s_list\": [2,2,2],\n",
    "    \"rho_cs_list\": [4e6,4e6,4e6],\n",
    "    \"nb_cells\": nb_cells,\n",
    "}\n",
    "# maj variables globales\n",
    "\n",
    "experiment_multilayer = [*gen_experiment_multilayer(**dict_exp_multilayer)] # [time_series, colonne_exp, layerlist]\n",
    "time_ser = experiment_multilayer[0]\n",
    "col = experiment_multilayer[1]\n",
    "layerlist = experiment_multilayer[2]\n",
    "time_ser._measures_column_one_layer(col, layerlist, nb_cells)\n",
    "col.plot_CALC_results()"
   ]
  },
  {
   "cell_type": "markdown",
   "metadata": {},
   "source": [
    "## 3.2 une couche sans capteur"
   ]
  },
  {
   "cell_type": "markdown",
   "metadata": {},
   "source": [
    "### 3.2.1 Infiltrant"
   ]
  },
  {
   "cell_type": "code",
   "execution_count": null,
   "metadata": {},
   "outputs": [],
   "source": [
    "# paramètres principaux de l'expérience\n",
    "dict_exp_multilayer ={\n",
    "    \"depth_sensors\": [.1, .2, .3, .4],\n",
    "    \"dH_offset\": 0.5,\n",
    "    \"name_list\": [\"gravier\",\"sable\",\"argile\"],\n",
    "    \"zLow_list\": [.21,.27,.4],\n",
    "    \"moinslog10IntrinK_list\": [12,12,12],\n",
    "    \"n_list\": [.5,.3,.1],\n",
    "    \"lambda_s_list\": [2,2,2],\n",
    "    \"rho_cs_list\": [4e6,4e6,4e6],\n",
    "    \"nb_cells\": nb_cells,\n",
    "}\n",
    "# maj variables globales\n",
    "\n",
    "experiment_multilayer = [*gen_experiment_multilayer(**dict_exp_multilayer)] # [time_series, colonne_exp, layerlist]\n",
    "time_ser = experiment_multilayer[0]\n",
    "col = experiment_multilayer[1]\n",
    "layerlist = experiment_multilayer[2]\n",
    "time_ser._measures_column_one_layer(col, layerlist, nb_cells)\n",
    "col.plot_CALC_results()"
   ]
  },
  {
   "cell_type": "markdown",
   "metadata": {},
   "source": [
    "### 3.2.2 Exfiltrant"
   ]
  },
  {
   "cell_type": "code",
   "execution_count": null,
   "metadata": {},
   "outputs": [],
   "source": [
    "# paramètres principaux de l'expérience\n",
    "dict_exp_multilayer ={\n",
    "    \"depth_sensors\": [.1, .2, .3, .4],\n",
    "    \"dH_offset\": -0.5,\n",
    "    \"name_list\": [\"gravier\",\"sable\",\"argile\"],\n",
    "    \"zLow_list\": [.21,.27,.4],\n",
    "    \"moinslog10IntrinK_list\": [12,12,12],\n",
    "    \"n_list\": [.5,.3,.1],\n",
    "    \"lambda_s_list\": [2,2,2],\n",
    "    \"rho_cs_list\": [4e6,4e6,4e6],\n",
    "    \"nb_cells\": nb_cells,\n",
    "}\n",
    "# maj variables globales\n",
    "\n",
    "experiment_multilayer = [*gen_experiment_multilayer(**dict_exp_multilayer)] # [time_series, colonne_exp, layerlist]\n",
    "time_ser = experiment_multilayer[0]\n",
    "col = experiment_multilayer[1]\n",
    "layerlist = experiment_multilayer[2]\n",
    "time_ser._measures_column_one_layer(col, layerlist, nb_cells)\n",
    "col.plot_CALC_results()"
   ]
  },
  {
   "cell_type": "code",
   "execution_count": null,
   "metadata": {},
   "outputs": [],
   "source": []
  },
  {
   "cell_type": "code",
   "execution_count": null,
   "metadata": {},
   "outputs": [],
   "source": []
  }
 ],
 "metadata": {
  "interpreter": {
   "hash": "aee8b7b246df8f9039afb4144a1f6fd8d2ca17a180786b69acc140d282b71a49"
  },
  "kernelspec": {
   "display_name": "Python 3.10.1 64-bit",
   "language": "python",
   "name": "python3"
  },
  "language_info": {
   "codemirror_mode": {
    "name": "ipython",
    "version": 3
   },
   "file_extension": ".py",
   "mimetype": "text/x-python",
   "name": "python",
   "nbconvert_exporter": "python",
   "pygments_lexer": "ipython3",
   "version": "3.10.12"
  },
  "orig_nbformat": 4
 },
 "nbformat": 4,
 "nbformat_minor": 2
}
