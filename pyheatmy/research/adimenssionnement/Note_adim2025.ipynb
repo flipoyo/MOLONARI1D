{
 "cells": [
  {
   "cell_type": "markdown",
   "id": "d096b23b",
   "metadata": {},
   "source": [
    "# Note sur adimensionnement des équations\n",
    "Bastien Avrillon (MOLONARI 2025) en s'appuyant sur le travail initié par Mathis Chevé (MOLONARI 2023)"
   ]
  },
  {
   "cell_type": "markdown",
   "id": "6ded9e24",
   "metadata": {},
   "source": [
    "# Problème général"
   ]
  },
  {
   "cell_type": "markdown",
   "metadata": {},
   "source": [
    "On cherche à solutionner le couple d'équations suivantes:\n",
    "\n",
    "$$\n",
    "\\left\\{\\begin{array}{lll} \n",
    "S_s \\partial_t h & = & \\partial_z (K \\partial_z H) + q_{l} \\\\\n",
    "\\rho_m c_m \\partial_t T & = & \\rho_w c_w q \\partial_z T + \\lambda_m \\partial_z^2 T \n",
    "\\end{array} \\right.\n",
    "\\quad \\text{avec} \\quad  q = K \\partial_z H \\, \\, ; \\quad  K = \\frac{k\\rho_w g}{\\mu_w} = \\frac{k g}{\\nu_w} \\, \\, ; \\quad  q_{l} = \\text{flux latéral } (s^{-1})\n",
    "$$"
   ]
  },
  {
   "cell_type": "markdown",
   "id": "2be2228d",
   "metadata": {},
   "source": [
    "L'adimensionnement de ces l'équation est utile pour simplifier la résolution si certains termes sont dominants. Ce n'est pas le cas ici : les termes peuvent tous être importants, cela dépend du régime.\n",
    "En outre, en adimensionnant correctement l'équation, tout les paramètres adimensionnés sont de l'ordre de l'unité. Cela limite donc les erreurs de calcul. Cela augmente aussi l'efficacité de calcul.\n",
    "\n",
    "On notera que l'axe z est dirigé vers le bas, d'où la définition de ${\\Delta T}$ et ${\\Delta H}$ par la suite. "
   ]
  },
  {
   "cell_type": "markdown",
   "id": "a6f233b0",
   "metadata": {},
   "source": [
    "## Adimensionnement et premières déductions"
   ]
  },
  {
   "cell_type": "markdown",
   "metadata": {},
   "source": [
    "On pose les changements de variables suivants :\n",
    "\n",
    "$$\n",
    "\\tilde{z}= \\frac{z}{h} \\quad \\text{;} \\quad \\tilde{t}= \\frac{t}{P} \\quad \\text{;} \\quad \\tilde{H} = \\frac{H - H_{riv}}{H_{nap}-H_{riv}} =  \\frac{H - H_{riv}}{\\Delta H} \\quad \\text{;} \\quad \\tilde{\\theta} = \\frac{\\theta - T_{riv}}{T_{nap}-T_{riv}} =  \\frac{\\theta - T_{riv}}{\\Delta T} \n",
    "$$\n",
    "\n",
    "Ici $h$ est la prfondeur de la colonne de sol étudiée, $P$ est la période caractéristique de variations de la température.\n",
    "\n",
    "On exprime les équations avec les nouvelles variables pour obtenir les équations adimensionnées. La perméabilité $K$, l'emmagasinement spécifiques $S_{s}$ et le flux latéral $q_{l}$ sont pris constants à l'intérieur d'une couche, domaine de validité de ces équation :\n",
    "\n",
    "\n",
    "$$\n",
    "\\left\\{\\begin{array}{rll} \n",
    "\\dfrac{S_s \\Delta H }{P} \\, \\, \\partial_{\\tilde{t}} \\tilde{H} & = & \\dfrac{K \\Delta H}{h^2}  \\, \\, \\partial_{\\tilde{z}}^2 \\tilde{H} \\, \\, + q_{l} \\\\\n",
    "\\dfrac{\\rho_m c_m \\Delta T}{P}  \\, \\, \\partial_{\\tilde{t}} \\tilde{\\theta}  & = & \\dfrac{\\rho_w c_w K \\Delta H \\Delta T}{h^2}  \\, \\, \\partial_{\\tilde{z}} \\tilde{H}  \\, \\, \\partial_{\\tilde{z}} \\tilde{\\theta} + \\dfrac{\\lambda_m \\Delta T}{h^2}  \\, \\, \\partial_{\\tilde{z}}^2  \\tilde{\\theta} \n",
    "\\end{array} \\right.\n",
    "\\quad \\text{avec} \\quad  K = \\frac{k\\rho_w g}{\\mu_w} = \\frac{k g}{\\nu_w}\n",
    "$$\n",
    "\n",
    "\n",
    "On regroupe ensuite les paramètres pour obtenir les composantes principales du système:\n",
    "\n",
    "\n",
    "$$\n",
    "\\left\\{\\begin{array}{rll} \n",
    "\\overbrace{\\dfrac{S_s h^2}{P K }}^{\\large{\\gamma}}  \\, \\, \\partial_{\\tilde{t}} \\tilde{H} & = & \\partial_{\\tilde{z}}^2 \\tilde{H} \\, \\,\n",
    "+ \\overbrace{\\dfrac{h^2 q_{l}}{K \\Delta H}}^{\\large{\\zeta}} \\\\[15pt]\n",
    "\\underbrace{\\dfrac{\\rho_m c_m h^2}{P \\lambda_m}}_{\\large{\\beta}}  \\, \\, \\partial_{\\tilde{t}} \\tilde{\\theta}  & = & \\underbrace{\\dfrac{\\rho_w c_w K \\Delta H}{\\lambda_m}}_{\\large{\\kappa}}  \\, \\, \\partial_{\\tilde{z}} \\tilde{H} \\, \\, \\partial_{\\tilde{z}} \\tilde{\\theta} + \\partial_{\\tilde{z}}^2  \\tilde{\\theta} \n",
    "\\end{array} \\right.\n",
    "\\quad \\text{avec} \\quad  K = \\frac{k\\rho_w g}{\\mu_w} = \\frac{k g}{\\nu_w}\n",
    "$$\n"
   ]
  },
  {
   "cell_type": "markdown",
   "metadata": {},
   "source": [
    "On considère donc le système adimensionné suivant:\n",
    "\n",
    "\n",
    "$$\n",
    "\\left\\{\\begin{array}{rll} \n",
    "\\gamma \\times \\partial_{\\tilde{t}} \\tilde{H}      & = & \\, \\zeta & + & \\partial_{\\tilde{z}}^2 \\tilde{H} \\\\\n",
    "\\beta  \\times \\, \\, \\partial_{\\tilde{t}} \\tilde{\\theta} & = & \\kappa \\times \\partial_{\\tilde{z}} \\tilde{H} \\times \\partial_{\\tilde{z}} \\tilde{\\theta} & + & \\partial_{\\tilde{z}}^2 \\tilde{\\theta} \n",
    "\\end{array} \\right.\n",
    "$$\n",
    "\n",
    "avec les 4 paramètres (sans dimensions) calculés dans la couche :\n",
    "$$\n",
    "\\kappa = \\frac{\\rho_w c_w k g \\Delta H}{\\mu_w \\lambda_m} \\quad ; \\quad \\beta = \\frac{\\rho_m c_m h^2}{\\lambda_m P }  \\quad ; \\quad  \\gamma = \\frac{\\mu_w h^2 S_s}{k \\rho_w g P} \\quad ; \\quad \\zeta = \\dfrac{h^2 q_{l}}{K \\Delta H}\n",
    "$$\n",
    "\n",
    "IMPORTANT: Cette analyse montre que les profils de température et de charge dépendant uniquement de ces trois paramètres $\\kappa$, $\\beta$, $\\gamma$ et $\\zeta$. Il est donc possible (sauf cas particulier) de déterminer ces quatre paramètres si on nous donne un profil.\n",
    "\n",
    "Le problème initial contient lui plus de paramètres: $n$, $k$, $S_s$, $\\lambda_m$, $\\rho$ et $c$. Il est impossible de remonter à tout ces paramètres. C'est facile à voir pour $\\rho$ et $c$: en effet, dans les équations, seul le produit $\\rho c$ appraît il est donc impossible de remonter indépendamment à $\\rho$ et $c$.\n",
    "Le fait que le profils ne dépende que du quadriplet ($\\kappa$, $\\beta$, $\\gamma$, $\\zeta$) nous montre qu'il est impossible de remonter au 6-uplet ($n$, $k$, $S_s$, $\\lambda_m$, $\\rho$, $c$). En effet plusieurs 6-uplets sont équivalent acr ils donnent le même quadriplet ($\\kappa$, $\\beta$, $\\gamma$, $\\zeta$). Il y a donc une infinité de solutions, exactes, au problème d'inversion."
   ]
  }
 ],
 "metadata": {
  "kernelspec": {
   "display_name": "py3.11.4",
   "language": "python",
   "name": "python3"
  },
  "language_info": {
   "codemirror_mode": {
    "name": "ipython",
    "version": 3
   },
   "file_extension": ".py",
   "mimetype": "text/x-python",
   "name": "python",
   "nbconvert_exporter": "python",
   "pygments_lexer": "ipython3",
   "version": "3.11.4"
  }
 },
 "nbformat": 4,
 "nbformat_minor": 5
}
