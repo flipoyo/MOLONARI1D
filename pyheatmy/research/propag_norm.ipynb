{
 "cells": [
  {
   "cell_type": "markdown",
   "metadata": {},
   "source": [
    "### Propagation de l'erreur de mesure de pression"
   ]
  },
  {
   "cell_type": "markdown",
   "metadata": {},
   "source": [
    "Dans ce notebook nous nous penchons sur l'impact de l'erreur de la mesure de la pression à un instant t sur l'évolution de la température avec la profondeur."
   ]
  },
  {
   "cell_type": "code",
   "execution_count": 28,
   "metadata": {},
   "outputs": [],
   "source": [
    "import numpy as np\n",
    "import matplotlib\n",
    "import matplotlib.pyplot as plt\n",
    "class Stallman:\n",
    "\n",
    "    def __init__(self,dH,K,cw,rhow,lambm,crhom,P,thamp,thmu,Z,T,err_H):\n",
    "        \n",
    "        \n",
    "        self.rhow = rhow\n",
    "        self.cw = cw          \n",
    "        self.crhom = crhom\n",
    "        self.lambm = lambm\n",
    "        self.dH = dH\n",
    "        self.K = K\n",
    "        \n",
    "        self.thamp= thamp\n",
    "        self.thmu = thmu\n",
    "        self.P = P\n",
    "        self.Z=Z\n",
    "        self.T=T\n",
    "        self.err_H =err_H\n",
    "\n",
    "    \n",
    "        \n",
    "    def apply(self):\n",
    "        #on applique le calcul de la température dans chaque point de temps et de profondeur\n",
    "        Xz, Xt, Y = np.empty(len(self.Z)*len(self.T)), np.empty(len(self.Z)*len(self.T)), np.empty(len(self.Z)*len(self.T)) #on crée les contenant des valeurs de profondeurs, de temps et de températures\n",
    "         #création des variables intermédiaires dans le calcul des températures\n",
    "        self.kape = self.lambm/self.crhom\n",
    "        self.alphe=self.K*(self.rhow*self.cw)/self.crhom\n",
    "        self.vt = - self.alphe*(self.dH)\n",
    "        self.a = ((((self.vt**4+((8*np.pi*self.kape)/self.P)**2)**0.5+self.vt**2)/2)**0.5-self.vt)/(2*self.kape)\n",
    "        self.b = (((self.vt**4+((8*np.pi*self.kape)/self.P)**2)**0.5-self.vt**2)/2)**0.5/(2*self.kape)\n",
    "        for i,z in enumerate(self.Z):\n",
    "            for j,t in enumerate(self.T):\n",
    "                Xz[i*len(self.T)+j] = z\n",
    "                Xt[i*len(self.T)+j] = t\n",
    "                Y[i*len(self.T)+j] = self.thmu + self.thamp*np.exp(-self.a*z)*np.cos(t*2*np.pi/self.P - self.b*z) #on calcul la température en chaque point d'espace et de temps\n",
    "        self.Xz = Xz\n",
    "        self.Xt = Xt\n",
    "        self.Y = Y\n",
    "    def apply_propag(self):   \n",
    "        Xz, Xt, Y = np.empty(len(self.Z)*len(self.T)), np.empty(len(self.Z)*len(self.T)), np.empty(len(self.Z)*len(self.T))\n",
    "        DH=[]\n",
    "        for j,t in enumerate(self.T):\n",
    "            #on applique une erreur à notre mesure de pression à un instant t\n",
    "            dH= self.dH + np.random.normal(0,abs(self.err_H)/2)\n",
    "            #on propage cette erreur dans les variables du calcul de température\n",
    "            self.kape = self.lambm/self.crhom\n",
    "            self.alphe=self.K*(self.rhow*self.cw)/self.crhom\n",
    "            self.vt = - self.alphe*(dH)\n",
    "            self.a = ((((self.vt**4+((8*np.pi*self.kape)/self.P)**2)**0.5+self.vt**2)/2)**0.5-self.vt)/(2*self.kape)\n",
    "            self.b = (((self.vt**4+((8*np.pi*self.kape)/self.P)**2)**0.5-self.vt**2)/2)**0.5/(2*self.kape)\n",
    "            #on stock les variations de pression\n",
    "            DH.append(dH)\n",
    "            for i,z in enumerate(self.Z):\n",
    "            \n",
    "                Xz[i*len(self.T)+j] = z\n",
    "                Xt[i*len(self.T)+j] = t\n",
    "\n",
    "                #on calcul la température après propagation des erreurs\n",
    "                Y[i*len(self.T)+j] = self.thmu + self.thamp*np.exp(-self.a*z)*np.cos(t*2*np.pi/self.P - self.b*z)\n",
    "        self.PropXz = Xz\n",
    "        self.PropXt = Xt\n",
    "        self.PropY = Y\n",
    "        self.PropDH = DH\n",
    "    \n",
    "    def plot_diff_pronf(self):\n",
    "        #on plot la différence entre la température référence et la perturbée en fonction de la profondeur\n",
    "        #avec un gradient de couleur pour indiquer le temps\n",
    "        fig = plt.figure(figsize=(9,2.5))\n",
    "        fig.tight_layout()\n",
    "        ax = fig.add_subplot()\n",
    "        colors = matplotlib.cm.get_cmap(\"magma\")\n",
    "        img = ax.scatter(self.Xz,self.Y-self.PropY,s=0.1,c=self.Xt/(24*3600),cmap=colors)\n",
    "        ax.set_xlabel(\"profondeur(m)\")\n",
    "        ax.set_ylabel(\"différence de température (K)\")\n",
    "        fig.colorbar(img,label=\"temps (jours)\")\n",
    "        \n",
    "        plt.show()  \n",
    "    def plot_diff_time(self):\n",
    "        #on plot la différence entre la température référence et la perturbée en fonction du temps\n",
    "        #avec un gradient de couleur pour indiquer la profondeur\n",
    "        fig = plt.figure(figsize=(9,2.5))\n",
    "        fig.tight_layout()\n",
    "        ax = fig.add_subplot()\n",
    "        colors = matplotlib.cm.get_cmap(\"magma\")\n",
    "        img = ax.scatter(self.Xt/(24*3600),self.Y-self.PropY,s=0.1,c=self.Xz,cmap=colors)\n",
    "        ax.set_xlabel(\"temps (jours)\")\n",
    "        ax.set_ylabel(\"différence de température (K)\")\n",
    "        fig.colorbar(img,label=\"profondeur(m)\")\n",
    "        \n",
    "        plt.show()  \n",
    "\n",
    "\n",
    "#on définit tous les paramètres du problèmes\n",
    "N,h = 500, 1\n",
    "dH = -2*10**(-2)\n",
    "cw, rhow = 4180, 1000\n",
    "lambm, lambw = 1, 0.6\n",
    "crhom = 4*10**6\n",
    "P = 24*365*3600\n",
    "thmu, thamp = 273.15+12.5, 12\n",
    "err_H = 0.045*dH\n",
    "\n",
    "Z = np.linspace(0,h,N)\n",
    "T = np.linspace(0,P,int(P/(24*3600)))\n",
    "K1=10**(-7)\n",
    "K2=10**(-6)\n",
    "K3=10**(-5)\n",
    "K4=10**(-4)"
   ]
  },
  {
   "cell_type": "markdown",
   "metadata": {},
   "source": [
    "Grace à la documentation sur le capteur, l'erreur relative maximale que peut faire le capteur est de 4.5%. Dans les cas étudiés la différence de charge mesurée est constante de l'ordre de 2cm, ce paramètre est donc choisi comme référence. Le modèle de variation de température est le cas sinusoïdal de période annuelle dont la température varie entre 0.5°C et 24.5°C. Sur une profondeur de 50cm, une courbe est générée par jour. Pour incorporer l'erreur on va à chaque génération journalière calculer des températures non perturbées qui seront la référence d'une part et d'autre part on ajoute une erreur à la charge qui suit une loi normale tel que son intervalle de confiance à 90% soit de plus ou moins 4.5% de la valeur de référence. On trace enfin la diférence entre la température de référence et celle perturbée en fonction de la profondeur pour chaque temps ainsi que cette différence au cours du temps pour chaque profondeurs. Cela est effectuer pour moinslogK = {4,5,6,7}."
   ]
  },
  {
   "cell_type": "code",
   "execution_count": null,
   "metadata": {},
   "outputs": [],
   "source": [
    "Ref1 = Stallman(dH,K1,cw,rhow,lambm,crhom,P,thamp,thmu,Z,T,err_H)\n",
    "Ref1.apply()\n",
    "Ref1.apply_propag()\n",
    "Ref1.plot_diff_pronf()"
   ]
  },
  {
   "cell_type": "code",
   "execution_count": null,
   "metadata": {},
   "outputs": [],
   "source": [
    "Ref1.plot_diff_time()"
   ]
  },
  {
   "cell_type": "code",
   "execution_count": null,
   "metadata": {},
   "outputs": [],
   "source": [
    "Ref2 = Stallman(dH,K2,cw,rhow,lambm,crhom,P,thamp,thmu,Z,T,err_H)\n",
    "Ref2.apply()\n",
    "Ref2.apply_propag()\n",
    "Ref2.plot_diff_pronf()"
   ]
  },
  {
   "cell_type": "code",
   "execution_count": null,
   "metadata": {},
   "outputs": [],
   "source": [
    "Ref2.plot_diff_time()"
   ]
  },
  {
   "cell_type": "code",
   "execution_count": null,
   "metadata": {},
   "outputs": [],
   "source": [
    "Ref3 = Stallman(dH,K3,cw,rhow,lambm,crhom,P,thamp,thmu,Z,T,err_H)\n",
    "Ref3.apply()\n",
    "Ref3.apply_propag()\n",
    "Ref3.plot_diff_pronf()\n"
   ]
  },
  {
   "cell_type": "code",
   "execution_count": null,
   "metadata": {},
   "outputs": [],
   "source": [
    "Ref3.plot_diff_time()"
   ]
  },
  {
   "cell_type": "code",
   "execution_count": null,
   "metadata": {},
   "outputs": [],
   "source": [
    "Ref4 = Stallman(dH,K4,cw,rhow,lambm,crhom,P,thamp,thmu,Z,T,err_H)\n",
    "Ref4.apply()\n",
    "Ref4.apply_propag()\n",
    "Ref4.plot_diff_pronf()"
   ]
  },
  {
   "cell_type": "code",
   "execution_count": null,
   "metadata": {},
   "outputs": [],
   "source": [
    "Ref4.plot_diff_time()"
   ]
  },
  {
   "cell_type": "markdown",
   "metadata": {},
   "source": [
    "Dans le pire des cas où moinslogK = 5 l'erreur de température reste de l'ordre de 0.05 Kelvin ce qui est tout à fait acceptable. De plus on voit que la propagation de l'erreur se fait principalement avec la profondeur plutôt qu'avec le temps. On voit qu'elle augmente avec K jusqu'à un certain point, en traçant des courbes plus profondes on observe que l'erreur passe par un maximum puis décroit, il semble que l'augmentation de l'erreur est compensé par les phénomènes d'atténuation avec la profondeur et pour moinslogK = 4 elle ne croit pas assez vite pour que ce soit le pire des cas sur 50 cm de profondeur."
   ]
  }
 ],
 "metadata": {
  "kernelspec": {
   "display_name": "snake",
   "language": "python",
   "name": "python3"
  },
  "language_info": {
   "codemirror_mode": {
    "name": "ipython",
    "version": 3
   },
   "file_extension": ".py",
   "mimetype": "text/x-python",
   "name": "python",
   "nbconvert_exporter": "python",
   "pygments_lexer": "ipython3",
   "version": "3.10.6"
  }
 },
 "nbformat": 4,
 "nbformat_minor": 2
}
