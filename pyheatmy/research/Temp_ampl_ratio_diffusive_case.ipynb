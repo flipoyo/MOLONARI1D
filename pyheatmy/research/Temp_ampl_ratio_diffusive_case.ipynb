{
 "cells": [
  {
   "cell_type": "markdown",
   "metadata": {},
   "source": [
    "### __Notebook to verify that looking at temperature amplitude ratio is interesting for a diffusive problem in the monodirectional case__ ###\n"
   ]
  },
  {
   "cell_type": "code",
   "execution_count": 7,
   "metadata": {},
   "outputs": [],
   "source": [
    "#Necessary imports\n",
    "\n",
    "import numpy as np\n",
    "import matplotlib.pyplot as plt\n",
    "import sklearn as sk \n",
    "from pyheatmy import * \n",
    "from pyheatmy.time_series_multiperiodic import time_series_multiperiodic"
   ]
  },
  {
   "cell_type": "code",
   "execution_count": 40,
   "metadata": {},
   "outputs": [],
   "source": [
    "#On commence par créer un signal d'entrée grace à la classe time_series_multiperiodic, que l'on forcera dans la classe Synthetic_Molonari ensuite\n",
    "\n",
    "T_riv = time_series_multiperiodic(\"multi_periodic\")\n",
    "\n",
    "#On regarde des variations de température sur une année, on définit une période journalière, et une période annuelle\n",
    "\n",
    "T_MOY_ANNUELLE = 12 + ZERO_CELSIUS #°C, représente l'offset commun de nos signaux de température\n",
    "\n",
    "T_AMP_ANNUELLE = 6 #°C, représente l'amplitude de variation de température annuelle\n",
    "\n",
    "T_AMP_JOURNALIERE = 1 #°C, représente l'amplitude de variation de température journalière\n",
    "\n",
    "P_an = 12 #Période annuelle en mois\n",
    "\n",
    "P_jour = 24 #Période journalière, en heures\n",
    "\n",
    "t_debut = (2024, 4, 15, 8, 0, 0) #On commence le 15 avril 2024 à 8h00\n",
    "t_fin = (2024, 8, 15, 8, 0, 0) #On finit le 15 avril 2025 à 8h00, on regarde ce qu'il se passe sur un an. \n",
    "dt = 15*NSECINMIN #On regarde à l'échelle de l'heure, pour pouvoir compiler plus facilement"
   ]
  },
  {
   "cell_type": "code",
   "execution_count": null,
   "metadata": {},
   "outputs": [],
   "source": [
    "#Ensuite, on commence par créer un objet synthetic_MOLONARI pour pouvoir utiliser ses méthodes (et en particulier accéder à son générateur de dates)\n",
    "\n",
    "\"\"\"Conditions limites\"\"\"\n",
    "# Température de la rivière\n",
    "zeroT = 0\n",
    "zeroT += ZERO_CELSIUS  #time_series works only with forcings in celsius. See if it is deeper in pyheatmy or not\n",
    "\n",
    "T_riv_amp = 5\n",
    "T_riv_offset = 20  + zeroT\n",
    "nday = 3\n",
    "P_T_riv = nday*NHOURINDAY*4*dt #monthly   period\n",
    "# Température de l'aquifère\n",
    "T_aq_amp = 0\n",
    "T_aq_offset = 14 + zeroT\n",
    "P_T_aq = -9999 # à mettre dans le init\n",
    "# Pression différentielle\n",
    "dH_amp = 0\n",
    "dH_offset = 0.5 #1meter ?\n",
    "P_dh = -9999 #14*24*4*dt\n",
    "\n",
    "\n",
    "depth_sensors = [.1, .2, .3, .4]\n",
    "Zbottom = 0.4\n",
    "\n",
    "\"\"\"Bruit de mesure\"\"\"\n",
    "sigma_meas_P = 0.001\n",
    "sigma_meas_T = 0.1\n",
    "\n",
    "print(\"dt={0:.1f}s\".format(dt))"
   ]
  },
  {
   "cell_type": "code",
   "execution_count": null,
   "metadata": {},
   "outputs": [],
   "source": [
    "\"\"\"Reprise du code de dmo_genData pour créer un objet synthetic_MOLONARI\"\"\"\n",
    "# un dictionnaire qui facilite le paramétrage avec des variables globales définies plus haut\n",
    "time_series_dict_user1 = {\n",
    "    \"offset\":.0,\n",
    "    \"depth_sensors\":depth_sensors,\n",
    "\t\"param_time_dates\": [t_debut, t_fin, dt], \n",
    "    \"param_dH_signal\": [dH_amp, P_dh, dH_offset], #En vrai y aura une 4e valeur ici mais ca prendra en charge pareil\n",
    "\t\"param_T_riv_signal\": [T_riv_amp, P_T_riv, T_riv_offset],\n",
    "    \"param_T_aq_signal\": [T_aq_amp, P_T_aq, T_aq_offset],\n",
    "    \"sigma_meas_P\": sigma_meas_P,\n",
    "    \"sigma_meas_T\": sigma_meas_T, #float\n",
    "}\n",
    "# instanciation du simulateur de données\n",
    "emu_observ_test_user1 = synthetic_MOLONARI.from_dict(time_series_dict_user1)\n",
    "\n",
    "# print(\"Checking params synthetic_MOLONARI\")\n",
    "# print(\"param_time_dates:\", emu_observ_test_user1._param_dates)\n",
    "# print(\"param_dH_signal:\", emu_observ_test_user1._param_dH)\n",
    "# print(\"param_T_riv_signal:\", emu_observ_test_user1._param_T_riv)\n",
    "# print(\"param_T_aq_signal:\", emu_observ_test_user1._param_T_aq)\n",
    "# print(\"sigma_meas_P:\", emu_observ_test_user1._sigma_P)\n",
    "# print(\"sigma_meas_T:\", emu_observ_test_user1._sigma_T)\n",
    "\n",
    "\n",
    "print(f\"dH : {emu_observ_test_user1._molonariP_data}\")\n",
    "print(f\"Tshaft : {emu_observ_test_user1._T_Shaft_measures}\")"
   ]
  },
  {
   "cell_type": "code",
   "execution_count": null,
   "metadata": {},
   "outputs": [],
   "source": [
    "#On print l'attribut date de l'objet créé pour voir si la forme convient \n",
    "\n",
    "print(f\"Dates : {emu_observ_test_user1._dates}\")"
   ]
  },
  {
   "cell_type": "code",
   "execution_count": null,
   "metadata": {},
   "outputs": [],
   "source": [
    "#On utilise le jeu de date précédent pour créer un signal de température multipériodique \n",
    "\n",
    "T_riv.create_multiperiodic_signal([T_AMP_ANNUELLE, T_AMP_JOURNALIERE], [[P_an, 'm'], [P_jour, 'h']], emu_observ_test_user1._dates, dt,\n",
    "                                   offset=T_MOY_ANNUELLE)\n",
    "\n",
    "T_riv.plot() #On affiche le signal de température créé"
   ]
  },
  {
   "cell_type": "code",
   "execution_count": null,
   "metadata": {},
   "outputs": [],
   "source": [
    "#On force la variable T_riv dans l'objet emu_observ_test_user1\n",
    "\n",
    "emu_observ_test_user1._T_riv = T_riv.multi_periodic[1][:]\n",
    "\n",
    "#Puis on applique les méthodes _generate_Shaft_Temp_series et _generate_perturb_Shaft_Temp_series pour changer les valeurs dépendante du nouveau T_riv\n",
    "\n",
    "emu_observ_test_user1._generate_Shaft_Temp_series()\n",
    "emu_observ_test_user1._generate_perturb_Shaft_Temp_series()\n",
    "emu_observ_test_user1._generate_perturb_T_riv_dH_series()"
   ]
  },
  {
   "cell_type": "code",
   "execution_count": null,
   "metadata": {},
   "outputs": [],
   "source": [
    "#on génère un objet colonne à partir de l'objet emu_observ_test_user1\n",
    "\n",
    "name =\"Couche en sable\"\n",
    "zLow = Zbottom\n",
    "moinslog10IntrinK = 11\n",
    "n = 0.1\n",
    "lambda_s = 2 # test cas purement advectif\n",
    "rhos_cs = 4e6\n",
    "\n",
    "# modèle une couche\n",
    "layers_list= layersListCreator([(name, zLow, moinslog10IntrinK, n, lambda_s, rhos_cs)])\n",
    "\n",
    "print(f\"Layers list: {layers_list}\")\n",
    "\n",
    "# on utilise les mesures générées précédemment dans les init \"dH_measures\" et \"T_measures\"\n",
    "col_dict = {\n",
    "\t\"river_bed\": 1., \n",
    "    \"depth_sensors\": depth_sensors, #En vrai y aura une 4e valeur ici mais ca prendra en charge pareil\n",
    "\t\"offset\": .0,\n",
    "    \"dH_measures\": emu_observ_test_user1._molonariP_data,\n",
    "    \"T_measures\": emu_observ_test_user1._molonariT_data,\n",
    "    \"sigma_meas_P\": 0.01, #float\n",
    "    \"sigma_meas_T\": 0.1, #float\n",
    "}\n",
    "col = Column.from_dict(col_dict,verbose=True)"
   ]
  },
  {
   "cell_type": "code",
   "execution_count": null,
   "metadata": {},
   "outputs": [],
   "source": [
    "nb_cells=20 # nombre de cellules, une tous les 5 centimètres \n",
    "\n",
    "col._compute_solve_transi_multiple_layers(layers_list, nb_cells, verbose=True)"
   ]
  },
  {
   "cell_type": "code",
   "execution_count": null,
   "metadata": {},
   "outputs": [],
   "source": [
    "#On vérifie que les températures ont bien été modifiées dans l'objet column (en particulier que la température à profondeur nulle est bien celle de la rivière)\n",
    "plt.plot(emu_observ_test_user1._dates, col._temperatures[0,:])\n",
    "plt.show()"
   ]
  },
  {
   "cell_type": "code",
   "execution_count": null,
   "metadata": {},
   "outputs": [],
   "source": [
    "print(f\"La matrice de température a pour shape : {col._temperatures.shape}, abscisse = température aux 20 cellules, ordonnée = température à chaque pas de temps\")"
   ]
  }
 ],
 "metadata": {
  "kernelspec": {
   "display_name": "base",
   "language": "python",
   "name": "python3"
  },
  "language_info": {
   "codemirror_mode": {
    "name": "ipython",
    "version": 3
   },
   "file_extension": ".py",
   "mimetype": "text/x-python",
   "name": "python",
   "nbconvert_exporter": "python",
   "pygments_lexer": "ipython3",
   "version": "3.12.4"
  }
 },
 "nbformat": 4,
 "nbformat_minor": 2
}
