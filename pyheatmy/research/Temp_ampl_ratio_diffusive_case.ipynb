{
 "cells": [
  {
   "cell_type": "markdown",
   "metadata": {},
   "source": [
    "### __Notebook to verify that looking at temperature amplitude ratio is interesting for a diffusive problem in the monodirectional case__ ###\n"
   ]
  },
  {
   "cell_type": "code",
   "execution_count": 7,
   "metadata": {},
   "outputs": [],
   "source": [
    "#Necessary imports\n",
    "\n",
    "import numpy as np\n",
    "import matplotlib.pyplot as plt\n",
    "import sklearn as sk \n",
    "from pyheatmy import * \n",
    "from pyheatmy.time_series_multiperiodic import time_series_multiperiodic"
   ]
  },
  {
   "cell_type": "code",
   "execution_count": 8,
   "metadata": {},
   "outputs": [],
   "source": [
    "#On commence par créer un signal d'entrée grace à la classe time_series_multiperiodic, que l'on forcera dans la classe Synthetic_Molonari ensuite\n",
    "\n",
    "T_riv = time_series_multiperiodic(\"multi_periodic\")\n",
    "\n",
    "#On regarde des variations de température sur une année, on définit une période journalière, et une période annuelle\n",
    "\n",
    "T_MOY_ANNUELLE = 14 #°C, représente l'offset commun de nos signaux de température\n",
    "\n",
    "T_AMP_ANNUELLE = 6 #°C, représente l'amplitude de variation de température annuelle\n",
    "\n",
    "T_AMP_JOURNALIERE = 8 #°C, représente l'amplitude de variation de température journalière\n",
    "\n",
    "t_debut = (2024, 4, 15, 8, 0, 0) #On commence le 15 avril 2024 à 8h00\n",
    "t_fin = (2025, 4, 15, 8, 0, 0) #On finit le 15 avril 2025 à 8h00, on regarde ce qu'il se passe sur un an. "
   ]
  }
 ],
 "metadata": {
  "kernelspec": {
   "display_name": "base",
   "language": "python",
   "name": "python3"
  },
  "language_info": {
   "codemirror_mode": {
    "name": "ipython",
    "version": 3
   },
   "file_extension": ".py",
   "mimetype": "text/x-python",
   "name": "python",
   "nbconvert_exporter": "python",
   "pygments_lexer": "ipython3",
   "version": "3.12.4"
  }
 },
 "nbformat": 4,
 "nbformat_minor": 2
}
