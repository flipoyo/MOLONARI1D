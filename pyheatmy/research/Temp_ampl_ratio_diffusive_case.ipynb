{
 "cells": [
  {
   "cell_type": "markdown",
   "metadata": {},
   "source": [
    "### __Notebook to verify that looking at temperature amplitude ratio is interesting for a diffusive problem in the monodirectional case__ ###\n"
   ]
  },
  {
   "cell_type": "code",
   "execution_count": null,
   "metadata": {},
   "outputs": [],
   "source": [
    "#Necessary imports\n",
    "\n",
    "import numpy as np\n",
    "import matplotlib.pyplot as plt\n",
    "import sklearn as sk \n",
    "from pyheatmy import * \n",
    "from pyheatmy.time_series_multiperiodic import time_series_multiperiodic\n",
    "\n",
    "from sklearn import linear_model\n",
    "from pyheatmy.core import *\n",
    "import scipy"
   ]
  },
  {
   "cell_type": "code",
   "execution_count": null,
   "metadata": {},
   "outputs": [],
   "source": [
    "# Instanciation de time_series_multi_periodic\n",
    "T_riv = time_series_multiperiodic(\"multi_periodic\")\n",
    "\n",
    "# Renseignement de toutes les valeurs\n",
    "\n",
    "\"\"\"Conditions limites\"\"\"\n",
    "# Température de la rivière\n",
    "T_riv.T_riv_year_amp = 6 # °C, représente l'amplitude de variation de température annuelle\n",
    "T_riv.T_riv_offset = 12 + ZERO_CELSIUS # °C, représente l'offset commun de nos signaux de température\n",
    "T_riv.T_riv_day_amp = 1 # °C, représente l'amplitude de variation de température journalière\n",
    "# Température de l'aquifère\n",
    "T_riv.T_aq_amp = 0\n",
    "T_riv.T_aq_offset = 12 + ZERO_CELSIUS\n",
    "T_riv.P_T_aq = -9999 # à mettre dans le init\n",
    "\n",
    "T_riv.P_T_riv_year = NDAYINYEAR * NSECINDAY # Période annuelle en mois\n",
    "T_riv.P_T_riv_day = NSECINDAY # Période journalière, en heures\n",
    "T_riv.t_debut = (2024, 4, 15, 8, 0, 0)  # (year, month, day, hour, minute, second)\n",
    "T_riv.t_fin = (2024, 4, 20, 8, 0, 0)\n",
    "T_riv.dt = int(NSECINHOUR / 4)  #On se place dans le cas d'un point de mesure toutes les quinze minutes (à moduler en fonction de l'intervale temporel considéré)\n",
    "\n",
    "T_riv.moinslog10IntrinK = 11\n",
    "T_riv.lambda_s = 2 # test cas purement advectif\n",
    "T_riv.rhos_cs = 4e6\n",
    "T_riv.range_of_minus_log_10_K = [9,10,11,12,13,14]  # The values we want to test\n",
    "\n",
    "T_riv.n = 0.1  # porosité\n",
    "T_riv.nb_cells=100 # nombre de cellules, une tous les 5 centimètres \n",
    "T_riv.depth_sensors = np.array([.1, .2, .3, .4])\n",
    "T_riv.river_bed = 1.  # profondeur de la colonne en mètres\n",
    "T_riv.last_cell = int(9/10 * T_riv.nb_cells)  # on écarte les dernières valeurs pour éviter les effets de bord\n",
    "T_riv.depth_cells = np.linspace(0, T_riv.river_bed, T_riv.nb_cells)\n",
    "# the indices of depth_cells corresponding to the depths of depth_sensors\n",
    "T_riv.depth_sensors_index_list = [int(T_riv.depth_sensors[j] / ( T_riv.river_bed / (T_riv.nb_cells - 1))) for j in range(len(T_riv.depth_sensors))]\n",
    "\n",
    "# Pression différentielle\n",
    "T_riv.dH_amp = 0\n",
    "T_riv.dH_offset = - 0.1  # m\n",
    "T_riv.P_dh = -9999 #14*24*4*dt\n",
    "\n",
    "# Bruit de mesure\n",
    "T_riv.sigma_meas_P = 0.001\n",
    "T_riv.sigma_meas_T = 0.1\n",
    "\n",
    "T_riv.name =\"Couche en sable\""
   ]
  },
  {
   "cell_type": "code",
   "execution_count": null,
   "metadata": {},
   "outputs": [],
   "source": [
    "# Creating the attribute matrix (profile of temperature along the column)\n",
    "T_riv.create_profil_temperature()\n",
    "\n",
    "T_riv.plot_temp()"
   ]
  },
  {
   "cell_type": "code",
   "execution_count": null,
   "metadata": {},
   "outputs": [],
   "source": [
    "T_riv.plot_linear_regression(day = 0, sensors_only=False)\n",
    "T_riv.plot_linear_regression(day = 0, sensors_only=False)\n",
    "\n",
    "\n",
    "T_riv.plot_mosaic_pearson(T_riv.range_of_minus_log_10_K)"
   ]
  },
  {
   "cell_type": "code",
   "execution_count": null,
   "metadata": {},
   "outputs": [],
   "source": [
    "# Pour simuler correctement les conditions expérimentales, il faut ne garder que 4 points pour calculer Pearson (les points aux depth_sensors)\n",
    "\n",
    "print('aakablk', T_riv.moinslog10IntrinK)\n",
    "T_riv.plot_linear_regression(day = 0, sensors_only = True)\n",
    "T_riv.plot_linear_regression(day = 0, sensors_only = False)\n",
    "# T_riv.plot_mosaic_pearson(T_riv.range_of_minus_log_10_K, sensors_only = True)"
   ]
  },
  {
   "cell_type": "code",
   "execution_count": null,
   "metadata": {},
   "outputs": [],
   "source": []
  },
  {
   "cell_type": "code",
   "execution_count": null,
   "metadata": {},
   "outputs": [],
   "source": [
    "# We can also enter any signal :\n",
    "\n",
    "T_riv.entry_signal = 0 # To be implemented\n",
    "\n",
    "# faire un troisème type ou bien forcer le multi périodique ?"
   ]
  }
 ],
 "metadata": {
  "kernelspec": {
   "display_name": "molovenv",
   "language": "python",
   "name": "python3"
  },
  "language_info": {
   "codemirror_mode": {
    "name": "ipython",
    "version": 3
   },
   "file_extension": ".py",
   "mimetype": "text/x-python",
   "name": "python",
   "nbconvert_exporter": "python",
   "pygments_lexer": "ipython3",
   "version": "3.11.4"
  }
 },
 "nbformat": 4,
 "nbformat_minor": 2
}
