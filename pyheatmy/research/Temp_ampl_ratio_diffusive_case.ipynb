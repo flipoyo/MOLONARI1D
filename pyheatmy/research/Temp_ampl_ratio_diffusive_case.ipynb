{
 "cells": [
  {
   "cell_type": "markdown",
   "metadata": {},
   "source": [
    "### __Notebook to verify that looking at temperature amplitude ratio is interesting for a diffusive problem in the monodirectional case__ ###\n"
   ]
  },
  {
   "cell_type": "code",
   "execution_count": null,
   "metadata": {},
   "outputs": [],
   "source": [
    "#Necessary imports\n",
    "\n",
    "import numpy as np\n",
    "import matplotlib.pyplot as plt\n",
    "import sklearn as sk \n",
    "from pyheatmy import * \n",
    "from pyheatmy.time_series_multiperiodic import time_series_multiperiodic\n",
    "\n",
    "from sklearn import linear_model\n",
    "from pyheatmy.core import *\n",
    "import scipy"
   ]
  },
  {
   "cell_type": "code",
   "execution_count": null,
   "metadata": {},
   "outputs": [],
   "source": [
    "\"\"\"Conditions limites\"\"\"\n",
    "# Température de la rivière\n",
    "T_riv_year_amp = 6 # °C, représente l'amplitude de variation de température annuelle\n",
    "T_riv_offset = 12 + ZERO_CELSIUS # °C, représente l'offset commun de nos signaux de température\n",
    "T_riv_day_amp = 1 # °C, représente l'amplitude de variation de température journalière\n",
    "# Température de l'aquifère\n",
    "T_aq_amp = 0\n",
    "T_aq_offset = 12 + ZERO_CELSIUS\n",
    "P_T_aq = -9999 # à mettre dans le init\n",
    "\n",
    "P_T_riv_year = NDAYINYEAR * NSECINDAY # Période annuelle en mois\n",
    "P_T_riv_day = NSECINDAY # Période journalière, en heures\n",
    "t_debut = (2024, 4, 15, 8, 0, 0)  # (year, month, day, hour, minute, second)\n",
    "t_fin = (2024, 4, 20, 8, 0, 0)\n",
    "dt = int(NSECINHOUR / 4)  #On se place dans le cas d'un point de mesure toutes les quinze minutes (à moduler en fonction de l'intervale temporel considéré)\n",
    "\n",
    "moinslog10IntrinK = 11\n",
    "lambda_s = 2 # test cas purement advectif\n",
    "rhos_cs = 4e6\n",
    "range_of_minus_log_10_K = [10,11,12,13,14,15]  # The values we want to test\n",
    "\n",
    "n = 0.1  # porosité\n",
    "nb_cells=100 # nombre de cellules, une tous les 5 centimètres \n",
    "depth_sensors = [.1, .2, .3, .4]\n",
    "Zbottom = 1\n",
    "river_bed = 1.  # profondeur de la colonne en mètres\n",
    "last_cell = int(9/10 * nb_cells)  # on écarte les dernières valeurs pour éviter les effets de bord\n",
    "depth_cells = np.linspace(0, river_bed, nb_cells)\n",
    "\n",
    "# Pression différentielle\n",
    "dH_amp = 0\n",
    "dH_offset = - 0.1  # m\n",
    "P_dh = -9999 #14*24*4*dt\n",
    "\n",
    "# Bruit de mesure\n",
    "sigma_meas_P = 0.001\n",
    "sigma_meas_T = 0.1\n",
    "\n",
    "name =\"Couche en sable\""
   ]
  },
  {
   "cell_type": "code",
   "execution_count": null,
   "metadata": {},
   "outputs": [],
   "source": [
    "# Instanciation de time_series_multi_periodic\n",
    "T_riv = time_series_multiperiodic(\"multi_periodic\")\n",
    "\n",
    "# On regarde des variations de température sur une année, on définit une période journalière, et une période annuelle\n",
    "\n",
    "\"\"\"Reprise du code de dmo_genData pour créer un objet synthetic_MOLONARI\"\"\"\n",
    "# un dictionnaire qui facilite le paramétrage avec des variables globales définies plus haut\n",
    "time_series_dict_user1 = {\n",
    "    \"offset\":.0,\n",
    "    \"depth_sensors\":depth_sensors,\n",
    "\t\"param_time_dates\": [t_debut, t_fin, dt], \n",
    "    \"param_dH_signal\": [dH_amp, P_dh, dH_offset], #En vrai y aura une 4e valeur ici mais ca prendra en charge pareil\n",
    "\t\"param_T_riv_signal\": [T_riv_day_amp, P_T_riv_day, T_riv_offset],\n",
    "    \"param_T_aq_signal\": [T_aq_amp, P_T_aq, T_aq_offset],\n",
    "    \"sigma_meas_P\": sigma_meas_P,\n",
    "    \"sigma_meas_T\": sigma_meas_T, #float\n",
    "    \"verbose\": False\n",
    "}\n",
    "\n",
    "#On utilise le jeu de date précédent pour créer un signal de température multipériodique \n",
    "emu_observ_test_user1 = synthetic_MOLONARI.from_dict(time_series_dict_user1)\n",
    "\n",
    "\n",
    "# signal multipériodique\n",
    "T_riv.create_multiperiodic_signal([T_riv_year_amp, T_riv_day_amp], [[P_T_riv_year, 's'], [P_T_riv_day, 's']], emu_observ_test_user1._dates,\n",
    "                                   offset=T_riv_offset, verbose = False)\n",
    "\n",
    "\n",
    "T_riv.time_series_dict_user1 = time_series_dict_user1\n",
    "\n",
    "#on génère un objet colonne à partir de l'objet emu_observ_test_user1\n",
    "# modèle une couche\n",
    "layers_list= layersListCreator([(name, Zbottom, moinslog10IntrinK, n, lambda_s, rhos_cs)])\n",
    "\n",
    "T_riv.layers_list = layers_list\n",
    "\n",
    "col_dict = {\n",
    "\t\"river_bed\": river_bed, \n",
    "    \"depth_sensors\": depth_sensors, #En vrai y aura une 4e valeur ici mais ca prendra en charge pareil\n",
    "\t\"offset\": .0,\n",
    "    \"dH_measures\": emu_observ_test_user1._molonariP_data,\n",
    "    \"T_measures\": emu_observ_test_user1._molonariT_data,\n",
    "    \"sigma_meas_P\": sigma_meas_P,\n",
    "    \"sigma_meas_T\": sigma_meas_T,\n",
    "}\n",
    "\n",
    "T_riv.col_dict = col_dict\n",
    "T_riv.nb_cells = nb_cells\n",
    "\n",
    "T_riv.profil_temperature(verbose = True)\n"
   ]
  },
  {
   "cell_type": "code",
   "execution_count": null,
   "metadata": {},
   "outputs": [],
   "source": [
    "#On vérifie que les températures ont bien été modifiées dans l'objet column (en particulier que la température à profondeur nulle est bien celle de la rivière)\n",
    "\n",
    "plt.plot(emu_observ_test_user1._dates, T_riv.matrix[0,:])\n",
    "plt.plot(emu_observ_test_user1._dates, col._temperatures[0,:])\n",
    "plt.show()\n",
    "print(f\"La matrice de température a pour shape : {T_riv.matrix.shape}, abscisse = température aux 20 cellules, ordonnée = température à chaque pas de temps\")\n",
    "print(f\"La matrice de température a pour shape : {col._temperatures.shape}, abscisse = température aux 20 cellules, ordonnée = température à chaque pas de temps\")"
   ]
  },
  {
   "cell_type": "code",
   "execution_count": null,
   "metadata": {},
   "outputs": [],
   "source": [
    "T_riv.plot_mosaic_pearson(range_of_minus_log_10_K)"
   ]
  }
 ],
 "metadata": {
  "kernelspec": {
   "display_name": "molovenv",
   "language": "python",
   "name": "python3"
  },
  "language_info": {
   "codemirror_mode": {
    "name": "ipython",
    "version": 3
   },
   "file_extension": ".py",
   "mimetype": "text/x-python",
   "name": "python",
   "nbconvert_exporter": "python",
   "pygments_lexer": "ipython3",
   "version": "3.11.4"
  }
 },
 "nbformat": 4,
 "nbformat_minor": 2
}
