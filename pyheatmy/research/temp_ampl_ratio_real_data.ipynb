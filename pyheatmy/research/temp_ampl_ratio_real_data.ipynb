{
 "cells": [
  {
   "cell_type": "markdown",
   "metadata": {},
   "source": [
    "### Notebook to calculate Pearson coefficient from real data using both time and temperature amplitude ratio, to see whether 1D hypothesis is actually relevant or not."
   ]
  },
  {
   "cell_type": "code",
   "execution_count": null,
   "metadata": {},
   "outputs": [],
   "source": [
    "#We get the data for point 46 (representing the highest k value, ie the most advective case)\n",
    "\n",
    "import numpy as np\n",
    "import matplotlib.pyplot as plt\n",
    "import scipy as sp\n",
    "from pyheatmy import *\n",
    "from pyheatmy.time_series_multiperiodic import *\n",
    "import os as os\n",
    "import csv as csv "
   ]
  },
  {
   "cell_type": "code",
   "execution_count": null,
   "metadata": {},
   "outputs": [],
   "source": [
    "#Création de l'objet time_series_multiperiodic\n",
    "ts = time_series_multiperiodic(\"ts\")\n",
    "\n",
    "# Renseignement de toutes les valeurs utilmes\n",
    "\n",
    "\n",
    "ts.dt = int(NSECINHOUR / 4)  #On se place dans le cas d'un point de mesure toutes les quinze minutes (à moduler en fonction de l'intervale temporel considéré)\n",
    "ts.river_bed = 0.4  # profondeur de la colonne en mètres\n",
    "\n",
    "ts.nb_cells=4 # nombre de cellules, une tous les 5 centimètres \n",
    "ts.depth_sensors = DEFAULT_sensor_depth\n",
    "ts.last_cell = 4  # real data so all cells should be considered\n",
    "\n",
    "ts.depth_cells = np.array(ts.depth_sensors)\n",
    "\n",
    "depth_sensor = DEFAULT_sensor_depth\n",
    "\n",
    "df = ts.read_csv(55)\n",
    "print(df.head())\n",
    "df['T_Sensor0'] = df['T_Sensor0'] + ZERO_CELSIUS\n",
    "df['T_Sensor1'] = df['T_Sensor1'] + ZERO_CELSIUS\n",
    "df['T_Sensor2'] = df['T_Sensor2'] + ZERO_CELSIUS\n",
    "df['T_Sensor3'] = df['T_Sensor3'] + ZERO_CELSIUS\n",
    "dates = df['Date_heure'].to_numpy()\n",
    "data_temperature = array = df.drop(columns=['Date_heure']).to_numpy()\n",
    "\n",
    "ts.values_time_series(dates, data_temperature, depth_sensors=depth_sensor)\n",
    "ts.plot_temp()\n",
    "ts.plot_pearson_coef()"
   ]
  }
 ],
 "metadata": {
  "kernelspec": {
   "display_name": "base",
   "language": "python",
   "name": "python3"
  },
  "language_info": {
   "codemirror_mode": {
    "name": "ipython",
    "version": 3
   },
   "file_extension": ".py",
   "mimetype": "text/x-python",
   "name": "python",
   "nbconvert_exporter": "python",
   "pygments_lexer": "ipython3",
   "version": "3.12.4"
  }
 },
 "nbformat": 4,
 "nbformat_minor": 2
}
