{
 "cells": [
  {
   "cell_type": "markdown",
   "metadata": {},
   "source": [
    "### Notebook to calculate Pearson coefficient from real data using both time and temperature amplitude ratio, to see whether 1D hypothesis is actually relevant or not."
   ]
  },
  {
   "cell_type": "code",
   "execution_count": null,
   "metadata": {},
   "outputs": [],
   "source": [
    "#We get the data for point 46 (representing the highest k value, ie the most advective case)\n",
    "\n",
    "import numpy as np\n",
    "import matplotlib.pyplot as plt\n",
    "import scipy as sp\n",
    "from pyheatmy import *\n",
    "from pyheatmy.time_series_multiperiodic import *\n",
    "import os as os\n",
    "import csv as csv "
   ]
  },
  {
   "cell_type": "code",
   "execution_count": null,
   "metadata": {},
   "outputs": [],
   "source": [
    "\n",
    "\n",
    "#Création de l'objet time_series_multiperiodic\n",
    "\n",
    "dt = 15*NSECINMIN\n",
    "depth_sensor = DEFAULT_sensor_depth\n",
    "\n",
    "ts = time_series_multiperiodic('ts')\n",
    "\n",
    "df = ts.read_csv(52)\n",
    "df.head()\n",
    "dates = df['Date_heure']\n",
    "data_temperature = array = df.drop(columns=['Date_heure']).to_numpy()\n",
    "\n",
    "ts.values_time_series(dates, data_temperature, depth_sensors=depth_sensor)\n",
    "ts.plot_temp()\n",
    "ts.plot_pearson_coef()\n",
    "\n",
    "# from 113\n",
    "def plot_data(point_number, verbose = True):\n",
    "    url = 'dataAnalysis\\data_traite\\point' + str(point_number) + '_temperature_traité.csv'\n",
    "    df = pd.read_csv(url)\n",
    "    df.columns = ['Date_heure', 'T_Sensor0', 'T_Sensor1', 'T_Sensor2', 'T_Sensor3']\n",
    "    df['Date_heure'] = pd.to_datetime(df['Date_heure'], dayfirst = True)\n",
    "\n",
    "    # Tracer toutes les colonnes sauf 'Date_heure' en fonction de 'Date_heure'\n",
    "    df.set_index('Date_heure').plot(figsize=(10, 6), grid=True, title=\"Graphique des valeurs en fonction des dates\")\n",
    "    plt.xlabel(\"Date\")\n",
    "    plt.ylabel(\"Température (°C)\")\n",
    "    plt.title(\"signal de température pour le capteur \" + str(point_number))\n",
    "    plt.show()\n"
   ]
  }
 ],
 "metadata": {
  "kernelspec": {
   "display_name": "molovenv",
   "language": "python",
   "name": "python3"
  },
  "language_info": {
   "codemirror_mode": {
    "name": "ipython",
    "version": 3
   },
   "file_extension": ".py",
   "mimetype": "text/x-python",
   "name": "python",
   "nbconvert_exporter": "python",
   "pygments_lexer": "ipython3",
   "version": "3.11.4"
  }
 },
 "nbformat": 4,
 "nbformat_minor": 2
}
