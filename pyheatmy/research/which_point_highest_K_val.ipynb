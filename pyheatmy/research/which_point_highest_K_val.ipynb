{
 "cells": [
  {
   "cell_type": "markdown",
   "metadata": {},
   "source": [
    "### Notebook to determine which point of data_traite from dataAnalysis presents the biggest permeability value"
   ]
  },
  {
   "cell_type": "code",
   "execution_count": 18,
   "metadata": {},
   "outputs": [],
   "source": [
    "#Necessary imports\n",
    "\n",
    "from pyheatmy import *\n",
    "import matplotlib.pyplot as plt\n",
    "import numpy as np\n",
    "import pandas as pd\n",
    "import seaborn as sns\n",
    "import datetime\n",
    "import chardet\n",
    "import csv\n",
    "import os"
   ]
  },
  {
   "cell_type": "code",
   "execution_count": 19,
   "metadata": {},
   "outputs": [
    {
     "name": "stdout",
     "output_type": "stream",
     "text": [
      "Les points de mesures, en température et en pression, sont les suivants :\n"
     ]
    },
    {
     "data": {
      "text/plain": [
       "['point13_pression_traité.csv',\n",
       " 'point13_temperature_traité.csv',\n",
       " 'point14_pression_traité.csv',\n",
       " 'point14_temperature_traité.csv',\n",
       " 'point34_pression_traité.csv',\n",
       " 'point34_temperature_traité.csv',\n",
       " 'point35_pression_traité.csv',\n",
       " 'point35_temperature_traité.csv',\n",
       " 'point36_pression_traité.csv',\n",
       " 'point36_temperature_traité.csv',\n",
       " 'point46_pression_traité.csv',\n",
       " 'point46_temperature_traité.csv',\n",
       " 'point47_pression_traité.csv',\n",
       " 'point47_temperature_traité.csv',\n",
       " 'point48_pression_traité.csv',\n",
       " 'point48_temperature_traité.csv',\n",
       " 'point52_pression_traité.csv',\n",
       " 'point52_temperature_traité.csv',\n",
       " 'point53_pression_traité.csv',\n",
       " 'point53_temperature_traité.csv']"
      ]
     },
     "execution_count": 19,
     "metadata": {},
     "output_type": "execute_result"
    }
   ],
   "source": [
    "path = 'C:/Users/alexa/2A/MOLONARI1D/dataAnalysis/data_traite'\n",
    "\n",
    "print(\"Les points de mesures, en température et en pression, sont les suivants :\")\n",
    "\n",
    "os.listdir(path)[1:]"
   ]
  },
  {
   "cell_type": "code",
   "execution_count": 20,
   "metadata": {},
   "outputs": [],
   "source": [
    "#Fonction pour convertir les dates en datetime\n",
    "\n",
    "def convertDates(df: pd.DataFrame):\n",
    "    \"\"\"\n",
    "    Convert dates from a list of strings by testing several different input formats\n",
    "    Try all date formats already encountered in data points\n",
    "    If none of them is OK, try the generic way (None)\n",
    "    If the generic way doesn't work, this method fails\n",
    "    (in that case, you should add the new format to the list)\n",
    "    \n",
    "    This function works directly on the giving Pandas dataframe (in place)\n",
    "    This function assumes that the first column of the given Pandas dataframe\n",
    "    contains the dates as characters string type\n",
    "    \n",
    "    For datetime conversion performance, see:\n",
    "    See https://stackoverflow.com/questions/40881876/python-pandas-convert-datetime-to-timestamp-effectively-through-dt-accessor\n",
    "    \"\"\"\n",
    "    formats = (\"%m/%d/%y %H:%M:%S\", \"%m/%d/%y %I:%M:%S %p\",\n",
    "               \"%d/%m/%y %H:%M\",    \"%d/%m/%y %I:%M %p\",\n",
    "               \"%m/%d/%Y %H:%M:%S\", \"%m/%d/%Y %I:%M:%S %p\", \n",
    "               \"%d/%m/%Y %H:%M\",    \"%d/%m/%Y %I:%M %p\",\n",
    "               \"%y/%m/%d %H:%M:%S\", \"%y/%m/%d %I:%M:%S %p\", \n",
    "               \"%y/%m/%d %H:%M\",    \"%y/%m/%d %I:%M %p\",\n",
    "               \"%Y/%m/%d %H:%M:%S\", \"%Y/%m/%d %I:%M:%S %p\", \n",
    "               \"%Y/%m/%d %H:%M\",    \"%Y/%m/%d %I:%M %p\",\n",
    "               None)\n",
    "    times = df[df.columns[0]]\n",
    "    for f in formats:\n",
    "        try:\n",
    "            # Convert strings to datetime objects\n",
    "            new_times = pd.to_datetime(times, format=f)\n",
    "            # Convert datetime series to numpy array of integers (timestamps)\n",
    "            new_ts = new_times.values.astype(np.int64)\n",
    "            # If times are not ordered, this is not the appropriate format\n",
    "            test = np.sort(new_ts) - new_ts\n",
    "            if np.sum(abs(test)) != 0 :\n",
    "                #print(\"Order is not the same\")\n",
    "                raise ValueError()\n",
    "            # Else, the conversion is a success\n",
    "            #print(\"Found format \", f)\n",
    "            df[df.columns[0]] = new_times\n",
    "            return\n",
    "        \n",
    "        except ValueError:\n",
    "            #print(\"Format \", f, \" not valid\")\n",
    "            continue\n",
    "    \n",
    "    # None of the known format are valid\n",
    "    raise ValueError(\"Cannot convert dates: No known formats match your data!\")\n",
    "\n",
    "#Fonction pour lire les fichiers csv\n",
    "\n",
    "#Lecture des données\n",
    "\n",
    "def read_csv (chemin_fichier):\n",
    "    #Detecter separateur\n",
    "    with open(chemin_fichier, 'r') as file:\n",
    "        sniffer = csv.Sniffer()\n",
    "        sample_data = file.read(1024)\n",
    "        detecter_separateur = (sniffer.sniff(sample_data).delimiter)\n",
    "\n",
    "    if \"Titre\" in open(chemin_fichier).readline():\n",
    "        data_frame = pd.read_csv(chemin_fichier, sep=detecter_separateur, skiprows=1)\n",
    "    else:\n",
    "        data_frame = pd.read_csv(chemin_fichier, sep=detecter_separateur)\n",
    "\n",
    "    return data_frame "
   ]
  },
  {
   "cell_type": "code",
   "execution_count": 21,
   "metadata": {},
   "outputs": [
    {
     "name": "stdout",
     "output_type": "stream",
     "text": [
      "                dates  temperature_stream        dH\n",
      "0 2015-07-23 14:00:00             291.374  0.085864\n",
      "1 2015-07-23 14:15:00             291.231  0.086153\n",
      "2 2015-07-23 14:30:00             291.207  0.086189\n",
      "3 2015-07-23 14:45:00             291.207  0.086257\n",
      "4 2015-07-23 15:00:00             291.326  0.086072\n",
      "                dates  Temp_profondeur_10  Temp_profondeur_20  \\\n",
      "0 2015-07-23 14:00:00             291.469             291.088   \n",
      "1 2015-07-23 14:15:00             291.374             290.803   \n",
      "2 2015-07-23 14:30:00             291.255             290.708   \n",
      "3 2015-07-23 14:45:00             291.231             290.684   \n",
      "4 2015-07-23 15:00:00             291.207             290.660   \n",
      "\n",
      "   Temp_profondeur_30  Temp_profondeur_40  \n",
      "0             291.397             291.540  \n",
      "1             291.065             291.136  \n",
      "2             290.946             290.946  \n",
      "3             290.898             290.898  \n",
      "4             290.874             290.874  \n"
     ]
    },
    {
     "name": "stderr",
     "output_type": "stream",
     "text": [
      "C:\\Users\\alexa\\AppData\\Local\\Temp\\ipykernel_15056\\2964212467.py:31: UserWarning: Parsing dates in %d-%m-%Y %H:%M format when dayfirst=False (the default) was specified. Pass `dayfirst=True` or specify a format to silence this warning.\n",
      "  new_times = pd.to_datetime(times, format=f)\n",
      "C:\\Users\\alexa\\AppData\\Local\\Temp\\ipykernel_15056\\2964212467.py:31: UserWarning: Parsing dates in %d-%m-%Y %H:%M format when dayfirst=False (the default) was specified. Pass `dayfirst=True` or specify a format to silence this warning.\n",
      "  new_times = pd.to_datetime(times, format=f)\n"
     ]
    }
   ],
   "source": [
    "#Point considéré\n",
    "\n",
    "point_pression = 'point13_pression_traité.csv'\n",
    "point_temperature = 'point13_temperature_traité.csv'\n",
    "\n",
    "#Définition d'un dictionnaire pour les données \n",
    "\n",
    "dico = {}\n",
    "dico['chemin pression'] = os.path.join(path, point_pression)\n",
    "dico['chemin temperature'] = os.path.join(path, point_temperature)\n",
    "\n",
    "pression = read_csv(dico['chemin pression'])\n",
    "temperature = read_csv(dico['chemin temperature'])\n",
    "\n",
    "pression['temperature_stream'] = pression['temperature_stream'] + ZERO_CELSIUS\n",
    "temperature['Temp_profondeur_10'] = temperature['Temp_profondeur_10'] + ZERO_CELSIUS\n",
    "temperature['Temp_profondeur_20'] = temperature['Temp_profondeur_20'] + ZERO_CELSIUS\n",
    "temperature['Temp_profondeur_30'] = temperature['Temp_profondeur_30'] + ZERO_CELSIUS\n",
    "temperature['Temp_profondeur_40'] = temperature['Temp_profondeur_40'] + ZERO_CELSIUS\n",
    "\n",
    "#Conversion des dates en datetime   \n",
    "convertDates(pression)\n",
    "convertDates(temperature)\n",
    "\n",
    "dico['pression'] = pression\n",
    "dico['temperature'] = temperature\n",
    "\n",
    "print(dico['pression'].head())\n",
    "print(dico['temperature'].head())\n",
    "\n",
    "dico['temperature'].columns = ['dates', 'T_10', 'T_20', 'T_30', 'T_40']"
   ]
  },
  {
   "cell_type": "code",
   "execution_count": 22,
   "metadata": {},
   "outputs": [
    {
     "name": "stdout",
     "output_type": "stream",
     "text": [
      "[(Timestamp('2015-07-23 14:00:00'), (0.0858643254074198, 291.37399999999997)), (Timestamp('2015-07-23 14:15:00'), (0.0861528697161693, 291.231)), (Timestamp('2015-07-23 14:30:00'), (0.0861893984470073, 291.207)), (Timestamp('2015-07-23 14:45:00'), (0.0862567747756304, 291.207)), (Timestamp('2015-07-23 15:00:00'), (0.0860715126342083, 291.32599999999996))]\n",
      "[(Timestamp('2015-07-23 14:00:00'), array([291.469, 291.088, 291.397, 291.54 ])), (Timestamp('2015-07-23 14:15:00'), array([291.374, 290.803, 291.065, 291.136])), (Timestamp('2015-07-23 14:30:00'), array([291.255, 290.708, 290.946, 290.946])), (Timestamp('2015-07-23 14:45:00'), array([291.231, 290.684, 290.898, 290.898])), (Timestamp('2015-07-23 15:00:00'), array([291.207, 290.66 , 290.874, 290.874]))]\n"
     ]
    }
   ],
   "source": [
    "#On va maintenant compute la MCMC pour les données de pression et de température, pour trouver une valeur de \n",
    "#perméabilité pour chaque point de mesure\n",
    "\n",
    "#On commence par créer des listes de tuple pour les données de pression et de température\n",
    "\n",
    "data_pression = list(zip(dico['pression']['dates'], list(zip( dico['pression']['dH'], dico['pression']['temperature_stream']))))\n",
    "data_temperature = list(zip(dico['temperature']['dates'], dico['temperature'][['T_10', 'T_20', 'T_30', 'T_40']].to_numpy()))\n",
    "\n",
    "print (data_pression[:5])\n",
    "print (data_temperature[:5])"
   ]
  },
  {
   "cell_type": "code",
   "execution_count": 37,
   "metadata": {},
   "outputs": [
    {
     "name": "stdout",
     "output_type": "stream",
     "text": [
      "Init Mcmc : 100%|██████████| 1000/1000 [00:09<00:00, 107.24it/s]\n",
      "Mcmc Computation : 100%|██████████| 400/400 [00:04<00:00, 94.21it/s] \n",
      "[Parametres(moinslog10IntrinK=15.193567154308063, n=0.17818704753901862, lambda_s=9.309925834479714, rhos_cs=8695844.526146745)]\n",
      "Parametres(moinslog10IntrinK=15.193567154308063, n=0.17818704753901862, lambda_s=9.309925834479714, rhos_cs=8695844.526146745)\n"
     ]
    }
   ],
   "source": [
    "#On initialise les paramètres de la MCMC et de l'objet column à partir d'un dico\n",
    "\n",
    "Z_bottom = .4\n",
    "depth_sensors = [0.1, 0.2, 0.3, Z_bottom]\n",
    "\n",
    "col_dict = {\n",
    "\t\"river_bed\": .4, \n",
    "    \"depth_sensors\": depth_sensors, #En vrai y aura une 4e valeur ici mais ca prendra en charge pareil\n",
    "\t\"offset\": .0,\n",
    "    \"dH_measures\": data_pression,\n",
    "    \"T_measures\": data_temperature,\n",
    "    \"sigma_meas_P\": 0.01, #float\n",
    "    \"sigma_meas_T\": 0.1, #float\n",
    "}\n",
    "\n",
    "col = Column.from_dict(col_dict)\n",
    "\n",
    "priors = {\n",
    "    \"moinslog10IntrinK\": ((10, 16), .01), # (intervalle, sigma)\n",
    "    \"n\": ((.01, .25), .01),\n",
    "    \"lambda_s\": ((1, 10), .1),\n",
    "    \"rhos_cs\": ((1e6,1e7), 1e5),\n",
    "}\n",
    "\n",
    "all_priors = [\n",
    "    ['Couche 1', Z_bottom, priors],\n",
    "]\n",
    "\n",
    "#On va maintenant lancer la MCMC\n",
    "\n",
    "col.compute_mcmc(\n",
    "    nb_iter = 400,\n",
    "    all_priors = all_priors,\n",
    "    nb_cells = 100,\n",
    "    sigma2=1.0,\n",
    "    verbose=False\n",
    ")\n",
    "\n",
    "bestParams = col.get_best_param()\n",
    "print(bestParams)\n",
    "print(bestParams[0])\n"
   ]
  },
  {
   "cell_type": "code",
   "execution_count": 40,
   "metadata": {},
   "outputs": [
    {
     "name": "stdout",
     "output_type": "stream",
     "text": [
      "13\n"
     ]
    }
   ],
   "source": [
    "# On définit une fonction plus générale pour itérer sur tous les points de mesure et stocker les valeurs de perméabilité \n",
    "\n",
    "points = os.listdir(path)[1:]\n",
    "\n",
    "def compute_MCMC(path, points):\n",
    "    K_value={}\n",
    "    k=len(points)/2\n",
    "    for i in range(k):\n",
    "        point_pression = points[2*i]\n",
    "        point_temperature = points[2*i+1]\n",
    "        dico = {}\n",
    "        dico['chemin pression'] = os.path.join(path, point_pression)\n",
    "        dico['chemin temperature'] = os.path.join(path, point_temperature)\n",
    "        pression = read_csv(dico['chemin pression'])\n",
    "        temperature = read_csv(dico['chemin temperature'])\n",
    "        pression['temperature_stream'] = pression['temperature_stream'] + ZERO_CELSIUS\n",
    "        temperature['Temp_profondeur_10'] = temperature['Temp_profondeur_10'] + ZERO_CELSIUS\n",
    "        temperature['Temp_profondeur_20'] = temperature['Temp_profondeur_20'] + ZERO_CELSIUS\n",
    "        temperature['Temp_profondeur_30'] = temperature['Temp_profondeur_30'] + ZERO_CELSIUS\n",
    "        temperature['Temp_profondeur_40'] = temperature['Temp_profondeur_40'] + ZERO_CELSIUS\n",
    "        convertDates(pression)\n",
    "        convertDates(temperature)\n",
    "        dico['pression'] = pression\n",
    "        dico['temperature'] = temperature\n",
    "        dico['temperature'].columns = ['dates', 'T_10', 'T_20', 'T_30', 'T_40']\n",
    "        data_pression = list(zip(dico['pression']['dates'], list(zip( dico['pression']['dH'], dico['pression']['temperature_stream']))))\n",
    "        data_temperature = list(zip(dico['temperature']['dates'], dico['temperature'][['T_10', 'T_20', 'T_30', 'T_40']].to_numpy()))\n",
    "        col_dict = {\n",
    "            \"river_bed\": .4, \n",
    "            \"depth_sensors\": depth_sensors, #En vrai y aura une 4e valeur ici mais ca prendra en charge pareil\n",
    "            \"offset\": .0,\n",
    "            \"dH_measures\": data_pression,\n",
    "            \"T_measures\": data_temperature,\n",
    "            \"sigma_meas_P\": 0.01, #float\n",
    "            \"sigma_meas_T\": 0.1, #float\n",
    "        }\n",
    "        col = Column.from_dict(col_dict)\n",
    "        col.compute_mcmc(\n",
    "            nb_iter = 400,\n",
    "            all_priors = all_priors,\n",
    "            nb_cells = 100,\n",
    "            sigma2=1.0, \n",
    "            verbose=False)"
   ]
  }
 ],
 "metadata": {
  "kernelspec": {
   "display_name": "base",
   "language": "python",
   "name": "python3"
  },
  "language_info": {
   "codemirror_mode": {
    "name": "ipython",
    "version": 3
   },
   "file_extension": ".py",
   "mimetype": "text/x-python",
   "name": "python",
   "nbconvert_exporter": "python",
   "pygments_lexer": "ipython3",
   "version": "3.12.4"
  }
 },
 "nbformat": 4,
 "nbformat_minor": 2
}
