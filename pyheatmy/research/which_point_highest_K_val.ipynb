{
 "cells": [
  {
   "cell_type": "markdown",
   "metadata": {},
   "source": [
    "### Notebook to determine which point of data_traite from dataAnalysis presents the biggest permeability value"
   ]
  },
  {
   "cell_type": "code",
   "execution_count": 1,
   "metadata": {},
   "outputs": [],
   "source": [
    "#Necessary imports\n",
    "\n",
    "from pyheatmy import *\n",
    "import matplotlib.pyplot as plt\n",
    "import numpy as np\n",
    "import pandas as pd\n",
    "import seaborn as sns\n",
    "import datetime\n",
    "import chardet\n",
    "import csv\n",
    "import os"
   ]
  },
  {
   "cell_type": "code",
   "execution_count": 2,
   "metadata": {},
   "outputs": [
    {
     "name": "stdout",
     "output_type": "stream",
     "text": [
      "Les points de mesures, en température et en pression, sont les suivants :\n"
     ]
    },
    {
     "data": {
      "text/plain": [
       "['point13_pression_traité.csv',\n",
       " 'point13_temperature_traité.csv',\n",
       " 'point14_pression_traité.csv',\n",
       " 'point14_temperature_traité.csv',\n",
       " 'point34_pression_traité.csv',\n",
       " 'point34_temperature_traité.csv',\n",
       " 'point35_pression_traité.csv',\n",
       " 'point35_temperature_traité.csv',\n",
       " 'point36_pression_traité.csv',\n",
       " 'point36_temperature_traité.csv',\n",
       " 'point46_pression_traité.csv',\n",
       " 'point46_temperature_traité.csv',\n",
       " 'point47_pression_traité.csv',\n",
       " 'point47_temperature_traité.csv',\n",
       " 'point48_pression_traité.csv',\n",
       " 'point48_temperature_traité.csv',\n",
       " 'point52_pression_traité.csv',\n",
       " 'point52_temperature_traité.csv',\n",
       " 'point53_pression_traité.csv',\n",
       " 'point53_temperature_traité.csv']"
      ]
     },
     "execution_count": 2,
     "metadata": {},
     "output_type": "execute_result"
    }
   ],
   "source": [
    "path = 'C:/Users/alexa/2A/MOLONARI1D/dataAnalysis/data_traite'\n",
    "\n",
    "print(\"Les points de mesures, en température et en pression, sont les suivants :\")\n",
    "\n",
    "os.listdir(path)[1:]"
   ]
  },
  {
   "cell_type": "code",
   "execution_count": 5,
   "metadata": {},
   "outputs": [
    {
     "name": "stdout",
     "output_type": "stream",
     "text": [
      "              dates  temperature_stream        dH\n",
      "0  23-07-2015 14:00              18.224  0.085864\n",
      "1  23-07-2015 14:15              18.081  0.086153\n",
      "2  23-07-2015 14:30              18.057  0.086189\n",
      "3  23-07-2015 14:45              18.057  0.086257\n",
      "4  23-07-2015 15:00              18.176  0.086072\n",
      "              dates  Temp_profondeur_10  Temp_profondeur_20  \\\n",
      "0  23-07-2015 14:00              18.319              17.938   \n",
      "1  23-07-2015 14:15              18.224              17.653   \n",
      "2  23-07-2015 14:30              18.105              17.558   \n",
      "3  23-07-2015 14:45              18.081              17.534   \n",
      "4  23-07-2015 15:00              18.057              17.510   \n",
      "\n",
      "   Temp_profondeur_30  Temp_profondeur_40  \n",
      "0              18.247              18.390  \n",
      "1              17.915              17.986  \n",
      "2              17.796              17.796  \n",
      "3              17.748              17.748  \n",
      "4              17.724              17.724  \n"
     ]
    }
   ],
   "source": [
    "#Point considéré\n",
    "\n",
    "point_pression = 'point13_pression_traité.csv'\n",
    "point_temperature = 'point13_temperature_traité.csv'\n",
    "\n",
    "#Définition d'un dictionnaire pour les données \n",
    "\n",
    "dico = {}\n",
    "dico['chemin pression'] = os.path.join(path, point_pression)\n",
    "dico['chemin temperature'] = os.path.join(path, point_temperature)\n",
    "\n",
    "#Lecture des données\n",
    "\n",
    "def read_csv (chemin_fichier):\n",
    "    #Detecter separateur\n",
    "    with open(chemin_fichier, 'r') as file:\n",
    "        sniffer = csv.Sniffer()\n",
    "        sample_data = file.read(1024)\n",
    "        detecter_separateur = (sniffer.sniff(sample_data).delimiter)\n",
    "\n",
    "    if \"Titre\" in open(chemin_fichier).readline():\n",
    "        data_frame = pd.read_csv(chemin_fichier, sep=detecter_separateur, skiprows=1)\n",
    "    else:\n",
    "        data_frame = pd.read_csv(chemin_fichier, sep=detecter_separateur)\n",
    "\n",
    "    return data_frame \n",
    "\n",
    "pression = read_csv(dico['chemin pression'])\n",
    "temperature = read_csv(dico['chemin temperature'])\n",
    "\n",
    "dico['pression'] = pression\n",
    "dico['temperature'] = temperature\n",
    "\n",
    "print(dico['pression'].head())\n",
    "print(dico['temperature'].head())\n",
    "\n",
    "dico['temperature'].columns = ['dates', 'T_10', 'T_20', 'T_30', 'T_40']"
   ]
  },
  {
   "cell_type": "code",
   "execution_count": 11,
   "metadata": {},
   "outputs": [
    {
     "name": "stdout",
     "output_type": "stream",
     "text": [
      "[('23-07-2015 14:00', (0.0858643254074198, 18.224)), ('23-07-2015 14:15', (0.0861528697161693, 18.081)), ('23-07-2015 14:30', (0.0861893984470073, 18.057)), ('23-07-2015 14:45', (0.0862567747756304, 18.057)), ('23-07-2015 15:00', (0.0860715126342083, 18.176))]\n",
      "[('23-07-2015 14:00', (18.319, 17.938, 18.247, 18.39)), ('23-07-2015 14:15', (18.224, 17.653, 17.915, 17.986)), ('23-07-2015 14:30', (18.105, 17.558, 17.796, 17.796)), ('23-07-2015 14:45', (18.081, 17.534, 17.748, 17.748)), ('23-07-2015 15:00', (18.057, 17.51, 17.724, 17.724))]\n"
     ]
    }
   ],
   "source": [
    "#On va maintenant compute la MCMC pour les données de pression et de température, pour trouver une valeur de \n",
    "#perméabilité pour chaque point de mesure\n",
    "\n",
    "#On commence par créer des listes de tuple pour les données de pression et de température\n",
    "\n",
    "data_pression = list(zip(dico['pression']['dates'], list(zip( dico['pression']['dH'], dico['pression']['temperature_stream']))))\n",
    "data_temperature = list(zip(dico['temperature']['dates'], zip(dico['temperature']['T_10'], dico['temperature']['T_20'], dico['temperature']['T_30'], dico['temperature']['T_40'])))\n",
    "\n",
    "print (data_pression[:5])\n",
    "print (data_temperature[:5])"
   ]
  },
  {
   "cell_type": "code",
   "execution_count": 12,
   "metadata": {},
   "outputs": [],
   "source": [
    "#On initialise les paramètres de la MCMC et de l'objet column à partir d'un dico\n",
    "\n",
    "Z_bottom = .4\n",
    "depth_sensors = [0.1, 0.2, 0.3, Z_bottom]\n",
    "\n",
    "col_dict = {\n",
    "\t\"river_bed\": .4, \n",
    "    \"depth_sensors\": depth_sensors, #En vrai y aura une 4e valeur ici mais ca prendra en charge pareil\n",
    "\t\"offset\": .0,\n",
    "    \"dH_measures\": data_pression,\n",
    "    \"T_measures\": data_temperature,\n",
    "    \"sigma_meas_P\": 0.01, #float\n",
    "    \"sigma_meas_T\": 0.1, #float\n",
    "}\n",
    "\n",
    "col = Column.from_dict(col_dict)\n",
    "\n",
    "priors = {\n",
    "    \"moinslog10IntrinK\": ((10, 16), .01), # (intervalle, sigma)\n",
    "    \"n\": ((.01, .25), .01),\n",
    "    \"lambda_s\": ((1, 10), .1),\n",
    "    \"rhos_cs\": ((1e6,1e7), 1e5),\n",
    "}\n",
    "\n",
    "all_priors = [\n",
    "    ['Couche 1', Z_bottom, priors],\n",
    "]\n",
    "\n",
    "#On va maintenant lancer la MCMC\n",
    "\n"
   ]
  },
  {
   "cell_type": "code",
   "execution_count": null,
   "metadata": {},
   "outputs": [],
   "source": []
  }
 ],
 "metadata": {
  "kernelspec": {
   "display_name": "base",
   "language": "python",
   "name": "python3"
  },
  "language_info": {
   "codemirror_mode": {
    "name": "ipython",
    "version": 3
   },
   "file_extension": ".py",
   "mimetype": "text/x-python",
   "name": "python",
   "nbconvert_exporter": "python",
   "pygments_lexer": "ipython3",
   "version": "3.12.4"
  }
 },
 "nbformat": 4,
 "nbformat_minor": 2
}
