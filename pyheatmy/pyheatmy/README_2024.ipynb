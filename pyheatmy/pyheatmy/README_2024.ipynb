{
 "cells": [
  {
   "cell_type": "markdown",
   "metadata": {},
   "source": [
    "# Ajout du paramètre `heat_depth`"
   ]
  },
  {
   "cell_type": "markdown",
   "metadata": {},
   "source": [
    "## Changements effectués :  \n",
    "1. **Ajout du paramètre `heat_depth`**  \n",
    "   - **Fichiers modifiés** :  \n",
    "     - `params.py` : ajout du paramètre `heat_depth`.  \n",
    "     - `layers.py` : intégration du paramètre dans les couches.  \n",
    "     - `core.py` : création d'une liste `heat_depth_list` pour gérer les itérations nécessaires à la génération de `q_list`.  \n",
    "\n",
    "2. **Problème à résoudre** :  \n",
    "   - Éviter de créer une nouvelle couche dans `layers` ou dans `compute_solve` uniquement pour gérer le paramètre `heat_depth`.\n"
   ]
  },
  {
   "cell_type": "markdown",
   "metadata": {},
   "source": [
    "## Travail en cours :  \n",
    "- **Test des paramètres avec MCMC** :  \n",
    "  - Vérification de la convergence correcte du modèle.  \n",
    "\n",
    "- **Correction des unités de température** :  \n",
    "  - **Fonction concernée** : `plot_quantile_temperatures_sensors`.  \n",
    "  - **Problème** : erreur dans l'affichage des températures (conversion de °C en K non prise en compte).  "
   ]
  },
  {
   "cell_type": "markdown",
   "metadata": {},
   "source": [
    "## Remarques supplémentaires :  \n",
    "Pour mieux comprendre les modifications, recherchez `heat_depth_list` dans le code. Cela montre comment les itérations ont été utilisées pour générer une nouvelle liste `q_list`.\n"
   ]
  }
 ],
 "metadata": {
  "language_info": {
   "name": "python"
  }
 },
 "nbformat": 4,
 "nbformat_minor": 2
}
