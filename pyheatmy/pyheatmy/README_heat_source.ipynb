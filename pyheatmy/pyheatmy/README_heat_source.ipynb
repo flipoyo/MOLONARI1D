{
 "cells": [
  {
   "cell_type": "markdown",
   "metadata": {},
   "source": [
    "# Ajout du paramètre `q`"
   ]
  },
  {
   "cell_type": "markdown",
   "metadata": {},
   "source": [
    "## Changements effectués :  \n",
    "1. **Ajout du paramètre `q`**  \n",
    "   - **Fichiers modifiés** :  \n",
    "     - `params.py` : ajout du paramètre `q` .  \n",
    "     - `layers.py` : intégration du paramètre dans les couches.  \n",
    "     - `core.py` : création d'une liste `q_list` à appeler dans les classes `H_stratified` et `T_stratified`\n",
    "     - `linear_system.py` : utilisation des equations avec `q_list`en ce qui concerne `H_stratified` et `T_stratified`.\n",
    "\n",
    "2. **Problème à résoudre** :  \n",
    "   - Il manque demontrer la convergence correcte avec le MCMC.\n",
    "   - Éviter de créer une nouvelle couche dans `layers` ou dans `compute_solve` uniquement pour gérer le paramètre `heat_depth`. Ceci dans le cas où l'on travaille avec un nouveau paramètre de position dans une cellule. \n",
    "   "
   ]
  },
  {
   "cell_type": "markdown",
   "metadata": {},
   "source": [
    "## Travail en cours :  \n",
    "- **Test des paramètres avec MCMC** :  \n",
    "  - Vérification de la convergence correcte du modèle.  \n"
   ]
  },
  {
   "cell_type": "markdown",
   "metadata": {},
   "source": [
    "## Remarques supplémentaires :  \n",
    "Pour mieux comprendre les modifications, recherchez `q_list` dans le code principal `core.py`."
   ]
  }
 ],
 "metadata": {
  "language_info": {
   "name": "python"
  }
 },
 "nbformat": 4,
 "nbformat_minor": 2
}
