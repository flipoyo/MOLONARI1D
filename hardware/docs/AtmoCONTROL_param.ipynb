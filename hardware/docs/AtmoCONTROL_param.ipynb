{
 "cells": [
  {
   "cell_type": "markdown",
   "metadata": {},
   "source": [
    "This is the program for calculating how to set the climate chamber. The first part of the program needs you to input your average temperature and the temperature difference. The second part of the program has the highest temprerature set at 25℃, and the lowest temperature varies with your input temperature difference. You can choose either of them to use and follow the output instructions to set up the climate chamber."
   ]
  },
  {
   "cell_type": "code",
   "execution_count": 3,
   "metadata": {},
   "outputs": [],
   "source": [
    "import numpy as np\n",
    "from scipy.integrate import quad"
   ]
  },
  {
   "cell_type": "code",
   "execution_count": 70,
   "metadata": {},
   "outputs": [],
   "source": [
    "def param(deltaT,ave_T):\n",
    "    def f(x):\n",
    "        return 1/2*deltaT * np.sin((2 * np.pi) / 24 * x) + 1/2*deltaT\n",
    "    area, error = quad(f, 0, 24)\n",
    "    H = area/12\n",
    "    pente = np.pi/24 * deltaT\n",
    "    trise = deltaT/pente\n",
    "    tfall = trise\n",
    "    tstay = (24-trise-tfall)/2\n",
    "    print(\"Set the beginning temperature at\",ave_T-1/2*deltaT,\"℃\")\n",
    "    print(\"Set the temperature rising from\",ave_T-1/2*deltaT,\"℃ to\",ave_T+1/2*deltaT,\"℃ for\",trise,\"hours\")\n",
    "    print(\"Set the temperature staying at\",ave_T+1/2*deltaT,\"℃ for\",tstay,\"hours\")\n",
    "    print(\"Set the temperature falling from\",ave_T+1/2*deltaT,\"℃ to\",ave_T-1/2*deltaT,\"℃ for\",tfall,\"hours\")\n",
    "    print(\"Set the temperature staying at\",ave_T-1/2*deltaT,\"℃ for\",tstay,\"hours\")\n",
    "    print(\"This is the end of a cycle.\")"
   ]
  },
  {
   "cell_type": "code",
   "execution_count": 73,
   "metadata": {},
   "outputs": [
    {
     "name": "stdout",
     "output_type": "stream",
     "text": [
      "Set the beginning temperature at 15.0 ℃\n",
      "Set the temperature rising from 15.0 ℃ to 25.0 ℃ for 7.639437268410977 hours\n",
      "Set the temperature staying at 25.0 ℃ for 4.360562731589024 hours\n",
      "Set the temperature falling from 25.0 ℃ to 15.0 ℃ for 7.639437268410977 hours\n",
      "Set the temperature staying at 15.0 ℃ for 4.360562731589024 hours\n",
      "This is the end of a cycle.\n"
     ]
    }
   ],
   "source": [
    "param(10,20) #param(temperature diffenrence, average temperature)"
   ]
  },
  {
   "cell_type": "code",
   "execution_count": 75,
   "metadata": {},
   "outputs": [],
   "source": [
    "def param25(deltaT):\n",
    "    def f(x):\n",
    "        return 1/2*deltaT * np.sin((2 * np.pi) / 24 * x) + 1/2*deltaT\n",
    "    area, error = quad(f, 0, 24)\n",
    "    H = area/12\n",
    "    pente = np.pi/24 * deltaT\n",
    "    trise = deltaT/pente\n",
    "    tfall = trise\n",
    "    tstay = (24-trise-tfall)/2\n",
    "    print(\"Set the beginning temperature at\",25,\"℃\")\n",
    "    print(\"Set the temperature falling from\",25,\"℃ to\",25-deltaT,\"℃ for\",trise,\"hours\")\n",
    "    print(\"Set the temperature staying at\",25-deltaT,\"℃ for\",tstay,\"hours\")\n",
    "    print(\"Set the temperature rising from\",25-deltaT,\"℃ to\",25,\"℃ for\",tfall,\"hours\")\n",
    "    print(\"Set the temperature staying at\",25,\"℃ for\",tstay,\"hours\")\n",
    "    print(\"This is the end of a cycle.\")"
   ]
  },
  {
   "cell_type": "code",
   "execution_count": 76,
   "metadata": {},
   "outputs": [
    {
     "name": "stdout",
     "output_type": "stream",
     "text": [
      "Set the beginning temperature at 25 ℃\n",
      "Set the temperature falling from 25 ℃ to 15 ℃ for 7.639437268410977 hours\n",
      "Set the temperature staying at 15 ℃ for 4.360562731589024 hours\n",
      "Set the temperature rising from 15 ℃ to 25 ℃ for 7.639437268410977 hours\n",
      "Set the temperature staying at 25 ℃ for 4.360562731589024 hours\n",
      "This is the end of a cycle.\n"
     ]
    }
   ],
   "source": [
    "param25(10)"
   ]
  },
  {
   "cell_type": "code",
   "execution_count": null,
   "metadata": {},
   "outputs": [],
   "source": []
  }
 ],
 "metadata": {
  "kernelspec": {
   "display_name": "Alice",
   "language": "python",
   "name": "python3"
  },
  "language_info": {
   "codemirror_mode": {
    "name": "ipython",
    "version": 3
   },
   "file_extension": ".py",
   "mimetype": "text/x-python",
   "name": "python",
   "nbconvert_exporter": "python",
   "pygments_lexer": "ipython3",
   "version": "3.10.9"
  }
 },
 "nbformat": 4,
 "nbformat_minor": 2
}
